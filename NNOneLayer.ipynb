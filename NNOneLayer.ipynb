{
  "nbformat": 4,
  "nbformat_minor": 0,
  "metadata": {
    "colab": {
      "name": "Copy of Copy of Copy of Welcome To Colaboratory",
      "provenance": [],
      "collapsed_sections": [],
      "include_colab_link": true
    },
    "kernelspec": {
      "display_name": "Python 3",
      "name": "python3"
    }
  },
  "cells": [
    {
      "cell_type": "markdown",
      "metadata": {
        "id": "view-in-github",
        "colab_type": "text"
      },
      "source": [
        "<a href=\"https://colab.research.google.com/github/ImmortalizedInHearts/NeuralNetwork/blob/main/NeuralNetwork.ipynb\" target=\"_parent\"><img src=\"https://colab.research.google.com/assets/colab-badge.svg\" alt=\"Open In Colab\"/></a>"
      ]
    },
    {
      "cell_type": "code",
      "metadata": {
        "id": "cX3ofqbQeOh0"
      },
      "source": [
        "import numpy as np\n",
        "import scipy.io\n",
        "import matplotlib.pyplot as plt\n",
        "\n",
        "from tqdm import tqdm"
      ],
      "execution_count": 174,
      "outputs": []
    },
    {
      "cell_type": "code",
      "metadata": {
        "id": "HjRmsCHENqzT"
      },
      "source": [
        "mat = scipy.io.loadmat('data.mat')\n",
        "trainInputs = np.array(mat['data']['test'][0][0][0][0][0])\n",
        "trainTargets = np.array(mat['data']['test'][0][0][0][0][1])\n",
        "\n",
        "testInputs = np.array(mat['data']['training'][0][0][0][0][0])\n",
        "testTargets = np.array(mat['data']['training'][0][0][0][0][1])\n",
        "\n",
        "validationInputs = np.array(mat['data']['validation'][0][0][0][0][1])\n",
        "validationTargets = np.array(mat['data']['validation'][0][0][0][0][0])"
      ],
      "execution_count": 175,
      "outputs": []
    },
    {
      "cell_type": "code",
      "metadata": {
        "id": "9waoOzG9fKZp"
      },
      "source": [
        "def sigmoid(x):\n",
        "  return 1 / (1 + np.exp(-x))\n",
        "\n",
        "def softmax(x):\n",
        "  return np.exp(x) / np.sum(np.exp(x), axis=0)\n",
        "\n",
        "def crossEntropyLoss(y_true, y_pred, k):\n",
        "  #loss = -y_true * np.log(y_pred + 1e-15)\n",
        "  #return np.sum(loss) / len(y_true)\n",
        "  loss = -y_true[y_true == 1] @ np.log(y_pred[y_true == 1])\n",
        "  return (loss + NN.l1 * np.abs(k).mean()) / len(y_true)\n",
        "\n",
        "def targetsSearch(data):\n",
        "  predict = NN.feedforward(data)\n",
        "  return [np.argmax(item) for item in predict.T]"
      ],
      "execution_count": 180,
      "outputs": []
    },
    {
      "cell_type": "code",
      "metadata": {
        "id": "Ggg5DU4Ofy-0"
      },
      "source": [
        "class NeuralNetwork:\n",
        "\n",
        "  def __init__(self, k):\n",
        "\n",
        "    self.k = k\n",
        "\n",
        "    self.loss = list()\n",
        "\n",
        "    self.l1 = 0.1\n",
        "  \n",
        "  def feedforward(self, data):\n",
        "    y = softmax(self.k @ data)\n",
        "    return y\n",
        "  \n",
        "  def train(self, data, y_true):\n",
        "    alpha = 0.0001\n",
        "    epochs = 1000\n",
        "\n",
        "    for epoch in tqdm(range(epochs)):\n",
        "\n",
        "      \"\"\"backprop\"\"\"\n",
        "\n",
        "      predict = self.feedforward(data)\n",
        "\n",
        "      dL_dk = (predict - y_true) @ data.T\n",
        "\n",
        "      self.k -= alpha * (dL_dk + self.l1 * np.sign(self.k))\n",
        "\n",
        "      self.loss.append(crossEntropyLoss(y_true.T, predict.T, self.k))"
      ],
      "execution_count": 197,
      "outputs": []
    },
    {
      "cell_type": "code",
      "metadata": {
        "id": "IwhxyDtqhNXy"
      },
      "source": [
        "kParameters = np.zeros((10, 256))\n",
        "NN = NeuralNetwork(kParameters)\n",
        "NN.train(trainInputs, trainTargets)"
      ],
      "execution_count": null,
      "outputs": []
    },
    {
      "cell_type": "code",
      "metadata": {
        "id": "4BRHHNms89Do"
      },
      "source": [
        "confMatrixTest = [[0 for i in range(10)] for j in range(10)]\n",
        "confMatrixTrain = [[0 for i in range(10)] for j in range(10)]\n",
        "confMatrixValidation = [[0 for i in range(10)] for j in range(10)]\n",
        "\n",
        "testPredictions = targetsSearch(testInputs)\n",
        "validationPredictions = targetsSearch(validationInputs)\n",
        "trainPredictions = targetsSearch(trainInputs)\n",
        "\n",
        "\n",
        "for index in range(len(trainPredictions)):\n",
        "  if index < 1000:\n",
        "    confMatrixTest[np.argmax(testTargets.T[index])][testPredictions[index]] += 1\n",
        "    confMatrixValidation[np.argmax(validationTargets.T[index])][validationPredictions[index]] += 1\n",
        "  confMatrixTrain[np.argmax(trainTargets.T[index])][trainPredictions[index]] += 1"
      ],
      "execution_count": 199,
      "outputs": []
    },
    {
      "cell_type": "code",
      "metadata": {
        "id": "fsFaD0N9htuH",
        "outputId": "a86da2fa-b4b3-4aaf-fb74-c7b5ed6e3630",
        "colab": {
          "base_uri": "https://localhost:8080/"
        }
      },
      "source": [
        "print(np.mean([confMatrixTest[i][i] for i in range(10)]))\n",
        "confMatrixTest"
      ],
      "execution_count": 200,
      "outputs": [
        {
          "output_type": "stream",
          "text": [
            "92.4\n"
          ],
          "name": "stdout"
        },
        {
          "output_type": "execute_result",
          "data": {
            "text/plain": [
              "[[94, 1, 0, 0, 1, 0, 0, 1, 3, 0],\n",
              " [1, 97, 0, 0, 0, 0, 0, 0, 2, 0],\n",
              " [0, 0, 92, 0, 0, 1, 3, 1, 3, 0],\n",
              " [2, 0, 0, 93, 0, 3, 0, 0, 1, 1],\n",
              " [1, 2, 0, 0, 88, 0, 3, 1, 0, 5],\n",
              " [2, 1, 1, 5, 2, 89, 0, 0, 0, 0],\n",
              " [2, 2, 0, 0, 0, 0, 96, 0, 0, 0],\n",
              " [0, 0, 0, 0, 0, 0, 0, 95, 0, 5],\n",
              " [0, 2, 1, 3, 1, 1, 0, 3, 89, 0],\n",
              " [0, 1, 0, 0, 3, 0, 0, 4, 1, 91]]"
            ]
          },
          "metadata": {
            "tags": []
          },
          "execution_count": 200
        }
      ]
    },
    {
      "cell_type": "code",
      "metadata": {
        "id": "2zpwu7vwEpOK",
        "outputId": "d911d46b-1c61-46cc-8d66-fb716daf4582",
        "colab": {
          "base_uri": "https://localhost:8080/"
        }
      },
      "source": [
        "print(np.mean([confMatrixValidation[i][i] for i in range(10)]))\n",
        "confMatrixValidation"
      ],
      "execution_count": 201,
      "outputs": [
        {
          "output_type": "stream",
          "text": [
            "92.5\n"
          ],
          "name": "stdout"
        },
        {
          "output_type": "execute_result",
          "data": {
            "text/plain": [
              "[[96, 0, 0, 0, 2, 0, 2, 0, 0, 0],\n",
              " [1, 93, 0, 1, 2, 0, 0, 0, 3, 0],\n",
              " [1, 0, 89, 2, 1, 1, 1, 0, 5, 0],\n",
              " [0, 0, 3, 89, 0, 5, 0, 1, 1, 1],\n",
              " [1, 1, 0, 0, 91, 0, 5, 0, 0, 2],\n",
              " [1, 1, 0, 1, 0, 90, 1, 1, 4, 1],\n",
              " [2, 3, 1, 0, 1, 0, 93, 0, 0, 0],\n",
              " [0, 1, 1, 0, 0, 0, 0, 94, 0, 4],\n",
              " [0, 1, 1, 1, 1, 0, 0, 0, 96, 0],\n",
              " [0, 0, 0, 1, 3, 0, 0, 2, 0, 94]]"
            ]
          },
          "metadata": {
            "tags": []
          },
          "execution_count": 201
        }
      ]
    },
    {
      "cell_type": "code",
      "metadata": {
        "id": "f34beqUFoSfT",
        "outputId": "17d4f5a6-a5af-408c-d7a1-cf9aec7bc84b",
        "colab": {
          "base_uri": "https://localhost:8080/"
        }
      },
      "source": [
        "print(np.mean([confMatrixTrain[i][i] for i in range(10)]))\n",
        "confMatrixTrain"
      ],
      "execution_count": 202,
      "outputs": [
        {
          "output_type": "stream",
          "text": [
            "845.0\n"
          ],
          "name": "stdout"
        },
        {
          "output_type": "execute_result",
          "data": {
            "text/plain": [
              "[[871, 2, 5, 1, 7, 4, 6, 0, 4, 0],\n",
              " [2, 852, 2, 8, 9, 0, 6, 3, 17, 1],\n",
              " [10, 5, 827, 2, 6, 6, 16, 11, 16, 1],\n",
              " [5, 2, 14, 823, 0, 26, 4, 8, 11, 7],\n",
              " [2, 17, 2, 0, 848, 0, 12, 1, 1, 17],\n",
              " [9, 1, 2, 20, 4, 841, 3, 4, 11, 5],\n",
              " [4, 14, 3, 1, 10, 3, 865, 0, 0, 0],\n",
              " [1, 3, 0, 0, 5, 1, 0, 866, 3, 21],\n",
              " [7, 19, 9, 9, 6, 26, 4, 1, 803, 16],\n",
              " [1, 7, 0, 0, 12, 2, 0, 19, 5, 854]]"
            ]
          },
          "metadata": {
            "tags": []
          },
          "execution_count": 202
        }
      ]
    },
    {
      "cell_type": "code",
      "metadata": {
        "id": "lceJLsu5GcGQ",
        "outputId": "d2a656ff-8eac-4bfd-bfa2-bd888b26a5e4",
        "colab": {
          "base_uri": "https://localhost:8080/",
          "height": 281
        }
      },
      "source": [
        "plt.plot(NN.loss, label='loss')\n",
        "plt.legend()"
      ],
      "execution_count": 203,
      "outputs": [
        {
          "output_type": "execute_result",
          "data": {
            "text/plain": [
              "<matplotlib.legend.Legend at 0x7f3c4127e1d0>"
            ]
          },
          "metadata": {
            "tags": []
          },
          "execution_count": 203
        },
        {
          "output_type": "display_data",
          "data": {
            "image/png": "[encoded data removed]",
            "text/plain": [
              "<Figure size 432x288 with 1 Axes>"
            ]
          },
          "metadata": {
            "tags": [],
            "needs_background": "light"
          }
        }
      ]
    },
    {
      "cell_type": "code",
      "metadata": {
        "id": "F4ZizuVcmrRF"
      },
      "source": [
        ""
      ],
      "execution_count": null,
      "outputs": []
    }
  ]
}
