{
  "nbformat": 4,
  "nbformat_minor": 0,
  "metadata": {
    "colab": {
      "name": "Copy of Copy of Copy of Welcome To Colaboratory",
      "provenance": [],
      "collapsed_sections": [],
      "include_colab_link": true
    },
    "kernelspec": {
      "display_name": "Python 3",
      "name": "python3"
    }
  },
  "cells": [
    {
      "cell_type": "markdown",
      "metadata": {
        "id": "view-in-github",
        "colab_type": "text"
      },
      "source": [
        "<a href=\"https://colab.research.google.com/github/ImmortalizedInHearts/NeuralNetwork/blob/main/123.ipynb\" target=\"_parent\"><img src=\"https://colab.research.google.com/assets/colab-badge.svg\" alt=\"Open In Colab\"/></a>"
      ]
    },
    {
      "cell_type": "code",
      "metadata": {
        "id": "cX3ofqbQeOh0"
      },
      "source": [
        "import numpy as np\n",
        "import scipy.io\n",
        "import matplotlib.pyplot as plt\n",
        "\n",
        "from tqdm import tqdm"
      ],
      "execution_count": 1,
      "outputs": []
    },
    {
      "cell_type": "code",
      "metadata": {
        "id": "HjRmsCHENqzT"
      },
      "source": [
        "mat = scipy.io.loadmat('data.mat')\n",
        "trainInputs = np.array(mat['data']['test'][0][0][0][0][0])\n",
        "trainTargets = np.array(mat['data']['test'][0][0][0][0][1])\n",
        "\n",
        "testInputs = np.array(mat['data']['training'][0][0][0][0][0])\n",
        "testTargets = np.array(mat['data']['training'][0][0][0][0][1])\n",
        "\n",
        "validationInputs = np.array(mat['data']['validation'][0][0][0][0][1])\n",
        "validationTargets = np.array(mat['data']['validation'][0][0][0][0][0])\n",
        "\n",
        "x_train = trainInputs\n",
        "y_train = trainTargets\n",
        "\n",
        "x_test = testInputs\n",
        "y_test = testTargets"
      ],
      "execution_count": 8,
      "outputs": []
    },
    {
      "cell_type": "code",
      "metadata": {
        "id": "9waoOzG9fKZp"
      },
      "source": [
        "def forward(nn, inputs):\n",
        "    x = inputs\n",
        "    for l in nn:\n",
        "        x = l.forward(x)\n",
        "    return x\n",
        "\n",
        "def backward(nn, loss, prediction, target, learning_rate):\n",
        "    error = loss.forward(prediction, target)\n",
        "    derivative = loss.backward()\n",
        "\n",
        "    for l in reversed(nn):\n",
        "        derivative = l.backward(derivative, learning_rate)\n",
        "\n",
        "    return nn, error\n",
        "\n",
        "def train(nn, loss, x, y, learning_rate, num_iter):\n",
        "    losses = []\n",
        "\n",
        "    for i in tqdm(range(num_iter)):\n",
        "        p = forward(nn, x)\n",
        "        nn, error = backward(nn, loss, p, y, learning_rate)\n",
        "        losses.append(error)\n",
        "    \n",
        "    return nn, losses\n",
        "\n",
        "def accuracy(nn, x, y):\n",
        "    p = forward(nn, x)\n",
        "    return np.sum((np.argmax(p, 0) == np.argmax(y, 0))*1)/p.shape[1]*100"
      ],
      "execution_count": 9,
      "outputs": []
    },
    {
      "cell_type": "code",
      "metadata": {
        "id": "zUoFFtrGNqKK"
      },
      "source": [
        "class CrossEntropy:\n",
        "    def forward(self, prediction, targets):\n",
        "        loss = -np.sum(targets*np.log(prediction))\n",
        "        self._derivative = -targets/prediction\n",
        "        return loss\n",
        "    \n",
        "    def backward(self):\n",
        "        return self._derivative"
      ],
      "execution_count": 4,
      "outputs": []
    },
    {
      "cell_type": "code",
      "metadata": {
        "id": "Ggg5DU4Ofy-0"
      },
      "source": [
        "class BaseActivation:\n",
        "    def forward(self, x):\n",
        "        return x\n",
        "\n",
        "    def backward(self, grad):\n",
        "        return grad\n",
        "\n",
        "\n",
        "class Sigmoid(BaseActivation):\n",
        "    def forward(self, x):\n",
        "        self._y = 1. / (1. + np.exp(-x))\n",
        "        return self._y\n",
        "\n",
        "    def backward(self, grad):\n",
        "        derivative = self._y * (1 - self._y)\n",
        "        return derivative * grad\n",
        "\n",
        "\n",
        "class Softmax(BaseActivation):\n",
        "    def forward(self, x):\n",
        "        self._y = np.exp(x) / np.exp(x).sum(axis=1) [:,None]\n",
        "        return self._y\n",
        "\n",
        "    def backward(self, grad):\n",
        "        return self._y * (grad - (grad * self._y).sum(axis=1)[:, None])\n",
        "\n",
        "\n",
        "class Dense:\n",
        "    def __init__(self, input_size, output_size, activation=BaseActivation()):\n",
        "        self._activation = activation\n",
        "        self._input_size = input_size\n",
        "        self._output_size = output_size\n",
        "        self._w = np.random.randn(output_size, input_size) * np.sqrt(2/input_size)\n",
        "        self._b = np.random.randn(output_size, 1)\n",
        "\n",
        "    def forward(self, x):\n",
        "        self._x = x\n",
        "        z = self._w @ x + self._b\n",
        "        return self._activation.forward(z)\n",
        "\n",
        "    def backward(self, grad, learning_rate):\n",
        "        \n",
        "        dy = self._activation.backward(grad)\n",
        "        \n",
        "        dx = self._w.T @ dy\n",
        "        dw = dy @ self._x.T\n",
        "        db = np.sum(dy, axis=1).reshape((self._output_size, 1))\n",
        "\n",
        "        self._w -= learning_rate * dw / self._x.shape[1]\n",
        "        self._b -= learning_rate * db / self._x.shape[1]\n",
        " \n",
        "        return dx"
      ],
      "execution_count": 5,
      "outputs": []
    },
    {
      "cell_type": "code",
      "metadata": {
        "id": "IwhxyDtqhNXy",
        "outputId": "4d826ec3-75e5-4096-e82a-076186a1bf73",
        "colab": {
          "base_uri": "https://localhost:8080/"
        }
      },
      "source": [
        "nn = [Dense(256, 128, Sigmoid()), \n",
        "      Dense(128, 10,  Softmax())]\n",
        "\n",
        "loss = CrossEntropy()\n",
        "\n",
        "learning_rate = 0.75\n",
        "num_iter = 2000\n",
        "\n",
        "nn, losses = train(nn, loss, x_train, y_train, learning_rate, num_iter)\n",
        "\n"
      ],
      "execution_count": 21,
      "outputs": [
        {
          "output_type": "stream",
          "text": [
            "100%|██████████| 2000/2000 [04:56<00:00,  6.74it/s]\n"
          ],
          "name": "stderr"
        }
      ]
    },
    {
      "cell_type": "code",
      "metadata": {
        "id": "4BRHHNms89Do",
        "outputId": "a5864358-e4fb-4eec-dd68-8601f1832836",
        "colab": {
          "base_uri": "https://localhost:8080/",
          "height": 284
        }
      },
      "source": [
        "plt.plot(losses[10:])\n",
        "plt.show()\n",
        "\n",
        "print(\"accuracy = \", accuracy(nn, x_test, y_test))"
      ],
      "execution_count": 22,
      "outputs": [
        {
          "output_type": "display_data",
          "data": {
            "image/png": "[encoded data removed]",
            "text/plain": [
              "<Figure size 432x288 with 1 Axes>"
            ]
          },
          "metadata": {
            "tags": [],
            "needs_background": "light"
          }
        },
        {
          "output_type": "stream",
          "text": [
            "accuracy =  96.2\n"
          ],
          "name": "stdout"
        }
      ]
    },
    {
      "cell_type": "code",
      "metadata": {
        "id": "TopXqe6WRvkt"
      },
      "source": [
        ""
      ],
      "execution_count": null,
      "outputs": []
    }
  ]
}