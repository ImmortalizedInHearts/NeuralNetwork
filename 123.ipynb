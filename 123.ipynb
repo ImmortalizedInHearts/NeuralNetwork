{
  "nbformat": 4,
  "nbformat_minor": 0,
  "metadata": {
    "colab": {
      "name": "Copy of Copy of Copy of Welcome To Colaboratory",
      "provenance": [],
      "collapsed_sections": [],
      "include_colab_link": true
    },
    "kernelspec": {
      "display_name": "Python 3",
      "name": "python3"
    }
  },
  "cells": [
    {
      "cell_type": "markdown",
      "metadata": {
        "id": "view-in-github",
        "colab_type": "text"
      },
      "source": [
        "<a href=\"https://colab.research.google.com/github/ImmortalizedInHearts/NeuralNetwork/blob/main/123.ipynb\" target=\"_parent\"><img src=\"https://colab.research.google.com/assets/colab-badge.svg\" alt=\"Open In Colab\"/></a>"
      ]
    },
    {
      "cell_type": "code",
      "metadata": {
        "id": "cX3ofqbQeOh0"
      },
      "source": [
        "import numpy as np\n",
        "import scipy.io\n",
        "import matplotlib.pyplot as plt\n",
        "#from scipy.special import softmax\n",
        "\n",
        "from tqdm import tqdm"
      ],
      "execution_count": 11,
      "outputs": []
    },
    {
      "cell_type": "code",
      "metadata": {
        "id": "HjRmsCHENqzT"
      },
      "source": [
        "mat = scipy.io.loadmat('data.mat')\n",
        "trainInputs = np.array(mat['data']['test'][0][0][0][0][0])\n",
        "trainTargets = np.array(mat['data']['test'][0][0][0][0][1])\n",
        "\n",
        "testInputs = np.array(mat['data']['training'][0][0][0][0][0])\n",
        "testTargets = np.array(mat['data']['training'][0][0][0][0][1])\n",
        "\n",
        "validationInputs = np.array(mat['data']['validation'][0][0][0][0][1])\n",
        "validationTargets = np.array(mat['data']['validation'][0][0][0][0][0])"
      ],
      "execution_count": 6,
      "outputs": []
    },
    {
      "cell_type": "code",
      "metadata": {
        "id": "9waoOzG9fKZp"
      },
      "source": [
        "def sigmoid(x):\n",
        "  return 1 / (1 + np.exp(-x))\n",
        "\n",
        "def stablesoftmax(x):\n",
        "  \"\"\"Compute the softmax of vector x in a numerically stable way.\"\"\"\n",
        "  exps = np.exp(x)\n",
        "  return exps / np.sum(exps) \n",
        "  \n",
        "def derivSigmoid(x):\n",
        "  return x * (1 - x)\n",
        "\n",
        "def crossEntropyLoss(y_true, y_pred):\n",
        "  loss = y_true[y_true == 1] @ np.log(y_pred[y_true == 1])\n",
        "  return -loss / len(y_true)\n",
        "\n",
        "def targetsSearch(data):\n",
        "  predict = network.feedforward(data).T\n",
        "  return np.array([np.argmax(x) for x in predict])"
      ],
      "execution_count": 111,
      "outputs": []
    },
    {
      "cell_type": "code",
      "metadata": {
        "id": "Ggg5DU4Ofy-0"
      },
      "source": [
        "class NeuralNetwork:\n",
        "  def __init__(self, k):\n",
        "    # weights\n",
        "    self.k = k\n",
        "\n",
        "    # loss\n",
        "    self.loss = list()\n",
        "    \n",
        "  def feedforward(self, data):\n",
        "    h1 = stablesoftmax(self.k @ data)\n",
        "    #h2 = softmax((self.k[1] @ h1)) \n",
        "    return h1#, h2)\n",
        "\n",
        "  def train(self, data, y_true):\n",
        "        \n",
        "        alpha = 0.0001\n",
        "        epochs = 50\n",
        " \n",
        "        for epoch in tqdm(range(epochs)):\n",
        "            \"\"\" backprop \"\"\"\n",
        "\n",
        "            forward = self.feedforward(data)\n",
        "\n",
        "            # Neuron h1\n",
        "            h1 = forward\n",
        "            \n",
        "            dL_dy = h1 - y_true               # 10,9000\n",
        "            dL_dk = dL_dy @ data.T           # 10,256 \n",
        "\n",
        "            \"\"\" Weights and bias updating \"\"\"\n",
        "            # Neuron h1\n",
        "            self.k -= alpha * dL_dk\n",
        "\n",
        "            # Neuron h2\n",
        "            #self.k[1] -= alpha * dL_dk2\n",
        "\n",
        "            \"\"\" Loss calculation \"\"\"\n",
        "            self.loss.append(crossEntropyLoss(y_true.T, h1.T))\n",
        "            #alpha -= 0.0005/epochs "
      ],
      "execution_count": 122,
      "outputs": []
    },
    {
      "cell_type": "code",
      "metadata": {
        "id": "IwhxyDtqhNXy",
        "outputId": "6df3ede2-c16c-4b4d-e940-f2c91b356277",
        "colab": {
          "base_uri": "https://localhost:8080/"
        }
      },
      "source": [
        "kParameters = np.zeros((10,256))#, np.zeros((10,128))]\n",
        "                       \n",
        "confMatrixTest = [[0 for x in range(10)] for i in range(10)]\n",
        "confMatrixValidation = [[0 for x in range(10)] for i in range(10)]\n",
        "confMatrixTrain = [[0 for x in range(10)] for i in range(10)]\n",
        "\n",
        "network = NeuralNetwork(kParameters)\n",
        "network.train(trainInputs, trainTargets)"
      ],
      "execution_count": 123,
      "outputs": [
        {
          "output_type": "stream",
          "text": [
            "\n",
            "  0%|          | 0/50 [00:00<?, ?it/s]\u001b[A\n",
            " 10%|█         | 5/50 [00:00<00:00, 45.39it/s]\u001b[A\n",
            " 22%|██▏       | 11/50 [00:00<00:00, 48.84it/s]\u001b[A\n",
            " 34%|███▍      | 17/50 [00:00<00:00, 51.34it/s]\u001b[A\n",
            " 46%|████▌     | 23/50 [00:00<00:00, 53.28it/s]\u001b[A\n",
            " 60%|██████    | 30/50 [00:00<00:00, 55.67it/s]\u001b[A\n",
            " 74%|███████▍  | 37/50 [00:00<00:00, 57.49it/s]\u001b[A\n",
            " 86%|████████▌ | 43/50 [00:00<00:00, 56.79it/s]\u001b[A\n",
            "100%|██████████| 50/50 [00:00<00:00, 57.68it/s]\n"
          ],
          "name": "stderr"
        }
      ]
    },
    {
      "cell_type": "code",
      "metadata": {
        "id": "4BRHHNms89Do"
      },
      "source": [
        "testPredictions = targetsSearch(testInputs)\n",
        "validationPredictions = targetsSearch(validationInputs)\n",
        "trainPredictions = targetsSearch(trainInputs)\n",
        "\n",
        "\n",
        "for index in range(len(trainPredictions)):\n",
        "  if index < 1000:\n",
        "    confMatrixTest[np.argmax(testTargets.T[index])][testPredictions[index]] += 1\n",
        "    confMatrixValidation[np.argmax(validationTargets.T[index])][validationPredictions[index]] += 1\n",
        "  confMatrixTrain[np.argmax(trainTargets.T[index])][trainPredictions[index]] += 1"
      ],
      "execution_count": 124,
      "outputs": []
    },
    {
      "cell_type": "code",
      "metadata": {
        "id": "fN6FU0-SOzKv",
        "outputId": "80debff8-1ecf-49bb-b87a-eeb71e0c1a0c",
        "colab": {
          "base_uri": "https://localhost:8080/"
        }
      },
      "source": [
        "testPredictions\n",
        "network.k"
      ],
      "execution_count": 125,
      "outputs": [
        {
          "output_type": "execute_result",
          "data": {
            "text/plain": [
              "array([[5.58796475e-03, 1.24303312e-02, 2.72136049e-02, ...,\n",
              "        2.24690204e-02, 9.15586486e-03, 5.68379213e-04],\n",
              "       [1.30586711e-02, 1.13744350e-01, 2.01135859e-01, ...,\n",
              "        1.83116763e-01, 1.06430767e-01, 1.30586629e-02],\n",
              "       [4.11566943e-02, 1.12136553e-01, 2.29900673e-01, ...,\n",
              "        4.88096892e-01, 4.93371707e-01, 1.93019374e-01],\n",
              "       ...,\n",
              "       [1.77941031e-01, 4.74058325e-01, 5.48509019e-01, ...,\n",
              "        1.28391502e-01, 1.09921074e-01, 3.55096535e-02],\n",
              "       [6.05864359e-03, 3.36264909e-02, 1.03449113e-01, ...,\n",
              "        8.18419918e-02, 3.00776876e-02, 3.37236314e-03],\n",
              "       [5.86574456e-05, 6.84251920e-03, 3.94891261e-02, ...,\n",
              "        2.56567679e-01, 2.27077775e-01, 7.69409952e-02]])"
            ]
          },
          "metadata": {
            "tags": []
          },
          "execution_count": 125
        }
      ]
    },
    {
      "cell_type": "code",
      "metadata": {
        "id": "fsFaD0N9htuH",
        "outputId": "ca85502c-8555-4ca5-8fef-51b5d973ccba",
        "colab": {
          "base_uri": "https://localhost:8080/"
        }
      },
      "source": [
        "print(np.mean([confMatrixTest[i][i] for i in range(10)]))\n",
        "confMatrixTest"
      ],
      "execution_count": 126,
      "outputs": [
        {
          "output_type": "stream",
          "text": [
            "49.6\n"
          ],
          "name": "stdout"
        },
        {
          "output_type": "execute_result",
          "data": {
            "text/plain": [
              "[[98, 2, 0, 0, 0, 0, 0, 0, 0, 0],\n",
              " [1, 85, 1, 2, 0, 0, 3, 0, 8, 0],\n",
              " [31, 9, 40, 6, 0, 0, 7, 0, 6, 1],\n",
              " [23, 2, 0, 67, 0, 0, 1, 0, 7, 0],\n",
              " [18, 38, 0, 0, 13, 0, 2, 0, 1, 28],\n",
              " [59, 6, 0, 14, 0, 9, 1, 0, 9, 2],\n",
              " [63, 6, 0, 0, 0, 0, 31, 0, 0, 0],\n",
              " [16, 32, 1, 8, 0, 0, 0, 25, 0, 18],\n",
              " [14, 15, 0, 4, 0, 0, 0, 0, 63, 4],\n",
              " [8, 25, 0, 0, 0, 0, 0, 0, 2, 65]]"
            ]
          },
          "metadata": {
            "tags": []
          },
          "execution_count": 126
        }
      ]
    },
    {
      "cell_type": "code",
      "metadata": {
        "id": "2zpwu7vwEpOK",
        "outputId": "b1ea3687-e0a7-407f-98d4-5dcd2eb5343f",
        "colab": {
          "base_uri": "https://localhost:8080/"
        }
      },
      "source": [
        "print(np.mean([confMatrixValidation[i][i] for i in range(10)]))\n",
        "confMatrixValidation"
      ],
      "execution_count": 127,
      "outputs": [
        {
          "output_type": "stream",
          "text": [
            "49.9\n"
          ],
          "name": "stdout"
        },
        {
          "output_type": "execute_result",
          "data": {
            "text/plain": [
              "[[99, 1, 0, 0, 0, 0, 0, 0, 0, 0],\n",
              " [1, 80, 1, 6, 0, 0, 1, 0, 11, 0],\n",
              " [30, 12, 42, 3, 0, 0, 4, 0, 9, 0],\n",
              " [24, 0, 0, 73, 0, 0, 1, 0, 2, 0],\n",
              " [23, 35, 0, 0, 13, 0, 6, 0, 1, 22],\n",
              " [56, 1, 0, 17, 0, 8, 1, 0, 16, 1],\n",
              " [58, 11, 0, 0, 0, 0, 30, 0, 1, 0],\n",
              " [19, 34, 1, 8, 0, 0, 0, 20, 0, 18],\n",
              " [12, 10, 0, 1, 0, 0, 0, 0, 70, 7],\n",
              " [9, 25, 0, 1, 0, 0, 0, 0, 1, 64]]"
            ]
          },
          "metadata": {
            "tags": []
          },
          "execution_count": 127
        }
      ]
    },
    {
      "cell_type": "code",
      "metadata": {
        "id": "f34beqUFoSfT",
        "outputId": "8056311c-a3e9-4f59-9390-ec3eb1a21980",
        "colab": {
          "base_uri": "https://localhost:8080/"
        }
      },
      "source": [
        "print(np.mean([confMatrixTrain[i][i] for i in range(10)]))\n",
        "confMatrixTrain"
      ],
      "execution_count": 128,
      "outputs": [
        {
          "output_type": "stream",
          "text": [
            "470.9\n"
          ],
          "name": "stdout"
        },
        {
          "output_type": "execute_result",
          "data": {
            "text/plain": [
              "[[892, 5, 0, 0, 0, 0, 3, 0, 0, 0],\n",
              " [14, 765, 4, 20, 0, 0, 13, 0, 83, 1],\n",
              " [296, 91, 394, 18, 0, 0, 55, 0, 43, 3],\n",
              " [169, 17, 3, 673, 0, 0, 8, 0, 25, 5],\n",
              " [117, 307, 0, 1, 134, 0, 43, 0, 18, 280],\n",
              " [541, 19, 1, 158, 0, 82, 8, 0, 85, 6],\n",
              " [495, 61, 0, 0, 0, 0, 342, 0, 1, 1],\n",
              " [151, 279, 2, 44, 0, 0, 0, 220, 7, 197],\n",
              " [116, 127, 1, 41, 0, 0, 4, 0, 566, 45],\n",
              " [49, 184, 0, 9, 0, 0, 0, 0, 17, 641]]"
            ]
          },
          "metadata": {
            "tags": []
          },
          "execution_count": 128
        }
      ]
    },
    {
      "cell_type": "code",
      "metadata": {
        "id": "lceJLsu5GcGQ",
        "outputId": "9a1f1f34-8d29-40c3-eb89-5ae05efbe74e",
        "colab": {
          "base_uri": "https://localhost:8080/",
          "height": 281
        }
      },
      "source": [
        "plt.plot(network.loss, label='loss')\n",
        "plt.legend()"
      ],
      "execution_count": 129,
      "outputs": [
        {
          "output_type": "execute_result",
          "data": {
            "text/plain": [
              "<matplotlib.legend.Legend at 0x7f3c40fa74a8>"
            ]
          },
          "metadata": {
            "tags": []
          },
          "execution_count": 129
        },
        {
          "output_type": "display_data",
          "data": {
            "image/png": "[encoded data removed]",
            "text/plain": [
              "<Figure size 432x288 with 1 Axes>"
            ]
          },
          "metadata": {
            "tags": [],
            "needs_background": "light"
          }
        }
      ]
    },
    {
      "cell_type": "code",
      "metadata": {
        "id": "F4ZizuVcmrRF"
      },
      "source": [
        ""
      ],
      "execution_count": null,
      "outputs": []
    }
  ]
}