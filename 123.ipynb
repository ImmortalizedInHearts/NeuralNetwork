{
  "nbformat": 4,
  "nbformat_minor": 0,
  "metadata": {
    "colab": {
      "name": "Copy of Copy of Copy of Welcome To Colaboratory",
      "provenance": [],
      "collapsed_sections": [],
      "include_colab_link": true
    },
    "kernelspec": {
      "display_name": "Python 3",
      "name": "python3"
    }
  },
  "cells": [
    {
      "cell_type": "markdown",
      "metadata": {
        "id": "view-in-github",
        "colab_type": "text"
      },
      "source": [
        "<a href=\"https://colab.research.google.com/github/ImmortalizedInHearts/NeuralNetwork/blob/main/123.ipynb\" target=\"_parent\"><img src=\"https://colab.research.google.com/assets/colab-badge.svg\" alt=\"Open In Colab\"/></a>"
      ]
    },
    {
      "cell_type": "code",
      "metadata": {
        "id": "cX3ofqbQeOh0"
      },
      "source": [
        "import numpy as np\n",
        "import scipy.io\n",
        "import matplotlib.pyplot as plt\n",
        "\n",
        "from tqdm import tqdm"
      ],
      "execution_count": 160,
      "outputs": []
    },
    {
      "cell_type": "code",
      "metadata": {
        "id": "HjRmsCHENqzT"
      },
      "source": [
        "mat = scipy.io.loadmat('data.mat')\n",
        "trainInputs = np.array(mat['data']['test'][0][0][0][0][0])\n",
        "trainTargets = np.array(mat['data']['test'][0][0][0][0][1])\n",
        "\n",
        "testInputs = np.array(mat['data']['training'][0][0][0][0][0])\n",
        "testTargets = np.array(mat['data']['training'][0][0][0][0][1])\n",
        "\n",
        "validationInputs = np.array(mat['data']['validation'][0][0][0][0][1])\n",
        "validationTargets = np.array(mat['data']['validation'][0][0][0][0][0])"
      ],
      "execution_count": 169,
      "outputs": []
    },
    {
      "cell_type": "code",
      "metadata": {
        "id": "9waoOzG9fKZp"
      },
      "source": [
        "def sigmoid(x):\n",
        "  return 1 / (1 + np.exp(-x))\n",
        "\n",
        "def crossEntropyLoss(y_true, y_pred):\n",
        "  loss = -y_true * np.log(y_pred + 1e-15)\n",
        "  return np.sum(loss) / len(y_true)\n",
        "\n",
        "def targetsSearch(data):\n",
        "  predict = NN.feedforward(data)\n",
        "  return [np.argmax(item) for item in predict.T]"
      ],
      "execution_count": 170,
      "outputs": []
    },
    {
      "cell_type": "code",
      "metadata": {
        "id": "Ggg5DU4Ofy-0"
      },
      "source": [
        "class NeuralNetwork:\n",
        "\n",
        "  def __init__(self, k):\n",
        "\n",
        "    self.k = k\n",
        "\n",
        "    self.loss = list()\n",
        "  \n",
        "  def feedforward(self, data):\n",
        "    y = sigmoid(self.k @ data)\n",
        "    return y\n",
        "  \n",
        "  def train(self, data, y_true):\n",
        "    alpha = 0.01\n",
        "    epochs = 2000\n",
        "\n",
        "    for epoch in tqdm(range(epochs)):\n",
        "\n",
        "      \"\"\"backprop\"\"\"\n",
        "\n",
        "      predict = self.feedforward(data)\n",
        "\n",
        "      dL_dk = (predict - y_true) @ data.T\n",
        "\n",
        "      self.k -= alpha * dL_dk\n",
        "\n",
        "      self.loss.append(crossEntropyLoss(y_true.T, predict.T))"
      ],
      "execution_count": 171,
      "outputs": []
    },
    {
      "cell_type": "code",
      "metadata": {
        "id": "IwhxyDtqhNXy",
        "outputId": "7424e239-d693-4393-e55d-e9e72167a197",
        "colab": {
          "base_uri": "https://localhost:8080/",
          "height": 1000
        }
      },
      "source": [
        "kParameters = np.random.random_sample((10, 256))\n",
        "NN = NeuralNetwork(kParameters)\n",
        "NN.train(trainInputs, trainTargets)\n"
      ],
      "execution_count": 172,
      "outputs": [
        {
          "output_type": "stream",
          "text": [
            "\n",
            "  0%|          | 0/2000 [00:00<?, ?it/s]\u001b[A/usr/local/lib/python3.6/dist-packages/ipykernel_launcher.py:2: RuntimeWarning: overflow encountered in exp\n",
            "  \n",
            "\n",
            "  0%|          | 5/2000 [00:00<00:42, 46.77it/s]\u001b[A\n",
            "  0%|          | 10/2000 [00:00<00:42, 47.18it/s]\u001b[A\n",
            "  1%|          | 15/2000 [00:00<00:42, 46.50it/s]\u001b[A\n",
            "  1%|          | 20/2000 [00:00<00:41, 47.29it/s]\u001b[A\n",
            "  1%|          | 24/2000 [00:00<00:44, 44.72it/s]\u001b[A\n",
            "  1%|▏         | 29/2000 [00:00<00:43, 45.69it/s]\u001b[A\n",
            "  2%|▏         | 34/2000 [00:00<00:42, 46.17it/s]\u001b[A\n",
            "  2%|▏         | 39/2000 [00:00<00:42, 46.58it/s]\u001b[A\n",
            "  2%|▏         | 44/2000 [00:00<00:42, 46.40it/s]\u001b[A\n",
            "  2%|▏         | 49/2000 [00:01<00:41, 47.01it/s]\u001b[A\n",
            "  3%|▎         | 54/2000 [00:01<00:41, 47.28it/s]\u001b[A\n",
            "  3%|▎         | 60/2000 [00:01<00:40, 48.36it/s]\u001b[A\n",
            "  3%|▎         | 65/2000 [00:01<00:40, 48.36it/s]\u001b[A\n",
            "  4%|▎         | 70/2000 [00:01<00:40, 47.93it/s]\u001b[A\n",
            "  4%|▍         | 75/2000 [00:01<00:41, 46.67it/s]\u001b[A\n",
            "  4%|▍         | 80/2000 [00:01<00:40, 47.15it/s]\u001b[A\n",
            "  4%|▍         | 85/2000 [00:01<00:40, 47.78it/s]\u001b[A\n",
            "  4%|▍         | 90/2000 [00:01<00:40, 47.73it/s]\u001b[A\n",
            "  5%|▍         | 95/2000 [00:02<00:39, 48.04it/s]\u001b[A\n",
            "  5%|▌         | 100/2000 [00:02<00:39, 48.46it/s]\u001b[A\n",
            "  5%|▌         | 105/2000 [00:02<00:39, 48.33it/s]\u001b[A\n",
            "  6%|▌         | 110/2000 [00:02<00:39, 48.29it/s]\u001b[A\n",
            "  6%|▌         | 115/2000 [00:02<00:39, 47.67it/s]\u001b[A\n",
            "  6%|▌         | 120/2000 [00:02<00:40, 46.64it/s]\u001b[A\n",
            "  6%|▋         | 125/2000 [00:02<00:41, 45.71it/s]\u001b[A\n",
            "  6%|▋         | 130/2000 [00:02<00:39, 46.76it/s]\u001b[A\n",
            "  7%|▋         | 135/2000 [00:02<00:39, 47.16it/s]\u001b[A\n",
            "  7%|▋         | 140/2000 [00:02<00:39, 47.17it/s]\u001b[A\n",
            "  7%|▋         | 145/2000 [00:03<00:38, 47.97it/s]\u001b[A\n",
            "  8%|▊         | 150/2000 [00:03<00:38, 47.63it/s]\u001b[A\n",
            "  8%|▊         | 155/2000 [00:03<00:38, 47.59it/s]\u001b[A\n",
            "  8%|▊         | 160/2000 [00:03<00:39, 46.66it/s]\u001b[A\n",
            "  8%|▊         | 165/2000 [00:03<00:39, 46.65it/s]\u001b[A\n",
            "  8%|▊         | 170/2000 [00:03<00:41, 43.93it/s]\u001b[A\n",
            "  9%|▉         | 175/2000 [00:03<00:40, 45.38it/s]\u001b[A\n",
            "  9%|▉         | 181/2000 [00:03<00:38, 46.93it/s]\u001b[A\n",
            "  9%|▉         | 186/2000 [00:03<00:38, 47.38it/s]\u001b[A\n",
            " 10%|▉         | 191/2000 [00:04<00:38, 47.53it/s]\u001b[A\n",
            " 10%|▉         | 196/2000 [00:04<00:37, 48.02it/s]\u001b[A\n",
            " 10%|█         | 202/2000 [00:04<00:36, 48.93it/s]\u001b[A\n",
            " 10%|█         | 207/2000 [00:04<00:36, 49.21it/s]\u001b[A\n",
            " 11%|█         | 212/2000 [00:04<00:37, 47.79it/s]\u001b[A\n",
            " 11%|█         | 217/2000 [00:04<00:38, 46.58it/s]\u001b[A\n",
            " 11%|█         | 222/2000 [00:04<00:38, 46.32it/s]\u001b[A\n",
            " 11%|█▏        | 228/2000 [00:04<00:37, 47.89it/s]\u001b[A\n",
            " 12%|█▏        | 233/2000 [00:04<00:38, 45.61it/s]\u001b[A\n",
            " 12%|█▏        | 238/2000 [00:05<00:37, 46.71it/s]\u001b[A\n",
            " 12%|█▏        | 243/2000 [00:05<00:36, 47.58it/s]\u001b[A\n",
            " 12%|█▏        | 248/2000 [00:05<00:37, 46.16it/s]\u001b[A\n",
            " 13%|█▎        | 253/2000 [00:05<00:37, 46.84it/s]\u001b[A\n",
            " 13%|█▎        | 258/2000 [00:05<00:36, 47.51it/s]\u001b[A\n",
            " 13%|█▎        | 263/2000 [00:05<00:36, 48.20it/s]\u001b[A\n",
            " 13%|█▎        | 268/2000 [00:05<00:38, 44.75it/s]\u001b[A\n",
            " 14%|█▎        | 273/2000 [00:05<00:37, 45.99it/s]\u001b[A\n",
            " 14%|█▍        | 278/2000 [00:05<00:37, 46.25it/s]\u001b[A\n",
            " 14%|█▍        | 283/2000 [00:06<00:36, 46.89it/s]\u001b[A\n",
            " 14%|█▍        | 288/2000 [00:06<00:36, 47.39it/s]\u001b[A\n",
            " 15%|█▍        | 293/2000 [00:06<00:35, 48.07it/s]\u001b[A\n",
            " 15%|█▍        | 298/2000 [00:06<00:35, 48.52it/s]\u001b[A\n",
            " 15%|█▌        | 303/2000 [00:06<00:35, 47.31it/s]\u001b[A\n",
            " 15%|█▌        | 308/2000 [00:06<00:35, 47.12it/s]\u001b[A\n",
            " 16%|█▌        | 313/2000 [00:06<00:36, 45.98it/s]\u001b[A\n",
            " 16%|█▌        | 318/2000 [00:06<00:36, 45.96it/s]\u001b[A\n",
            " 16%|█▌        | 323/2000 [00:06<00:36, 46.53it/s]\u001b[A\n",
            " 16%|█▋        | 329/2000 [00:06<00:34, 47.80it/s]\u001b[A\n",
            " 17%|█▋        | 335/2000 [00:07<00:34, 48.55it/s]\u001b[A\n",
            " 17%|█▋        | 340/2000 [00:07<00:34, 48.79it/s]\u001b[A\n",
            " 17%|█▋        | 346/2000 [00:07<00:33, 49.07it/s]\u001b[A\n",
            " 18%|█▊        | 352/2000 [00:07<00:33, 49.84it/s]\u001b[A\n",
            " 18%|█▊        | 357/2000 [00:07<00:33, 49.76it/s]\u001b[A\n",
            " 18%|█▊        | 362/2000 [00:07<00:34, 47.01it/s]\u001b[A\n",
            " 18%|█▊        | 367/2000 [00:07<00:36, 44.63it/s]\u001b[A\n",
            " 19%|█▊        | 372/2000 [00:07<00:35, 45.93it/s]\u001b[A\n",
            " 19%|█▉        | 377/2000 [00:07<00:34, 46.76it/s]\u001b[A\n",
            " 19%|█▉        | 383/2000 [00:08<00:33, 47.99it/s]\u001b[A\n",
            " 19%|█▉        | 389/2000 [00:08<00:33, 48.42it/s]\u001b[A\n",
            " 20%|█▉        | 394/2000 [00:08<00:32, 48.87it/s]\u001b[A\n",
            " 20%|██        | 400/2000 [00:08<00:32, 49.46it/s]\u001b[A\n",
            " 20%|██        | 405/2000 [00:08<00:32, 48.41it/s]\u001b[A\n",
            " 20%|██        | 410/2000 [00:08<00:33, 47.42it/s]\u001b[A\n",
            " 21%|██        | 415/2000 [00:08<00:33, 47.83it/s]\u001b[A\n",
            " 21%|██        | 420/2000 [00:08<00:33, 47.63it/s]\u001b[A\n",
            " 21%|██▏       | 425/2000 [00:08<00:33, 46.91it/s]\u001b[A\n",
            " 22%|██▏       | 430/2000 [00:09<00:33, 47.16it/s]\u001b[A\n",
            " 22%|██▏       | 435/2000 [00:09<00:32, 47.79it/s]\u001b[A\n",
            " 22%|██▏       | 440/2000 [00:09<00:32, 48.09it/s]\u001b[A\n",
            " 22%|██▏       | 445/2000 [00:09<00:32, 48.54it/s]\u001b[A\n",
            " 22%|██▎       | 450/2000 [00:09<00:32, 47.96it/s]\u001b[A\n",
            " 23%|██▎       | 455/2000 [00:09<00:31, 48.40it/s]\u001b[A\n",
            " 23%|██▎       | 460/2000 [00:09<00:33, 46.17it/s]\u001b[A\n",
            " 23%|██▎       | 465/2000 [00:09<00:33, 45.61it/s]\u001b[A\n",
            " 24%|██▎       | 471/2000 [00:09<00:32, 47.06it/s]\u001b[A\n",
            " 24%|██▍       | 476/2000 [00:10<00:32, 47.40it/s]\u001b[A\n",
            " 24%|██▍       | 481/2000 [00:10<00:31, 48.06it/s]\u001b[A\n",
            " 24%|██▍       | 486/2000 [00:10<00:32, 46.85it/s]\u001b[A\n",
            " 25%|██▍       | 492/2000 [00:10<00:31, 48.09it/s]\u001b[A\n",
            " 25%|██▍       | 497/2000 [00:10<00:31, 48.43it/s]\u001b[A\n",
            " 25%|██▌       | 502/2000 [00:10<00:30, 48.70it/s]\u001b[A\n",
            " 25%|██▌       | 507/2000 [00:10<00:32, 46.50it/s]\u001b[A\n",
            " 26%|██▌       | 513/2000 [00:10<00:31, 47.91it/s]\u001b[A\n",
            " 26%|██▌       | 518/2000 [00:10<00:30, 48.32it/s]\u001b[A\n",
            " 26%|██▌       | 523/2000 [00:11<00:30, 48.51it/s]\u001b[A\n",
            " 26%|██▋       | 529/2000 [00:11<00:29, 49.61it/s]\u001b[A\n",
            " 27%|██▋       | 534/2000 [00:11<00:29, 49.37it/s]\u001b[A\n",
            " 27%|██▋       | 540/2000 [00:11<00:29, 50.33it/s]\u001b[A\n",
            " 27%|██▋       | 546/2000 [00:11<00:28, 50.51it/s]\u001b[A\n",
            " 28%|██▊       | 552/2000 [00:11<00:28, 50.59it/s]\u001b[A\n",
            " 28%|██▊       | 558/2000 [00:11<00:29, 49.35it/s]\u001b[A\n",
            " 28%|██▊       | 563/2000 [00:11<00:29, 48.39it/s]\u001b[A\n",
            " 28%|██▊       | 568/2000 [00:11<00:30, 46.75it/s]\u001b[A\n",
            " 29%|██▊       | 573/2000 [00:12<00:30, 47.47it/s]\u001b[A\n",
            " 29%|██▉       | 578/2000 [00:12<00:30, 46.98it/s]\u001b[A\n",
            " 29%|██▉       | 584/2000 [00:12<00:29, 48.20it/s]\u001b[A\n",
            " 29%|██▉       | 589/2000 [00:12<00:29, 47.09it/s]\u001b[A\n",
            " 30%|██▉       | 595/2000 [00:12<00:29, 48.14it/s]\u001b[A\n",
            " 30%|███       | 601/2000 [00:12<00:28, 48.66it/s]\u001b[A\n",
            " 30%|███       | 606/2000 [00:12<00:29, 47.78it/s]\u001b[A\n",
            " 31%|███       | 612/2000 [00:12<00:28, 48.84it/s]\u001b[A\n",
            " 31%|███       | 617/2000 [00:12<00:28, 47.90it/s]\u001b[A\n",
            " 31%|███       | 623/2000 [00:13<00:28, 49.07it/s]\u001b[A\n",
            " 31%|███▏      | 629/2000 [00:13<00:27, 49.77it/s]\u001b[A\n",
            " 32%|███▏      | 635/2000 [00:13<00:27, 50.20it/s]\u001b[A\n",
            " 32%|███▏      | 641/2000 [00:13<00:27, 49.75it/s]\u001b[A\n",
            " 32%|███▏      | 646/2000 [00:13<00:27, 48.94it/s]\u001b[A\n",
            " 33%|███▎      | 652/2000 [00:13<00:27, 49.65it/s]\u001b[A\n",
            " 33%|███▎      | 657/2000 [00:13<00:28, 47.60it/s]\u001b[A\n",
            " 33%|███▎      | 662/2000 [00:13<00:28, 47.03it/s]\u001b[A\n",
            " 33%|███▎      | 668/2000 [00:13<00:27, 48.13it/s]\u001b[A\n",
            " 34%|███▎      | 673/2000 [00:14<00:27, 48.55it/s]\u001b[A"
          ],
          "name": "stderr"
        },
        {
          "output_type": "error",
          "ename": "KeyboardInterrupt",
          "evalue": "ignored",
          "traceback": [
            "\u001b[0;31m---------------------------------------------------------------------------\u001b[0m",
            "\u001b[0;31mKeyboardInterrupt\u001b[0m                         Traceback (most recent call last)",
            "\u001b[0;32m<ipython-input-172-7ec34a0103ac>\u001b[0m in \u001b[0;36m<module>\u001b[0;34m()\u001b[0m\n\u001b[1;32m      1\u001b[0m \u001b[0mkParameters\u001b[0m \u001b[0;34m=\u001b[0m \u001b[0mnp\u001b[0m\u001b[0;34m.\u001b[0m\u001b[0mrandom\u001b[0m\u001b[0;34m.\u001b[0m\u001b[0mrandom_sample\u001b[0m\u001b[0;34m(\u001b[0m\u001b[0;34m(\u001b[0m\u001b[0;36m10\u001b[0m\u001b[0;34m,\u001b[0m \u001b[0;36m256\u001b[0m\u001b[0;34m)\u001b[0m\u001b[0;34m)\u001b[0m\u001b[0;34m\u001b[0m\u001b[0;34m\u001b[0m\u001b[0m\n\u001b[1;32m      2\u001b[0m \u001b[0mNN\u001b[0m \u001b[0;34m=\u001b[0m \u001b[0mNeuralNetwork\u001b[0m\u001b[0;34m(\u001b[0m\u001b[0mkParameters\u001b[0m\u001b[0;34m)\u001b[0m\u001b[0;34m\u001b[0m\u001b[0;34m\u001b[0m\u001b[0m\n\u001b[0;32m----> 3\u001b[0;31m \u001b[0mNN\u001b[0m\u001b[0;34m.\u001b[0m\u001b[0mtrain\u001b[0m\u001b[0;34m(\u001b[0m\u001b[0mtrainInputs\u001b[0m\u001b[0;34m,\u001b[0m \u001b[0mtrainTargets\u001b[0m\u001b[0;34m)\u001b[0m\u001b[0;34m\u001b[0m\u001b[0;34m\u001b[0m\u001b[0m\n\u001b[0m",
            "\u001b[0;32m<ipython-input-171-2951f7a9eee0>\u001b[0m in \u001b[0;36mtrain\u001b[0;34m(self, data, y_true)\u001b[0m\n\u001b[1;32m     19\u001b[0m       \u001b[0;34m\"\"\"backprop\"\"\"\u001b[0m\u001b[0;34m\u001b[0m\u001b[0;34m\u001b[0m\u001b[0m\n\u001b[1;32m     20\u001b[0m \u001b[0;34m\u001b[0m\u001b[0m\n\u001b[0;32m---> 21\u001b[0;31m       \u001b[0mpredict\u001b[0m \u001b[0;34m=\u001b[0m \u001b[0mself\u001b[0m\u001b[0;34m.\u001b[0m\u001b[0mfeedforward\u001b[0m\u001b[0;34m(\u001b[0m\u001b[0mdata\u001b[0m\u001b[0;34m)\u001b[0m\u001b[0;34m\u001b[0m\u001b[0;34m\u001b[0m\u001b[0m\n\u001b[0m\u001b[1;32m     22\u001b[0m \u001b[0;34m\u001b[0m\u001b[0m\n\u001b[1;32m     23\u001b[0m       \u001b[0mdL_dk\u001b[0m \u001b[0;34m=\u001b[0m \u001b[0;34m(\u001b[0m\u001b[0mpredict\u001b[0m \u001b[0;34m-\u001b[0m \u001b[0my_true\u001b[0m\u001b[0;34m)\u001b[0m \u001b[0;34m@\u001b[0m \u001b[0mdata\u001b[0m\u001b[0;34m.\u001b[0m\u001b[0mT\u001b[0m\u001b[0;34m\u001b[0m\u001b[0;34m\u001b[0m\u001b[0m\n",
            "\u001b[0;32m<ipython-input-171-2951f7a9eee0>\u001b[0m in \u001b[0;36mfeedforward\u001b[0;34m(self, data)\u001b[0m\n\u001b[1;32m      8\u001b[0m \u001b[0;34m\u001b[0m\u001b[0m\n\u001b[1;32m      9\u001b[0m   \u001b[0;32mdef\u001b[0m \u001b[0mfeedforward\u001b[0m\u001b[0;34m(\u001b[0m\u001b[0mself\u001b[0m\u001b[0;34m,\u001b[0m \u001b[0mdata\u001b[0m\u001b[0;34m)\u001b[0m\u001b[0;34m:\u001b[0m\u001b[0;34m\u001b[0m\u001b[0;34m\u001b[0m\u001b[0m\n\u001b[0;32m---> 10\u001b[0;31m     \u001b[0my\u001b[0m \u001b[0;34m=\u001b[0m \u001b[0msigmoid\u001b[0m\u001b[0;34m(\u001b[0m\u001b[0mself\u001b[0m\u001b[0;34m.\u001b[0m\u001b[0mk\u001b[0m \u001b[0;34m@\u001b[0m \u001b[0mdata\u001b[0m\u001b[0;34m)\u001b[0m\u001b[0;34m\u001b[0m\u001b[0;34m\u001b[0m\u001b[0m\n\u001b[0m\u001b[1;32m     11\u001b[0m     \u001b[0;32mreturn\u001b[0m \u001b[0my\u001b[0m\u001b[0;34m\u001b[0m\u001b[0;34m\u001b[0m\u001b[0m\n\u001b[1;32m     12\u001b[0m \u001b[0;34m\u001b[0m\u001b[0m\n",
            "\u001b[0;31mKeyboardInterrupt\u001b[0m: "
          ]
        }
      ]
    },
    {
      "cell_type": "code",
      "metadata": {
        "id": "4BRHHNms89Do"
      },
      "source": [
        "confMatrixTest = [[0 for i in range(10)] for j in range(10)]\n",
        "confMatrixTrain = [[0 for i in range(10)] for j in range(10)]\n",
        "confMatrixValidation = [[0 for i in range(10)] for j in range(10)]\n",
        "\n",
        "testPredictions = targetsSearch(testInputs)\n",
        "validationPredictions = targetsSearch(validationInputs)\n",
        "trainPredictions = targetsSearch(trainInputs)\n",
        "\n",
        "\n",
        "for index in range(len(trainPredictions)):\n",
        "  if index < 1000:\n",
        "    confMatrixTest[np.argmax(testTargets.T[index])][testPredictions[index]] += 1\n",
        "    confMatrixValidation[np.argmax(validationTargets.T[index])][validationPredictions[index]] += 1\n",
        "  confMatrixTrain[np.argmax(trainTargets.T[index])][trainPredictions[index]] += 1"
      ],
      "execution_count": 151,
      "outputs": []
    },
    {
      "cell_type": "code",
      "metadata": {
        "id": "fsFaD0N9htuH",
        "outputId": "4068d630-5820-42ca-d5c2-b5bbed3b7959",
        "colab": {
          "base_uri": "https://localhost:8080/"
        }
      },
      "source": [
        "print(np.mean([confMatrixTest[i][i] for i in range(10)]))\n",
        "confMatrixTest"
      ],
      "execution_count": 153,
      "outputs": [
        {
          "output_type": "stream",
          "text": [
            "89.2\n"
          ],
          "name": "stdout"
        },
        {
          "output_type": "execute_result",
          "data": {
            "text/plain": [
              "[[93, 1, 0, 0, 1, 1, 0, 0, 4, 0],\n",
              " [1, 94, 0, 1, 1, 0, 0, 0, 3, 0],\n",
              " [2, 1, 85, 2, 0, 0, 5, 1, 4, 0],\n",
              " [2, 0, 0, 91, 0, 4, 0, 0, 2, 1],\n",
              " [0, 2, 1, 0, 86, 0, 2, 1, 0, 8],\n",
              " [2, 2, 0, 9, 1, 85, 0, 0, 1, 0],\n",
              " [1, 3, 1, 0, 2, 1, 91, 0, 1, 0],\n",
              " [0, 2, 0, 0, 0, 0, 0, 95, 0, 3],\n",
              " [0, 4, 0, 2, 1, 1, 0, 2, 89, 1],\n",
              " [0, 2, 1, 0, 6, 0, 0, 4, 4, 83]]"
            ]
          },
          "metadata": {
            "tags": []
          },
          "execution_count": 153
        }
      ]
    },
    {
      "cell_type": "code",
      "metadata": {
        "id": "2zpwu7vwEpOK",
        "outputId": "b3fd35df-77c6-45cd-8778-128d7dcb7a8a",
        "colab": {
          "base_uri": "https://localhost:8080/"
        }
      },
      "source": [
        "print(np.mean([confMatrixValidation[i][i] for i in range(10)]))\n",
        "confMatrixValidation"
      ],
      "execution_count": 154,
      "outputs": [
        {
          "output_type": "stream",
          "text": [
            "90.3\n"
          ],
          "name": "stdout"
        },
        {
          "output_type": "execute_result",
          "data": {
            "text/plain": [
              "[[96, 1, 0, 0, 1, 0, 1, 0, 1, 0],\n",
              " [1, 92, 0, 1, 2, 0, 0, 0, 4, 0],\n",
              " [0, 0, 85, 3, 1, 0, 2, 0, 9, 0],\n",
              " [0, 0, 2, 89, 0, 5, 1, 1, 1, 1],\n",
              " [0, 3, 0, 0, 89, 0, 5, 0, 0, 3],\n",
              " [2, 0, 0, 5, 0, 85, 1, 0, 3, 4],\n",
              " [1, 4, 0, 0, 1, 1, 92, 0, 1, 0],\n",
              " [1, 1, 1, 0, 0, 0, 0, 92, 0, 5],\n",
              " [1, 3, 1, 1, 0, 2, 0, 0, 91, 1],\n",
              " [0, 1, 0, 1, 5, 0, 0, 1, 0, 92]]"
            ]
          },
          "metadata": {
            "tags": []
          },
          "execution_count": 154
        }
      ]
    },
    {
      "cell_type": "code",
      "metadata": {
        "id": "f34beqUFoSfT",
        "outputId": "ad74a71c-bac7-455b-8c4f-239eb65059c3",
        "colab": {
          "base_uri": "https://localhost:8080/"
        }
      },
      "source": [
        "print(np.mean([confMatrixTrain[i][i] for i in range(10)]))\n",
        "confMatrixTrain"
      ],
      "execution_count": 155,
      "outputs": [
        {
          "output_type": "stream",
          "text": [
            "813.2\n"
          ],
          "name": "stdout"
        },
        {
          "output_type": "execute_result",
          "data": {
            "text/plain": [
              "[[873, 4, 1, 3, 5, 2, 9, 0, 3, 0],\n",
              " [4, 842, 2, 6, 9, 1, 2, 3, 31, 0],\n",
              " [3, 8, 794, 9, 7, 4, 20, 8, 42, 5],\n",
              " [7, 3, 14, 812, 0, 33, 2, 10, 14, 5],\n",
              " [4, 32, 3, 0, 794, 1, 15, 1, 9, 41],\n",
              " [23, 7, 2, 51, 3, 785, 6, 1, 15, 7],\n",
              " [11, 28, 2, 2, 8, 1, 842, 0, 6, 0],\n",
              " [7, 11, 3, 1, 4, 3, 0, 833, 13, 25],\n",
              " [9, 43, 14, 19, 11, 31, 1, 3, 749, 20],\n",
              " [1, 24, 0, 0, 27, 1, 0, 22, 17, 808]]"
            ]
          },
          "metadata": {
            "tags": []
          },
          "execution_count": 155
        }
      ]
    },
    {
      "cell_type": "code",
      "metadata": {
        "id": "lceJLsu5GcGQ",
        "outputId": "0dc26594-66b9-4a17-fc99-a69c04f5bd84",
        "colab": {
          "base_uri": "https://localhost:8080/",
          "height": 281
        }
      },
      "source": [
        "plt.plot(NN.loss, label='loss')\n",
        "plt.legend()"
      ],
      "execution_count": 156,
      "outputs": [
        {
          "output_type": "execute_result",
          "data": {
            "text/plain": [
              "<matplotlib.legend.Legend at 0x7f3c40e8b828>"
            ]
          },
          "metadata": {
            "tags": []
          },
          "execution_count": 156
        },
        {
          "output_type": "display_data",
          "data": {
            "image/png": "[encoded data removed]",
            "text/plain": [
              "<Figure size 432x288 with 1 Axes>"
            ]
          },
          "metadata": {
            "tags": [],
            "needs_background": "light"
          }
        }
      ]
    },
    {
      "cell_type": "code",
      "metadata": {
        "id": "F4ZizuVcmrRF"
      },
      "source": [
        ""
      ],
      "execution_count": null,
      "outputs": []
    }
  ]
}