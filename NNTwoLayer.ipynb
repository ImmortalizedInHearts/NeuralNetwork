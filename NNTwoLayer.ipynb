{
  "nbformat": 4,
  "nbformat_minor": 0,
  "metadata": {
    "colab": {
      "name": "Untitled1.ipynb",
      "provenance": [],
      "authorship_tag": "ABX9TyOxuc1SXmXHkdok/NbRK0k/",
      "include_colab_link": true
    },
    "kernelspec": {
      "name": "python3",
      "display_name": "Python 3"
    }
  },
  "cells": [
    {
      "cell_type": "markdown",
      "metadata": {
        "id": "view-in-github",
        "colab_type": "text"
      },
      "source": [
        "<a href=\"https://colab.research.google.com/github/ImmortalizedInHearts/NeuralNetwork/blob/main/NNTwoLayer.ipynb\" target=\"_parent\"><img src=\"https://colab.research.google.com/assets/colab-badge.svg\" alt=\"Open In Colab\"/></a>"
      ]
    },
    {
      "cell_type": "code",
      "metadata": {
        "id": "HeWLQmwv8ILP"
      },
      "source": [
        "import numpy as np\n",
        "import scipy.io\n",
        "import matplotlib.pyplot as plt\n",
        "\n",
        "from tqdm import tqdm"
      ],
      "execution_count": 2,
      "outputs": []
    },
    {
      "cell_type": "code",
      "metadata": {
        "id": "Dw5ZpyFJ8MXQ"
      },
      "source": [
        "mat = scipy.io.loadmat('data.mat')\n",
        "xTrain = np.array(mat['data']['test'][0][0][0][0][0])\n",
        "yTrain = np.array(mat['data']['test'][0][0][0][0][1])\n",
        "\n",
        "xTest = np.array(mat['data']['training'][0][0][0][0][0])\n",
        "yTest = np.array(mat['data']['training'][0][0][0][0][1])\n",
        "\n",
        "xValidation = np.array(mat['data']['validation'][0][0][0][0][1])\n",
        "yValidation = np.array(mat['data']['validation'][0][0][0][0][0])"
      ],
      "execution_count": 3,
      "outputs": []
    },
    {
      "cell_type": "code",
      "metadata": {
        "id": "NPRKNRcj8YH-"
      },
      "source": [
        "def sigmoid(x):\n",
        "  return 1 / (1 + np.exp(-x))\n",
        "\n",
        "def softmax(x):\n",
        "  return np.exp(x) / np.exp(x).sum(axis=0)\n",
        "\n",
        "def lossFunction(y_true, y_pred):\n",
        "  loss = -y_true[y_true == 1] @ np.log(y_pred[y_true == 1] + 1e-15) #Cross-entropy\n",
        "  return loss / len(y_true)\n",
        "\n",
        "def feedforward(data):\n",
        "  predict = classifier.feedforward(data)[1]\n",
        "  return [np.argmax(item) for item in predict.T]\n"
      ],
      "execution_count": 13,
      "outputs": []
    },
    {
      "cell_type": "code",
      "metadata": {
        "id": "4JGm3ig68qdy"
      },
      "source": [
        "class Classifier:\n",
        "\n",
        "  def __init__(self, weights, learningRate=0.01, epochs=1000):\n",
        "    self.weights = weights\n",
        "    self.learningRate = learningRate\n",
        "    self.epochs = epochs\n",
        "    self.loss = list()\n",
        "  \n",
        "  def feedforward(self, data):\n",
        "    h = sigmoid(self.weights[0] @ data)\n",
        "    y = softmax(self.weights[1] @ h)\n",
        "    return (h,y)\n",
        "  \n",
        "  def train(self, data, y_true):\n",
        "\n",
        "    for epoch in tqdm(range(self.epochs)):\n",
        "\n",
        "      forward = self.feedforward(data) \n",
        "      firstLayerOutput, secondLayerOutput = forward[0], forward[1]\n",
        "\n",
        "      # SecondLayer\n",
        "      dL_dpredict = -y_true / secondLayerOutput\n",
        "      dpredict_dsoftMax = secondLayerOutput * (dL_dpredict - (dL_dpredict * secondLayerOutput).sum(axis=0))\n",
        "      dL_dweightSecondLayer = dpredict_dsoftMax @ firstLayerOutput.T\n",
        "      \n",
        "      # FirstLayer\n",
        "      dL_dhidden = self.weights[1].T @ dpredict_dsoftMax\n",
        "      dL_dsigmoid = firstLayerOutput * (1 - firstLayerOutput) * dL_dhidden\n",
        "      dL_dweightFirstLayer = dL_dsigmoid @ data.T \n",
        "      \n",
        "      # Coefficients update\n",
        "      self.weights[1] -= self.learningRate * dL_dweightSecondLayer / len(data)\n",
        "      self.weights[0] -= self.learningRate * dL_dweightFirstLayer / len(data)\n",
        "\n",
        "      # Loss calculation\n",
        "      self.loss.append(lossFunction(y_true.T, secondLayerOutput.T))"
      ],
      "execution_count": 9,
      "outputs": []
    },
    {
      "cell_type": "code",
      "metadata": {
        "id": "jMNv7bGO_qqx",
        "outputId": "2f082426-3759-41c6-95c7-e63420278a46",
        "colab": {
          "base_uri": "https://localhost:8080/"
        }
      },
      "source": [
        "wieghts = [np.random.randn(128, 256) * np.sqrt(2/256), np.random.randn(10, 128) * np.sqrt(2/128)]\n",
        "classifier = Classifier(wieghts)\n",
        "classifier.train(xTrain, yTrain)"
      ],
      "execution_count": 10,
      "outputs": [
        {
          "output_type": "stream",
          "text": [
            "100%|██████████| 1000/1000 [01:57<00:00,  8.52it/s]\n"
          ],
          "name": "stderr"
        }
      ]
    },
    {
      "cell_type": "code",
      "metadata": {
        "id": "Aw3K7dRd_0_2"
      },
      "source": [
        "confMatrixTest = [[0 for i in range(10)] for j in range(10)]\n",
        "confMatrixTrain = [[0 for i in range(10)] for j in range(10)]\n",
        "confMatrixValidation = [[0 for i in range(10)] for j in range(10)]\n",
        "\n",
        "testPredictions = feedforward(xTest)\n",
        "validationPredictions = feedforward(xValidation)\n",
        "trainPredictions = feedforward(xTrain)\n",
        "\n",
        "for index in range(len(trainPredictions)):\n",
        "  if index < 1000:\n",
        "    confMatrixTest[np.argmax(yTest.T[index])][testPredictions[index]] += 1\n",
        "    confMatrixValidation[np.argmax(yValidation.T[index])][validationPredictions[index]] += 1\n",
        "  confMatrixTrain[np.argmax(yTrain.T[index])][trainPredictions[index]] += 1"
      ],
      "execution_count": 14,
      "outputs": []
    },
    {
      "cell_type": "code",
      "metadata": {
        "id": "YfN4EqXE_7gb",
        "outputId": "e15911ea-c1a9-4407-8143-10647ff65218",
        "colab": {
          "base_uri": "https://localhost:8080/"
        }
      },
      "source": [
        "print(np.mean([confMatrixTest[i][i] for i in range(10)]))\n",
        "confMatrixTest"
      ],
      "execution_count": 15,
      "outputs": [
        {
          "output_type": "stream",
          "text": [
            "93.4\n"
          ],
          "name": "stdout"
        },
        {
          "output_type": "execute_result",
          "data": {
            "text/plain": [
              "[[93, 1, 0, 0, 1, 1, 0, 1, 3, 0],\n",
              " [1, 97, 0, 0, 0, 0, 0, 0, 2, 0],\n",
              " [1, 1, 92, 0, 0, 1, 3, 0, 2, 0],\n",
              " [1, 0, 1, 89, 0, 4, 1, 0, 3, 1],\n",
              " [0, 0, 0, 0, 93, 0, 3, 0, 0, 4],\n",
              " [1, 1, 0, 4, 0, 91, 1, 0, 2, 0],\n",
              " [3, 0, 1, 0, 2, 0, 94, 0, 0, 0],\n",
              " [0, 0, 0, 0, 0, 0, 0, 98, 0, 2],\n",
              " [0, 1, 0, 0, 0, 2, 0, 1, 96, 0],\n",
              " [0, 1, 1, 0, 4, 0, 0, 1, 2, 91]]"
            ]
          },
          "metadata": {
            "tags": []
          },
          "execution_count": 15
        }
      ]
    },
    {
      "cell_type": "code",
      "metadata": {
        "id": "IR50xpXI_9Oi",
        "outputId": "6d88156f-4ac5-4a9f-a74a-3bcc75eca285",
        "colab": {
          "base_uri": "https://localhost:8080/"
        }
      },
      "source": [
        "print(np.mean([confMatrixValidation[i][i] for i in range(10)]))\n",
        "confMatrixValidation"
      ],
      "execution_count": 16,
      "outputs": [
        {
          "output_type": "stream",
          "text": [
            "94.0\n"
          ],
          "name": "stdout"
        },
        {
          "output_type": "execute_result",
          "data": {
            "text/plain": [
              "[[95, 0, 0, 0, 2, 0, 1, 0, 2, 0],\n",
              " [0, 97, 0, 1, 0, 0, 0, 0, 2, 0],\n",
              " [0, 0, 92, 3, 1, 0, 1, 0, 3, 0],\n",
              " [0, 0, 1, 93, 0, 5, 0, 0, 1, 0],\n",
              " [0, 1, 0, 0, 93, 0, 5, 0, 0, 1],\n",
              " [1, 1, 2, 3, 0, 87, 1, 2, 3, 0],\n",
              " [0, 2, 1, 0, 1, 0, 96, 0, 0, 0],\n",
              " [0, 0, 0, 0, 0, 0, 0, 96, 0, 4],\n",
              " [0, 2, 0, 0, 2, 3, 0, 0, 93, 0],\n",
              " [0, 0, 0, 1, 1, 0, 0, 0, 0, 98]]"
            ]
          },
          "metadata": {
            "tags": []
          },
          "execution_count": 16
        }
      ]
    },
    {
      "cell_type": "code",
      "metadata": {
        "id": "428QtRal_-59",
        "outputId": "c8472bca-187d-4b51-c6e6-18054990d8b2",
        "colab": {
          "base_uri": "https://localhost:8080/"
        }
      },
      "source": [
        "print(np.sum([confMatrixTrain[i][i] for i in range(10)]) / yTrain.shape[1] * 100)\n",
        "confMatrixTrain"
      ],
      "execution_count": 17,
      "outputs": [
        {
          "output_type": "stream",
          "text": [
            "95.85555555555555\n"
          ],
          "name": "stdout"
        },
        {
          "output_type": "execute_result",
          "data": {
            "text/plain": [
              "[[879, 4, 1, 0, 4, 5, 4, 0, 3, 0],\n",
              " [1, 870, 1, 7, 5, 0, 3, 2, 11, 0],\n",
              " [4, 6, 842, 8, 3, 7, 15, 3, 9, 3],\n",
              " [3, 0, 13, 845, 0, 18, 3, 9, 6, 3],\n",
              " [1, 5, 2, 0, 869, 0, 11, 1, 0, 11],\n",
              " [6, 3, 3, 16, 3, 855, 4, 3, 7, 0],\n",
              " [4, 8, 4, 0, 6, 2, 876, 0, 0, 0],\n",
              " [0, 1, 0, 0, 1, 1, 0, 881, 0, 16],\n",
              " [3, 12, 6, 8, 2, 19, 1, 2, 844, 3],\n",
              " [1, 2, 0, 0, 10, 1, 0, 15, 5, 866]]"
            ]
          },
          "metadata": {
            "tags": []
          },
          "execution_count": 17
        }
      ]
    },
    {
      "cell_type": "code",
      "metadata": {
        "id": "u5Mt-FUYAB2_",
        "outputId": "76f9b954-0263-4ecc-9522-27fdffac45cf",
        "colab": {
          "base_uri": "https://localhost:8080/",
          "height": 281
        }
      },
      "source": [
        "plt.plot(classifier.loss, label='loss')\n",
        "plt.legend()"
      ],
      "execution_count": 18,
      "outputs": [
        {
          "output_type": "execute_result",
          "data": {
            "text/plain": [
              "<matplotlib.legend.Legend at 0x7fc85468d518>"
            ]
          },
          "metadata": {
            "tags": []
          },
          "execution_count": 18
        },
        {
          "output_type": "display_data",
          "data": {
            "image/png": "[encoded data removed]",
            "text/plain": [
              "<Figure size 432x288 with 1 Axes>"
            ]
          },
          "metadata": {
            "tags": [],
            "needs_background": "light"
          }
        }
      ]
    },
    {
      "cell_type": "code",
      "metadata": {
        "id": "9rbCYmjbB0qV"
      },
      "source": [
        ""
      ],
      "execution_count": null,
      "outputs": []
    }
  ]
}