{
  "nbformat": 4,
  "nbformat_minor": 0,
  "metadata": {
    "colab": {
      "name": "Copy of Copy of Copy of Welcome To Colaboratory",
      "provenance": [],
      "collapsed_sections": [],
      "include_colab_link": true
    },
    "kernelspec": {
      "display_name": "Python 3",
      "name": "python3"
    }
  },
  "cells": [
    {
      "cell_type": "markdown",
      "metadata": {
        "id": "view-in-github",
        "colab_type": "text"
      },
      "source": [
        "<a href=\"https://colab.research.google.com/github/ImmortalizedInHearts/NeuralNetwork/blob/main/NeuralNetwork.ipynb\" target=\"_parent\"><img src=\"https://colab.research.google.com/assets/colab-badge.svg\" alt=\"Open In Colab\"/></a>"
      ]
    },
    {
      "cell_type": "code",
      "metadata": {
        "id": "cX3ofqbQeOh0"
      },
      "source": [
        "import numpy as np\n",
        "import scipy.io\n",
        "import matplotlib.pyplot as plt\n",
        "\n",
        "from tqdm import tqdm"
      ],
      "execution_count": 1,
      "outputs": []
    },
    {
      "cell_type": "code",
      "metadata": {
        "id": "HjRmsCHENqzT"
      },
      "source": [
        "mat = scipy.io.loadmat('data.mat')\n",
        "trainInputs = np.array(mat['data']['test'][0][0][0][0][0])\n",
        "trainTargets = np.array(mat['data']['test'][0][0][0][0][1])\n",
        "\n",
        "testInputs = np.array(mat['data']['training'][0][0][0][0][0])\n",
        "testTargets = np.array(mat['data']['training'][0][0][0][0][1])\n",
        "\n",
        "validationInputs = np.array(mat['data']['validation'][0][0][0][0][1])\n",
        "validationTargets = np.array(mat['data']['validation'][0][0][0][0][0])"
      ],
      "execution_count": 2,
      "outputs": []
    },
    {
      "cell_type": "code",
      "metadata": {
        "id": "9waoOzG9fKZp"
      },
      "source": [
        "def sigmoid(x):\n",
        "  return 1 / (1 + np.exp(-x))\n",
        "\n",
        "def softmax(x):\n",
        "  return np.exp(x) / np.sum(np.exp(x), axis=0)\n",
        "\n",
        "def crossEntropyLoss(y_true, y_pred):\n",
        "  loss = -y_true * np.log(y_pred + 1e-15)\n",
        "  return np.sum(loss) / len(y_true)\n",
        "\n",
        "def targetsSearch(data):\n",
        "  predict = NN.feedforward(data)\n",
        "  return [np.argmax(item) for item in predict.T]"
      ],
      "execution_count": 55,
      "outputs": []
    },
    {
      "cell_type": "code",
      "metadata": {
        "id": "Ggg5DU4Ofy-0"
      },
      "source": [
        "class NeuralNetwork:\n",
        "\n",
        "  def __init__(self, k):\n",
        "\n",
        "    self.k = k\n",
        "\n",
        "    self.loss = list()\n",
        "  \n",
        "  def feedforward(self, data):\n",
        "    y = softmax(self.k @ data)\n",
        "    return y\n",
        "  \n",
        "  def train(self, data, y_true):\n",
        "    alpha = 0.0001\n",
        "    epochs = 2000\n",
        "\n",
        "    for epoch in tqdm(range(epochs)):\n",
        "\n",
        "      \"\"\"backprop\"\"\"\n",
        "\n",
        "      predict = self.feedforward(data)\n",
        "\n",
        "      dL_dk = (predict - y_true) @ data.T\n",
        "\n",
        "      self.k -= alpha * dL_dk\n",
        "\n",
        "      self.loss.append(crossEntropyLoss(y_true.T, predict.T))"
      ],
      "execution_count": 56,
      "outputs": []
    },
    {
      "cell_type": "code",
      "metadata": {
        "id": "IwhxyDtqhNXy"
      },
      "source": [
        "kParameters = np.zeros((10, 256))\n",
        "NN = NeuralNetwork(kParameters)\n",
        "NN.train(trainInputs, trainTargets)\n"
      ],
      "execution_count": null,
      "outputs": []
    },
    {
      "cell_type": "code",
      "metadata": {
        "id": "4BRHHNms89Do"
      },
      "source": [
        "confMatrixTest = [[0 for i in range(10)] for j in range(10)]\n",
        "confMatrixTrain = [[0 for i in range(10)] for j in range(10)]\n",
        "confMatrixValidation = [[0 for i in range(10)] for j in range(10)]\n",
        "\n",
        "testPredictions = targetsSearch(testInputs)\n",
        "validationPredictions = targetsSearch(validationInputs)\n",
        "trainPredictions = targetsSearch(trainInputs)\n",
        "\n",
        "\n",
        "for index in range(len(trainPredictions)):\n",
        "  if index < 1000:\n",
        "    confMatrixTest[np.argmax(testTargets.T[index])][testPredictions[index]] += 1\n",
        "    confMatrixValidation[np.argmax(validationTargets.T[index])][validationPredictions[index]] += 1\n",
        "  confMatrixTrain[np.argmax(trainTargets.T[index])][trainPredictions[index]] += 1"
      ],
      "execution_count": 58,
      "outputs": []
    },
    {
      "cell_type": "code",
      "metadata": {
        "id": "fsFaD0N9htuH",
        "outputId": "8710d184-41f1-448a-ba8c-7e61bf7b4ed6",
        "colab": {
          "base_uri": "https://localhost:8080/"
        }
      },
      "source": [
        "print(np.mean([confMatrixTest[i][i] for i in range(10)]))\n",
        "confMatrixTest"
      ],
      "execution_count": 59,
      "outputs": [
        {
          "output_type": "stream",
          "text": [
            "93.1\n"
          ],
          "name": "stdout"
        },
        {
          "output_type": "execute_result",
          "data": {
            "text/plain": [
              "[[92, 1, 0, 0, 1, 1, 1, 1, 3, 0],\n",
              " [1, 97, 0, 0, 0, 0, 0, 0, 2, 0],\n",
              " [1, 1, 91, 1, 0, 0, 3, 0, 3, 0],\n",
              " [2, 0, 1, 90, 0, 4, 0, 0, 2, 1],\n",
              " [0, 1, 1, 0, 90, 0, 2, 0, 0, 6],\n",
              " [1, 1, 1, 4, 0, 91, 0, 0, 2, 0],\n",
              " [3, 0, 0, 0, 2, 1, 94, 0, 0, 0],\n",
              " [0, 0, 0, 0, 0, 0, 0, 98, 0, 2],\n",
              " [0, 1, 1, 2, 0, 1, 0, 1, 94, 0],\n",
              " [0, 1, 1, 0, 2, 0, 0, 1, 1, 94]]"
            ]
          },
          "metadata": {
            "tags": []
          },
          "execution_count": 59
        }
      ]
    },
    {
      "cell_type": "code",
      "metadata": {
        "id": "2zpwu7vwEpOK",
        "outputId": "2b550a66-5fb3-4a2c-c18d-1ef762166351",
        "colab": {
          "base_uri": "https://localhost:8080/"
        }
      },
      "source": [
        "print(np.mean([confMatrixValidation[i][i] for i in range(10)]))\n",
        "confMatrixValidation"
      ],
      "execution_count": 60,
      "outputs": [
        {
          "output_type": "stream",
          "text": [
            "94.4\n"
          ],
          "name": "stdout"
        },
        {
          "output_type": "execute_result",
          "data": {
            "text/plain": [
              "[[95, 0, 0, 0, 2, 0, 2, 0, 1, 0],\n",
              " [0, 98, 0, 1, 0, 0, 0, 0, 1, 0],\n",
              " [0, 1, 94, 2, 0, 1, 0, 0, 2, 0],\n",
              " [0, 0, 2, 90, 0, 6, 0, 0, 2, 0],\n",
              " [0, 0, 0, 0, 95, 0, 5, 0, 0, 0],\n",
              " [2, 1, 2, 2, 0, 89, 1, 1, 2, 0],\n",
              " [2, 1, 2, 0, 2, 0, 93, 0, 0, 0],\n",
              " [0, 0, 0, 0, 0, 0, 0, 97, 0, 3],\n",
              " [0, 2, 0, 0, 0, 1, 0, 1, 96, 0],\n",
              " [0, 0, 0, 2, 1, 0, 0, 0, 0, 97]]"
            ]
          },
          "metadata": {
            "tags": []
          },
          "execution_count": 60
        }
      ]
    },
    {
      "cell_type": "code",
      "metadata": {
        "id": "f34beqUFoSfT",
        "outputId": "6ee61779-622a-4282-af56-66be5562c9d6",
        "colab": {
          "base_uri": "https://localhost:8080/"
        }
      },
      "source": [
        "print(np.mean([confMatrixTrain[i][i] for i in range(10)]))\n",
        "confMatrixTrain"
      ],
      "execution_count": 61,
      "outputs": [
        {
          "output_type": "stream",
          "text": [
            "873.5\n"
          ],
          "name": "stdout"
        },
        {
          "output_type": "execute_result",
          "data": {
            "text/plain": [
              "[[888, 2, 1, 0, 4, 1, 2, 0, 2, 0],\n",
              " [1, 881, 1, 5, 2, 0, 1, 1, 8, 0],\n",
              " [1, 5, 856, 4, 4, 6, 10, 2, 10, 2],\n",
              " [0, 0, 13, 858, 0, 15, 0, 3, 7, 4],\n",
              " [0, 5, 1, 0, 882, 0, 4, 1, 0, 7],\n",
              " [6, 0, 3, 14, 1, 860, 4, 2, 8, 2],\n",
              " [2, 3, 2, 0, 6, 1, 886, 0, 0, 0],\n",
              " [0, 2, 0, 1, 1, 0, 0, 885, 0, 11],\n",
              " [2, 8, 3, 5, 1, 14, 2, 2, 860, 3],\n",
              " [1, 1, 0, 0, 6, 0, 0, 11, 2, 879]]"
            ]
          },
          "metadata": {
            "tags": []
          },
          "execution_count": 61
        }
      ]
    },
    {
      "cell_type": "code",
      "metadata": {
        "id": "lceJLsu5GcGQ",
        "outputId": "19c3b317-df8b-4304-cb3a-d02a4e6cbfff",
        "colab": {
          "base_uri": "https://localhost:8080/",
          "height": 281
        }
      },
      "source": [
        "plt.plot(NN.loss, label='loss')\n",
        "plt.legend()"
      ],
      "execution_count": 62,
      "outputs": [
        {
          "output_type": "execute_result",
          "data": {
            "text/plain": [
              "<matplotlib.legend.Legend at 0x7ff698319b70>"
            ]
          },
          "metadata": {
            "tags": []
          },
          "execution_count": 62
        },
        {
          "output_type": "display_data",
          "data": {
            "image/png": "[encoded data removed]",
            "text/plain": [
              "<Figure size 432x288 with 1 Axes>"
            ]
          },
          "metadata": {
            "tags": [],
            "needs_background": "light"
          }
        }
      ]
    },
    {
      "cell_type": "code",
      "metadata": {
        "id": "F4ZizuVcmrRF"
      },
      "source": [
        ""
      ],
      "execution_count": 38,
      "outputs": []
    }
  ]
}