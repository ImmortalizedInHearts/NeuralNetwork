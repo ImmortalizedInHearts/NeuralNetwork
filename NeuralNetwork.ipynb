{
  "nbformat": 4,
  "nbformat_minor": 0,
  "metadata": {
    "colab": {
      "name": "Copy of Copy of Welcome To Colaboratory",
      "provenance": [],
      "collapsed_sections": [],
      "toc_visible": true,
      "include_colab_link": true
    },
    "kernelspec": {
      "display_name": "Python 3",
      "name": "python3"
    }
  },
  "cells": [
    {
      "cell_type": "markdown",
      "metadata": {
        "id": "view-in-github",
        "colab_type": "text"
      },
      "source": [
        "<a href=\"https://colab.research.google.com/github/ImmortalizedInHearts/NeuralNetwork/blob/main/NeuralNetwork.ipynb\" target=\"_parent\"><img src=\"https://colab.research.google.com/assets/colab-badge.svg\" alt=\"Open In Colab\"/></a>"
      ]
    },
    {
      "cell_type": "code",
      "metadata": {
        "id": "cX3ofqbQeOh0"
      },
      "source": [
        "import numpy as np\n",
        "import scipy.io\n",
        "import matplotlib.pyplot as plt\n",
        "\n",
        "from tqdm import tqdm"
      ],
      "execution_count": 2,
      "outputs": []
    },
    {
      "cell_type": "code",
      "metadata": {
        "id": "HjRmsCHENqzT"
      },
      "source": [
        "mat = scipy.io.loadmat('data.mat')\n",
        "trainInputs = np.array(mat['data']['test'][0][0][0][0][0])\n",
        "trainTargets = np.array(mat['data']['test'][0][0][0][0][1])\n",
        "\n",
        "testInputs = np.array(mat['data']['training'][0][0][0][0][0])\n",
        "testTargets = np.array(mat['data']['training'][0][0][0][0][1])\n",
        "\n",
        "validationInputs = np.array(mat['data']['validation'][0][0][0][0][1])\n",
        "validationTargets = np.array(mat['data']['validation'][0][0][0][0][0])"
      ],
      "execution_count": 4,
      "outputs": []
    },
    {
      "cell_type": "code",
      "metadata": {
        "id": "9waoOzG9fKZp"
      },
      "source": [
        "def sigmoid(x):\n",
        "  return 1 / (1 + np.exp(-x))\n",
        "  \n",
        "def derivSigmoid(x):\n",
        "  return x * (1 - x)\n",
        "\n",
        "def crossEntropyLoss(y_true, y_pred):\n",
        "  loss = y_true[y_true == 1] @ np.log(y_pred[y_true == 1])\n",
        "  return -1 * loss / len(y_true.T)\n",
        "\n",
        "def targetsSearch(data):\n",
        "  predict = network.feedforward(data).T\n",
        "  return np.array([np.argmax(x) for x in predict])"
      ],
      "execution_count": 5,
      "outputs": []
    },
    {
      "cell_type": "code",
      "metadata": {
        "id": "Ggg5DU4Ofy-0"
      },
      "source": [
        "class NeuralNetwork:\n",
        "  def __init__(self, k):\n",
        "    # weights\n",
        "    self.k = k\n",
        "\n",
        "    # bias\n",
        "    self.b1 = 0\n",
        "    self.b2 = 0\n",
        "\n",
        "    # loss\n",
        "    self.loss = list()\n",
        "\n",
        "    # prediction\n",
        "    self.ypreds = list()\n",
        "    \n",
        "  def feedforward(self, data):\n",
        "    h1 = sigmoid(self.k @ data) #+bias\n",
        "    return h1\n",
        "\n",
        "  def train(self, data, y_true):\n",
        "        learn_rate = 0.0000005\n",
        "        epochs = 10000 \n",
        " \n",
        "        for epoch in tqdm(range(epochs)):\n",
        "            # backprop\n",
        "            y_pred = self.feedforward(data)\n",
        "\n",
        "            dL_dk = (-1 * y_true) * (1 - y_pred) # NOT AT ALL (must be y_true/y_pred) \n",
        "\n",
        "            \"\"\" Weights and bias updating \"\"\"\n",
        "            # Neuron h1\n",
        "            self.k -= learn_rate * dL_dk @ data.T\n",
        "\n",
        "            \"\"\" Loss calculation \"\"\"\n",
        "            self.loss.append(crossEntropyLoss(y_true, y_pred))"
      ],
      "execution_count": 37,
      "outputs": []
    },
    {
      "cell_type": "code",
      "metadata": {
        "id": "IwhxyDtqhNXy",
        "outputId": "9f2cb85a-0005-4a56-97dc-4596c3416e2e",
        "colab": {
          "base_uri": "https://localhost:8080/"
        }
      },
      "source": [
        "kParameters = np.zeros((10,256))\n",
        "confMatrixTest = [[0 for x in range(10)] for i in range(10)]\n",
        "confMatrixValidation = [[0 for x in range(10)] for i in range(10)]\n",
        "network = NeuralNetwork(kParameters)\n",
        "network.train(trainInputs, trainTargets)"
      ],
      "execution_count": 38,
      "outputs": [
        {
          "output_type": "stream",
          "text": [
            "100%|██████████| 10000/10000 [02:57<00:00, 56.45it/s]\n"
          ],
          "name": "stderr"
        }
      ]
    },
    {
      "cell_type": "code",
      "metadata": {
        "id": "4BRHHNms89Do"
      },
      "source": [
        "testPredictions = targetsSearch(testInputs)\n",
        "validationPredictions = targetsSearch(validationInputs)\n",
        "\n",
        "for index in range(len(validationPredictions)):\n",
        "  confMatrixTest[np.argmax(testTargets.T[index])][testPredictions[index]] += 1\n",
        "  confMatrixValidation[np.argmax(validationTargets.T[index])][validationPredictions[index]] += 1"
      ],
      "execution_count": 39,
      "outputs": []
    },
    {
      "cell_type": "code",
      "metadata": {
        "id": "fsFaD0N9htuH",
        "outputId": "aa5380f4-4d83-437e-fed0-54fae78a26ee",
        "colab": {
          "base_uri": "https://localhost:8080/"
        }
      },
      "source": [
        "print(np.mean([confMatrixTest[i][i] for i in range(10)]))\n",
        "confMatrixTest"
      ],
      "execution_count": 40,
      "outputs": [
        {
          "output_type": "stream",
          "text": [
            "78.3\n"
          ],
          "name": "stdout"
        },
        {
          "output_type": "execute_result",
          "data": {
            "text/plain": [
              "[[61, 1, 4, 0, 2, 18, 8, 2, 4, 0],\n",
              " [0, 78, 6, 1, 11, 1, 0, 1, 2, 0],\n",
              " [0, 0, 88, 2, 1, 2, 2, 3, 2, 0],\n",
              " [0, 1, 3, 79, 0, 11, 0, 3, 2, 1],\n",
              " [0, 4, 1, 0, 91, 0, 1, 1, 0, 2],\n",
              " [0, 1, 0, 6, 2, 91, 0, 0, 0, 0],\n",
              " [0, 3, 3, 0, 4, 5, 83, 0, 2, 0],\n",
              " [0, 8, 0, 0, 0, 0, 0, 92, 0, 0],\n",
              " [0, 4, 1, 2, 7, 11, 0, 5, 67, 3],\n",
              " [0, 8, 1, 0, 21, 0, 0, 17, 0, 53]]"
            ]
          },
          "metadata": {
            "tags": []
          },
          "execution_count": 40
        }
      ]
    },
    {
      "cell_type": "code",
      "metadata": {
        "id": "2zpwu7vwEpOK",
        "outputId": "bcae8caa-7f24-4bca-f8a5-cef532de6233",
        "colab": {
          "base_uri": "https://localhost:8080/"
        }
      },
      "source": [
        "print(np.mean([confMatrixValidation[i][i] for i in range(10)]))\n",
        "confMatrixValidation"
      ],
      "execution_count": 41,
      "outputs": [
        {
          "output_type": "stream",
          "text": [
            "78.0\n"
          ],
          "name": "stdout"
        },
        {
          "output_type": "execute_result",
          "data": {
            "text/plain": [
              "[[62, 0, 1, 0, 6, 24, 6, 0, 1, 0],\n",
              " [0, 73, 7, 2, 14, 2, 0, 0, 2, 0],\n",
              " [0, 0, 80, 4, 3, 2, 3, 5, 3, 0],\n",
              " [0, 0, 3, 80, 2, 12, 0, 2, 1, 0],\n",
              " [0, 5, 0, 0, 94, 0, 1, 0, 0, 0],\n",
              " [0, 1, 1, 8, 0, 86, 0, 2, 1, 1],\n",
              " [0, 3, 4, 0, 4, 5, 81, 0, 3, 0],\n",
              " [0, 3, 0, 0, 1, 0, 0, 95, 0, 1],\n",
              " [0, 0, 2, 5, 12, 5, 0, 2, 71, 3],\n",
              " [0, 4, 0, 1, 21, 0, 0, 15, 1, 58]]"
            ]
          },
          "metadata": {
            "tags": []
          },
          "execution_count": 41
        }
      ]
    },
    {
      "cell_type": "code",
      "metadata": {
        "id": "lceJLsu5GcGQ",
        "outputId": "90a0728f-af6e-44ad-a88e-c23b0032e835",
        "colab": {
          "base_uri": "https://localhost:8080/",
          "height": 282
        }
      },
      "source": [
        "plt.plot(network.loss, label='loss')\n",
        "plt.legend()"
      ],
      "execution_count": 42,
      "outputs": [
        {
          "output_type": "execute_result",
          "data": {
            "text/plain": [
              "<matplotlib.legend.Legend at 0x7f07d62f85c0>"
            ]
          },
          "metadata": {
            "tags": []
          },
          "execution_count": 42
        },
        {
          "output_type": "display_data",
          "data": {
            "image/png": "[encoded data removed]",
            "text/plain": [
              "<Figure size 432x288 with 1 Axes>"
            ]
          },
          "metadata": {
            "tags": [],
            "needs_background": "light"
          }
        }
      ]
    },
    {
      "cell_type": "code",
      "metadata": {
        "id": "XEjKT0RaXdse"
      },
      "source": [
        ""
      ],
      "execution_count": null,
      "outputs": []
    }
  ]
}