{
  "nbformat": 4,
  "nbformat_minor": 0,
  "metadata": {
    "colab": {
      "name": "Copy of Copy of Copy of Welcome To Colaboratory",
      "provenance": [],
      "collapsed_sections": [],
      "include_colab_link": true
    },
    "kernelspec": {
      "display_name": "Python 3",
      "name": "python3"
    }
  },
  "cells": [
    {
      "cell_type": "markdown",
      "metadata": {
        "id": "view-in-github",
        "colab_type": "text"
      },
      "source": [
        "<a href=\"https://colab.research.google.com/github/ImmortalizedInHearts/NeuralNetwork/blob/main/NeuralNetwork.ipynb\" target=\"_parent\"><img src=\"https://colab.research.google.com/assets/colab-badge.svg\" alt=\"Open In Colab\"/></a>"
      ]
    },
    {
      "cell_type": "code",
      "metadata": {
        "id": "cX3ofqbQeOh0"
      },
      "source": [
        "import numpy as np\n",
        "import scipy.io\n",
        "import matplotlib.pyplot as plt\n",
        "\n",
        "from tqdm import tqdm"
      ],
      "execution_count": 22,
      "outputs": []
    },
    {
      "cell_type": "code",
      "metadata": {
        "id": "HjRmsCHENqzT"
      },
      "source": [
        "mat = scipy.io.loadmat('data.mat')\n",
        "trainInputs = np.array(mat['data']['test'][0][0][0][0][0])\n",
        "trainTargets = np.array(mat['data']['test'][0][0][0][0][1])\n",
        "\n",
        "testInputs = np.array(mat['data']['training'][0][0][0][0][0])\n",
        "testTargets = np.array(mat['data']['training'][0][0][0][0][1])\n",
        "\n",
        "validationInputs = np.array(mat['data']['validation'][0][0][0][0][1])\n",
        "validationTargets = np.array(mat['data']['validation'][0][0][0][0][0])"
      ],
      "execution_count": 23,
      "outputs": []
    },
    {
      "cell_type": "code",
      "metadata": {
        "id": "9waoOzG9fKZp"
      },
      "source": [
        "def sigmoid(x):\n",
        "  return 1 / (1 + np.exp(-x))\n",
        "  \n",
        "def derivSigmoid(x):\n",
        "  return x * (1 - x)\n",
        "\n",
        "def crossEntropyLoss(y_true, y_pred, k):\n",
        "  loss = y_true[y_true == 1] @ np.log(y_pred[y_true == 1])\n",
        "  return -1 * loss / len(y_true.T) + network.l1 * np.abs(k[1] @ k[0]).mean()\n",
        "\n",
        "def targetsSearch(data):\n",
        "  predict = network.feedforward(data)[1].T\n",
        "  return np.array([np.argmax(x) for x in predict])"
      ],
      "execution_count": 24,
      "outputs": []
    },
    {
      "cell_type": "code",
      "metadata": {
        "id": "Ggg5DU4Ofy-0"
      },
      "source": [
        "class NeuralNetwork:\n",
        "  def __init__(self, k):\n",
        "    # weights\n",
        "    self.k = k\n",
        "\n",
        "    # bias\n",
        "    self.b1 = 0\n",
        "    self.b2 = 0\n",
        "\n",
        "    # regularization parameter\n",
        "    self.l1 = 0.1\n",
        "\n",
        "    # loss\n",
        "    self.loss = list()\n",
        "    \n",
        "  def feedforward(self, data):\n",
        "    h1 = sigmoid(self.k[0] @ data)\n",
        "    h2 = sigmoid(self.k[1] @ h1)      #+bias\n",
        "    return (h1, h2)\n",
        "\n",
        "  def train(self, data, y_true):\n",
        "        learn_rate = 0.0005\n",
        "        epochs = 3000\n",
        " \n",
        "        for epoch in tqdm(range(epochs)):\n",
        "            \"\"\" backprop \"\"\"\n",
        "\n",
        "            forward = self.feedforward(data)\n",
        "\n",
        "            # Neuron h1\n",
        "            h1 = forward[0]\n",
        "            \n",
        "            # Neuron h2\n",
        "            h2 = y_pred = forward[1] \n",
        "\n",
        "            dL_dh2 = -1 * y_true\n",
        "            dh2_dk1 = 1 - h2\n",
        "            dL_dk1 = (dL_dh2 * dh2_dk1) @ h1.T\n",
        "\n",
        "            dh2_dh1 = 1 - h2\n",
        "            dh1_dk0 = h1 * (1 - h1)\n",
        "            dL_dk0 = (((dL_dh2 * dh2_dh1).T @ self.k[1]).T * dh1_dk0) @ data.T\n",
        "\n",
        "            \"\"\" Weights and bias updating \"\"\"\n",
        "            # Neuron h1\n",
        "            self.k[0] -= learn_rate * (dL_dk0 + self.l1 * np.sign(self.k[0])) / len(data)\n",
        "\n",
        "            # Neuron h2\n",
        "            self.k[1] -= learn_rate * (dL_dk1 + self.l1 * np.sign(self.k[1])) / len(data)\n",
        "\n",
        "            \"\"\" Loss calculation \"\"\"\n",
        "            self.loss.append(crossEntropyLoss(y_true, y_pred, self.k))"
      ],
      "execution_count": 25,
      "outputs": []
    },
    {
      "cell_type": "code",
      "metadata": {
        "id": "IwhxyDtqhNXy",
        "outputId": "e8b4812e-62af-4a44-f0e7-9e765c0a9a5d",
        "colab": {
          "base_uri": "https://localhost:8080/"
        }
      },
      "source": [
        "kParameters = [np.zeros((128,256)), np.zeros((10,128))]\n",
        "confMatrixTest = [[0 for x in range(10)] for i in range(10)]\n",
        "confMatrixValidation = [[0 for x in range(10)] for i in range(10)]\n",
        "\n",
        "network = NeuralNetwork(kParameters)\n",
        "network.train(trainInputs, trainTargets)"
      ],
      "execution_count": 26,
      "outputs": [
        {
          "output_type": "stream",
          "text": [
            "100%|██████████| 3000/3000 [05:45<00:00,  8.68it/s]\n"
          ],
          "name": "stderr"
        }
      ]
    },
    {
      "cell_type": "code",
      "metadata": {
        "id": "4BRHHNms89Do"
      },
      "source": [
        "testPredictions = targetsSearch(testInputs)\n",
        "validationPredictions = targetsSearch(validationInputs)\n",
        "\n",
        "for index in range(len(validationPredictions)):\n",
        "  confMatrixTest[np.argmax(testTargets.T[index])][testPredictions[index]] += 1\n",
        "  confMatrixValidation[np.argmax(validationTargets.T[index])][validationPredictions[index]] += 1"
      ],
      "execution_count": 27,
      "outputs": []
    },
    {
      "cell_type": "code",
      "metadata": {
        "id": "fsFaD0N9htuH",
        "outputId": "70cd833b-7c81-4258-aef0-a8b0a7bfc6d8",
        "colab": {
          "base_uri": "https://localhost:8080/"
        }
      },
      "source": [
        "print(np.mean([confMatrixTest[i][i] for i in range(10)]))\n",
        "confMatrixTest"
      ],
      "execution_count": 28,
      "outputs": [
        {
          "output_type": "stream",
          "text": [
            "10.0\n"
          ],
          "name": "stdout"
        },
        {
          "output_type": "execute_result",
          "data": {
            "text/plain": [
              "[[0, 0, 0, 0, 100, 0, 0, 0, 0, 0],\n",
              " [0, 0, 0, 0, 100, 0, 0, 0, 0, 0],\n",
              " [0, 0, 0, 0, 100, 0, 0, 0, 0, 0],\n",
              " [0, 0, 0, 0, 100, 0, 0, 0, 0, 0],\n",
              " [0, 0, 0, 0, 100, 0, 0, 0, 0, 0],\n",
              " [0, 0, 0, 0, 100, 0, 0, 0, 0, 0],\n",
              " [0, 0, 0, 0, 100, 0, 0, 0, 0, 0],\n",
              " [0, 0, 0, 0, 100, 0, 0, 0, 0, 0],\n",
              " [0, 0, 0, 0, 100, 0, 0, 0, 0, 0],\n",
              " [0, 0, 0, 0, 100, 0, 0, 0, 0, 0]]"
            ]
          },
          "metadata": {
            "tags": []
          },
          "execution_count": 28
        }
      ]
    },
    {
      "cell_type": "code",
      "metadata": {
        "id": "2zpwu7vwEpOK",
        "outputId": "db3cd717-16a4-4b0e-ce85-9526cc465a86",
        "colab": {
          "base_uri": "https://localhost:8080/"
        }
      },
      "source": [
        "print(np.mean([confMatrixValidation[i][i] for i in range(10)]))\n",
        "confMatrixValidation"
      ],
      "execution_count": 29,
      "outputs": [
        {
          "output_type": "stream",
          "text": [
            "10.0\n"
          ],
          "name": "stdout"
        },
        {
          "output_type": "execute_result",
          "data": {
            "text/plain": [
              "[[0, 0, 0, 0, 100, 0, 0, 0, 0, 0],\n",
              " [0, 0, 0, 0, 100, 0, 0, 0, 0, 0],\n",
              " [0, 0, 0, 0, 100, 0, 0, 0, 0, 0],\n",
              " [0, 0, 0, 0, 100, 0, 0, 0, 0, 0],\n",
              " [0, 0, 0, 0, 100, 0, 0, 0, 0, 0],\n",
              " [0, 0, 0, 0, 100, 0, 0, 0, 0, 0],\n",
              " [0, 0, 0, 0, 100, 0, 0, 0, 0, 0],\n",
              " [0, 0, 0, 0, 100, 0, 0, 0, 0, 0],\n",
              " [0, 0, 0, 0, 100, 0, 0, 0, 0, 0],\n",
              " [0, 0, 0, 0, 100, 0, 0, 0, 0, 0]]"
            ]
          },
          "metadata": {
            "tags": []
          },
          "execution_count": 29
        }
      ]
    },
    {
      "cell_type": "code",
      "metadata": {
        "id": "lceJLsu5GcGQ",
        "outputId": "0adb9f34-521a-4ebb-d065-b62a8d49e687",
        "colab": {
          "base_uri": "https://localhost:8080/",
          "height": 281
        }
      },
      "source": [
        "plt.plot(network.loss, label='loss')\n",
        "plt.legend()"
      ],
      "execution_count": 30,
      "outputs": [
        {
          "output_type": "execute_result",
          "data": {
            "text/plain": [
              "<matplotlib.legend.Legend at 0x7f358ba192b0>"
            ]
          },
          "metadata": {
            "tags": []
          },
          "execution_count": 30
        },
        {
          "output_type": "display_data",
          "data": {
            "image/png": "[encoded data removed]",
            "text/plain": [
              "<Figure size 432x288 with 1 Axes>"
            ]
          },
          "metadata": {
            "tags": [],
            "needs_background": "light"
          }
        }
      ]
    },
    {
      "cell_type": "code",
      "metadata": {
        "id": "nkG86U8k2q9c"
      },
      "source": [
        ""
      ],
      "execution_count": null,
      "outputs": []
    }
  ]
}