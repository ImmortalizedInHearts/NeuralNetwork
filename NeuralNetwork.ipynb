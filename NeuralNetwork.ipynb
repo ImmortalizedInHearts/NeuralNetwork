{
  "nbformat": 4,
  "nbformat_minor": 0,
  "metadata": {
    "colab": {
      "name": "Copy of Copy of Copy of Welcome To Colaboratory",
      "provenance": [],
      "collapsed_sections": [],
      "include_colab_link": true
    },
    "kernelspec": {
      "display_name": "Python 3",
      "name": "python3"
    }
  },
  "cells": [
    {
      "cell_type": "markdown",
      "metadata": {
        "id": "view-in-github",
        "colab_type": "text"
      },
      "source": [
        "<a href=\"https://colab.research.google.com/github/ImmortalizedInHearts/NeuralNetwork/blob/main/NeuralNetwork.ipynb\" target=\"_parent\"><img src=\"https://colab.research.google.com/assets/colab-badge.svg\" alt=\"Open In Colab\"/></a>"
      ]
    },
    {
      "cell_type": "code",
      "metadata": {
        "id": "cX3ofqbQeOh0"
      },
      "source": [
        "import numpy as np\n",
        "import scipy.io\n",
        "import matplotlib.pyplot as plt\n",
        "from scipy.special import softmax\n",
        "\n",
        "from tqdm import tqdm"
      ],
      "execution_count": 3,
      "outputs": []
    },
    {
      "cell_type": "code",
      "metadata": {
        "id": "HjRmsCHENqzT"
      },
      "source": [
        "mat = scipy.io.loadmat('data.mat')\n",
        "trainInputs = np.array(mat['data']['test'][0][0][0][0][0])\n",
        "trainTargets = np.array(mat['data']['test'][0][0][0][0][1])\n",
        "\n",
        "testInputs = np.array(mat['data']['training'][0][0][0][0][0])\n",
        "testTargets = np.array(mat['data']['training'][0][0][0][0][1])\n",
        "\n",
        "validationInputs = np.array(mat['data']['validation'][0][0][0][0][1])\n",
        "validationTargets = np.array(mat['data']['validation'][0][0][0][0][0])"
      ],
      "execution_count": 54,
      "outputs": []
    },
    {
      "cell_type": "code",
      "metadata": {
        "id": "9waoOzG9fKZp"
      },
      "source": [
        "def sigmoid(x):\n",
        "  return 1 / (1 + np.exp(-x))\n",
        "  \n",
        "def derivSigmoid(x):\n",
        "  return x * (1 - x)\n",
        "\n",
        "def crossEntropyLoss(y_true, y_pred, k):\n",
        "  loss = y_true * np.log(y_pred)\n",
        "  return -1 * np.sum(loss) / len(y_true.T)\n",
        "\n",
        "def targetsSearch(data):\n",
        "  predict = network.feedforward(data)[1].T\n",
        "  return np.array([np.argmax(x) for x in predict])"
      ],
      "execution_count": 79,
      "outputs": []
    },
    {
      "cell_type": "code",
      "metadata": {
        "id": "Ggg5DU4Ofy-0"
      },
      "source": [
        "class NeuralNetwork:\n",
        "  def __init__(self, k):\n",
        "    # weights\n",
        "    self.k = k\n",
        "\n",
        "    # bias\n",
        "    self.b1 = 0\n",
        "    self.b2 = 0\n",
        "\n",
        "    # loss\n",
        "    self.loss = list()\n",
        "    \n",
        "  def feedforward(self, data):\n",
        "    h1 = sigmoid(self.k[0] @ data)\n",
        "    h2 = softmax((self.k[1] @ h1))      #+bias\n",
        "    return (h1, h2)\n",
        "\n",
        "  def train(self, data, y_true):\n",
        "        learn_rate = 0.00001\n",
        "        epochs = 1000\n",
        " \n",
        "        for epoch in tqdm(range(epochs)):\n",
        "            \"\"\" backprop \"\"\"\n",
        "\n",
        "            forward = self.feedforward(data)\n",
        "\n",
        "            # Neuron h1\n",
        "            h1 = forward[0]\n",
        "            \n",
        "            # Neuron h2\n",
        "            h2 = y_pred = forward[1] \n",
        "\n",
        "            dL_dh2 = h2 - y_true\n",
        "            dL_dk2 = dL_dh2 @ h1.T \n",
        "\n",
        "\n",
        "            dh1_dk1 = h1 * (1 - h1)\n",
        "            dL_dh1 =  dL_dh2.T @ self.k[1]\n",
        "            dL_dk1 = (dL_dh1.T * dh1_dk1) @ data.T\n",
        "\n",
        "\n",
        "            \"\"\" Weights and bias updating \"\"\"\n",
        "            # Neuron h1\n",
        "            self.k[0] -= learn_rate * dL_dk1\n",
        "\n",
        "            # Neuron h2\n",
        "            self.k[1] -= learn_rate * dL_dk2\n",
        "\n",
        "            \"\"\" Loss calculation \"\"\"\n",
        "            self.loss.append(crossEntropyLoss(y_true, y_pred, self.k))\n",
        "            #learn_rate -= 0.0005/epochs "
      ],
      "execution_count": 89,
      "outputs": []
    },
    {
      "cell_type": "code",
      "metadata": {
        "id": "IwhxyDtqhNXy",
        "outputId": "e032aba6-38fc-42df-f7e8-be0de7675fa6",
        "colab": {
          "base_uri": "https://localhost:8080/"
        }
      },
      "source": [
        "kParameters = [np.zeros((128,256)), np.zeros((10,128))]\n",
        "confMatrixTest = [[0 for x in range(10)] for i in range(10)]\n",
        "confMatrixValidation = [[0 for x in range(10)] for i in range(10)]\n",
        "confMatrixTrain = [[0 for x in range(10)] for i in range(10)]\n",
        "\n",
        "network = NeuralNetwork(kParameters)\n",
        "network.train(trainInputs, trainTargets)"
      ],
      "execution_count": 90,
      "outputs": [
        {
          "output_type": "stream",
          "text": [
            "100%|██████████| 1000/1000 [01:58<00:00,  8.43it/s]\n"
          ],
          "name": "stderr"
        }
      ]
    },
    {
      "cell_type": "code",
      "metadata": {
        "id": "4BRHHNms89Do"
      },
      "source": [
        "testPredictions = [np.argmax(x) for x in network.feedforward(testInputs)[1].T]\n",
        "validationPredictions = [np.argmax(x) for x in network.feedforward(validationInputs)[1].T]\n",
        "trainPredictions = [np.argmax(x) for x in network.feedforward(trainInputs)[1].T]\n",
        "\n",
        "\n",
        "for index in range(len(trainPredictions)):\n",
        "  if index < 1000:\n",
        "    confMatrixTest[np.argmax(testTargets.T[index])][testPredictions[index]] += 1\n",
        "    confMatrixValidation[np.argmax(validationTargets.T[index])][validationPredictions[index]] += 1\n",
        "  confMatrixTrain[np.argmax(trainTargets.T[index])][trainPredictions[index]] += 1"
      ],
      "execution_count": 91,
      "outputs": []
    },
    {
      "cell_type": "code",
      "metadata": {
        "id": "fN6FU0-SOzKv",
        "outputId": "9d93def0-a869-45f9-e2df-980cd61bd7df",
        "colab": {
          "base_uri": "https://localhost:8080/"
        }
      },
      "source": [
        "testPredictions\n",
        "network.k[1]"
      ],
      "execution_count": 92,
      "outputs": [
        {
          "output_type": "execute_result",
          "data": {
            "text/plain": [
              "array([[8.81924766, 8.81924766, 8.81924766, ..., 8.81924766, 8.81924766,\n",
              "        8.81924766],\n",
              "       [8.77815351, 8.77815351, 8.77815351, ..., 8.77815351, 8.77815351,\n",
              "        8.77815351],\n",
              "       [8.79310407, 8.79310407, 8.79310407, ..., 8.79310407, 8.79310407,\n",
              "        8.79310407],\n",
              "       ...,\n",
              "       [8.7498982 , 8.7498982 , 8.7498982 , ..., 8.7498982 , 8.7498982 ,\n",
              "        8.7498982 ],\n",
              "       [8.81162313, 8.81162313, 8.81162313, ..., 8.81162313, 8.81162313,\n",
              "        8.81162313],\n",
              "       [8.79602961, 8.79602961, 8.79602961, ..., 8.79602961, 8.79602961,\n",
              "        8.79602961]])"
            ]
          },
          "metadata": {
            "tags": []
          },
          "execution_count": 92
        }
      ]
    },
    {
      "cell_type": "code",
      "metadata": {
        "id": "fsFaD0N9htuH",
        "outputId": "23ebef67-15a2-4a77-bb47-a9d71995f15d",
        "colab": {
          "base_uri": "https://localhost:8080/"
        }
      },
      "source": [
        "print(np.mean([confMatrixTest[i][i] for i in range(10)]))\n",
        "confMatrixTest"
      ],
      "execution_count": 93,
      "outputs": [
        {
          "output_type": "stream",
          "text": [
            "10.0\n"
          ],
          "name": "stdout"
        },
        {
          "output_type": "execute_result",
          "data": {
            "text/plain": [
              "[[100, 0, 0, 0, 0, 0, 0, 0, 0, 0],\n",
              " [100, 0, 0, 0, 0, 0, 0, 0, 0, 0],\n",
              " [100, 0, 0, 0, 0, 0, 0, 0, 0, 0],\n",
              " [100, 0, 0, 0, 0, 0, 0, 0, 0, 0],\n",
              " [100, 0, 0, 0, 0, 0, 0, 0, 0, 0],\n",
              " [100, 0, 0, 0, 0, 0, 0, 0, 0, 0],\n",
              " [100, 0, 0, 0, 0, 0, 0, 0, 0, 0],\n",
              " [100, 0, 0, 0, 0, 0, 0, 0, 0, 0],\n",
              " [100, 0, 0, 0, 0, 0, 0, 0, 0, 0],\n",
              " [100, 0, 0, 0, 0, 0, 0, 0, 0, 0]]"
            ]
          },
          "metadata": {
            "tags": []
          },
          "execution_count": 93
        }
      ]
    },
    {
      "cell_type": "code",
      "metadata": {
        "id": "2zpwu7vwEpOK",
        "outputId": "7e3d2f3a-28fd-4518-950c-14d555dba3bf",
        "colab": {
          "base_uri": "https://localhost:8080/"
        }
      },
      "source": [
        "print(np.mean([confMatrixValidation[i][i] for i in range(10)]))\n",
        "confMatrixValidation"
      ],
      "execution_count": 94,
      "outputs": [
        {
          "output_type": "stream",
          "text": [
            "10.0\n"
          ],
          "name": "stdout"
        },
        {
          "output_type": "execute_result",
          "data": {
            "text/plain": [
              "[[100, 0, 0, 0, 0, 0, 0, 0, 0, 0],\n",
              " [100, 0, 0, 0, 0, 0, 0, 0, 0, 0],\n",
              " [100, 0, 0, 0, 0, 0, 0, 0, 0, 0],\n",
              " [100, 0, 0, 0, 0, 0, 0, 0, 0, 0],\n",
              " [100, 0, 0, 0, 0, 0, 0, 0, 0, 0],\n",
              " [100, 0, 0, 0, 0, 0, 0, 0, 0, 0],\n",
              " [100, 0, 0, 0, 0, 0, 0, 0, 0, 0],\n",
              " [100, 0, 0, 0, 0, 0, 0, 0, 0, 0],\n",
              " [100, 0, 0, 0, 0, 0, 0, 0, 0, 0],\n",
              " [100, 0, 0, 0, 0, 0, 0, 0, 0, 0]]"
            ]
          },
          "metadata": {
            "tags": []
          },
          "execution_count": 94
        }
      ]
    },
    {
      "cell_type": "code",
      "metadata": {
        "id": "f34beqUFoSfT",
        "outputId": "b74f77a5-8fcf-45f6-f9ed-648d8acaf0f7",
        "colab": {
          "base_uri": "https://localhost:8080/"
        }
      },
      "source": [
        "print(np.mean([confMatrixTrain[i][i] for i in range(10)]))\n",
        "confMatrixTrain"
      ],
      "execution_count": 95,
      "outputs": [
        {
          "output_type": "stream",
          "text": [
            "90.0\n"
          ],
          "name": "stdout"
        },
        {
          "output_type": "execute_result",
          "data": {
            "text/plain": [
              "[[900, 0, 0, 0, 0, 0, 0, 0, 0, 0],\n",
              " [900, 0, 0, 0, 0, 0, 0, 0, 0, 0],\n",
              " [900, 0, 0, 0, 0, 0, 0, 0, 0, 0],\n",
              " [900, 0, 0, 0, 0, 0, 0, 0, 0, 0],\n",
              " [900, 0, 0, 0, 0, 0, 0, 0, 0, 0],\n",
              " [900, 0, 0, 0, 0, 0, 0, 0, 0, 0],\n",
              " [900, 0, 0, 0, 0, 0, 0, 0, 0, 0],\n",
              " [900, 0, 0, 0, 0, 0, 0, 0, 0, 0],\n",
              " [900, 0, 0, 0, 0, 0, 0, 0, 0, 0],\n",
              " [900, 0, 0, 0, 0, 0, 0, 0, 0, 0]]"
            ]
          },
          "metadata": {
            "tags": []
          },
          "execution_count": 95
        }
      ]
    },
    {
      "cell_type": "code",
      "metadata": {
        "id": "lceJLsu5GcGQ",
        "outputId": "2097fbb0-3404-430c-bed8-0eb50c45d546",
        "colab": {
          "base_uri": "https://localhost:8080/",
          "height": 281
        }
      },
      "source": [
        "plt.plot(network.loss, label='loss')\n",
        "plt.legend()"
      ],
      "execution_count": 96,
      "outputs": [
        {
          "output_type": "execute_result",
          "data": {
            "text/plain": [
              "<matplotlib.legend.Legend at 0x7ff0b93a94a8>"
            ]
          },
          "metadata": {
            "tags": []
          },
          "execution_count": 96
        },
        {
          "output_type": "display_data",
          "data": {
            "image/png": "[encoded data removed]",
            "text/plain": [
              "<Figure size 432x288 with 1 Axes>"
            ]
          },
          "metadata": {
            "tags": [],
            "needs_background": "light"
          }
        }
      ]
    },
    {
      "cell_type": "code",
      "metadata": {
        "id": "nkG86U8k2q9c",
        "outputId": "9c522336-9df5-4e02-8b52-b8db457022f8",
        "colab": {
          "base_uri": "https://localhost:8080/"
        }
      },
      "source": [
        "(np.array([[3,6,6,1,1],[2,1,7,8,3]]).T @ np.array([[1,3,1],[0,2,1]])).T"
      ],
      "execution_count": null,
      "outputs": [
        {
          "output_type": "execute_result",
          "data": {
            "text/plain": [
              "array([[ 3,  6,  6,  1,  1],\n",
              "       [13, 20, 32, 19,  9],\n",
              "       [ 5,  7, 13,  9,  4]])"
            ]
          },
          "metadata": {
            "tags": []
          },
          "execution_count": 7
        }
      ]
    },
    {
      "cell_type": "code",
      "metadata": {
        "id": "esU_lacuEQs3"
      },
      "source": [
        ""
      ],
      "execution_count": null,
      "outputs": []
    }
  ]
}