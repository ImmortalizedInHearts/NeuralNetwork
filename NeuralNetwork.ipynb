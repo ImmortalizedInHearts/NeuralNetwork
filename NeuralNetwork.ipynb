{
  "nbformat": 4,
  "nbformat_minor": 0,
  "metadata": {
    "colab": {
      "name": "Copy of Copy of Welcome To Colaboratory",
      "provenance": [],
      "collapsed_sections": [],
      "include_colab_link": true
    },
    "kernelspec": {
      "display_name": "Python 3",
      "name": "python3"
    }
  },
  "cells": [
    {
      "cell_type": "markdown",
      "metadata": {
        "id": "view-in-github",
        "colab_type": "text"
      },
      "source": [
        "<a href=\"https://colab.research.google.com/github/ImmortalizedInHearts/NeuralNetwork/blob/main/NeuralNetwork.ipynb\" target=\"_parent\"><img src=\"https://colab.research.google.com/assets/colab-badge.svg\" alt=\"Open In Colab\"/></a>"
      ]
    },
    {
      "cell_type": "code",
      "metadata": {
        "id": "cX3ofqbQeOh0"
      },
      "source": [
        "import numpy as np\n",
        "import scipy.io\n",
        "import matplotlib.pyplot as plt\n",
        "\n",
        "from tqdm import tqdm"
      ],
      "execution_count": 9,
      "outputs": []
    },
    {
      "cell_type": "code",
      "metadata": {
        "id": "HjRmsCHENqzT"
      },
      "source": [
        "mat = scipy.io.loadmat('data.mat')\n",
        "trainInputs = np.array(mat['data']['test'][0][0][0][0][0])\n",
        "trainTargets = np.array(mat['data']['test'][0][0][0][0][1])\n",
        "\n",
        "testInputs = np.array(mat['data']['training'][0][0][0][0][0])\n",
        "testTargets = np.array(mat['data']['training'][0][0][0][0][1])\n",
        "\n",
        "validationInputs = np.array(mat['data']['validation'][0][0][0][0][1])\n",
        "validationTargets = np.array(mat['data']['validation'][0][0][0][0][0])"
      ],
      "execution_count": 10,
      "outputs": []
    },
    {
      "cell_type": "code",
      "metadata": {
        "id": "9waoOzG9fKZp"
      },
      "source": [
        "def sigmoid(x):\n",
        "  return 1 / (1 + np.exp(-x))\n",
        "  \n",
        "def derivSigmoid(x):\n",
        "  return x * (1 - x)\n",
        "\n",
        "def crossEntropyLoss(y_true, y_pred, k):\n",
        "  loss = y_true[y_true == 1] @ np.log(y_pred[y_true == 1])\n",
        "  return -1 * loss / len(y_true.T) + network.l1 * np.abs(k).mean()\n",
        "\n",
        "def targetsSearch(data):\n",
        "  predict = network.feedforward(data).T\n",
        "  return np.array([np.argmax(x) for x in predict])"
      ],
      "execution_count": 11,
      "outputs": []
    },
    {
      "cell_type": "code",
      "metadata": {
        "id": "Ggg5DU4Ofy-0"
      },
      "source": [
        "class NeuralNetwork:\n",
        "  def __init__(self, k):\n",
        "    # weights\n",
        "    self.k = k\n",
        "\n",
        "    # bias\n",
        "    self.b1 = 0\n",
        "    self.b2 = 0\n",
        "\n",
        "    # regularization parameter\n",
        "    self.l1 = 0.1\n",
        "\n",
        "    # loss\n",
        "    self.loss = list()\n",
        "    \n",
        "  def feedforward(self, data):\n",
        "    h1 = sigmoid(self.k @ data) #+bias\n",
        "    return h1\n",
        "\n",
        "  def train(self, data, y_true):\n",
        "        learn_rate = 0.00000005\n",
        "        epochs = 15000\n",
        " \n",
        "        for epoch in tqdm(range(epochs)):\n",
        "            # backprop\n",
        "            y_pred = self.feedforward(data)\n",
        "\n",
        "            dL_dk = (-1 * y_true) * (1 - y_pred) # NOT AT ALL (must be y_true/y_pred) \n",
        "\n",
        "            \"\"\" Weights and bias updating \"\"\"\n",
        "            # Neuron h1\n",
        "            self.k -= learn_rate * (dL_dk @ data.T + self.l1 * np.sign(self.k))\n",
        "\n",
        "            \"\"\" Loss calculation \"\"\"\n",
        "            self.loss.append(crossEntropyLoss(y_true, y_pred, self.k))"
      ],
      "execution_count": 36,
      "outputs": []
    },
    {
      "cell_type": "code",
      "metadata": {
        "id": "IwhxyDtqhNXy",
        "outputId": "e3da0235-e2f4-477a-f5b0-e0295fc3a415",
        "colab": {
          "base_uri": "https://localhost:8080/"
        }
      },
      "source": [
        "kParameters = np.zeros((10,256))\n",
        "confMatrixTest = [[0 for x in range(10)] for i in range(10)]\n",
        "confMatrixValidation = [[0 for x in range(10)] for i in range(10)]\n",
        "\n",
        "\n",
        "network = NeuralNetwork(kParameters)\n",
        "network.train(trainInputs, trainTargets)"
      ],
      "execution_count": 37,
      "outputs": [
        {
          "output_type": "stream",
          "text": [
            "100%|██████████| 15000/15000 [04:10<00:00, 59.77it/s]\n"
          ],
          "name": "stderr"
        }
      ]
    },
    {
      "cell_type": "code",
      "metadata": {
        "id": "4BRHHNms89Do"
      },
      "source": [
        "testPredictions = targetsSearch(testInputs)\n",
        "validationPredictions = targetsSearch(validationInputs)\n",
        "\n",
        "for index in range(len(validationPredictions)):\n",
        "  confMatrixTest[np.argmax(testTargets.T[index])][testPredictions[index]] += 1\n",
        "  confMatrixValidation[np.argmax(validationTargets.T[index])][validationPredictions[index]] += 1"
      ],
      "execution_count": 38,
      "outputs": []
    },
    {
      "cell_type": "code",
      "metadata": {
        "id": "fsFaD0N9htuH",
        "outputId": "89002f9f-7b46-4678-ac19-77a7d0acbed0",
        "colab": {
          "base_uri": "https://localhost:8080/"
        }
      },
      "source": [
        "print(np.mean([confMatrixTest[i][i] for i in range(10)]))\n",
        "confMatrixTest"
      ],
      "execution_count": 39,
      "outputs": [
        {
          "output_type": "stream",
          "text": [
            "81.4\n"
          ],
          "name": "stdout"
        },
        {
          "output_type": "execute_result",
          "data": {
            "text/plain": [
              "[[82, 1, 1, 0, 2, 3, 5, 1, 5, 0],\n",
              " [0, 82, 7, 2, 2, 1, 0, 1, 5, 0],\n",
              " [2, 0, 83, 3, 0, 0, 4, 1, 6, 1],\n",
              " [0, 1, 1, 86, 0, 5, 1, 1, 4, 1],\n",
              " [0, 7, 1, 0, 83, 0, 2, 1, 1, 5],\n",
              " [0, 2, 1, 10, 1, 81, 1, 0, 3, 1],\n",
              " [0, 4, 3, 0, 1, 1, 90, 0, 1, 0],\n",
              " [0, 12, 0, 0, 0, 0, 0, 84, 1, 3],\n",
              " [0, 5, 3, 6, 2, 6, 0, 1, 73, 4],\n",
              " [0, 12, 1, 0, 9, 0, 0, 7, 1, 70]]"
            ]
          },
          "metadata": {
            "tags": []
          },
          "execution_count": 39
        }
      ]
    },
    {
      "cell_type": "code",
      "metadata": {
        "id": "2zpwu7vwEpOK",
        "outputId": "3dab3ba6-931b-4f0c-d2a4-c2514be8dace",
        "colab": {
          "base_uri": "https://localhost:8080/"
        }
      },
      "source": [
        "print(np.mean([confMatrixValidation[i][i] for i in range(10)]))\n",
        "confMatrixValidation"
      ],
      "execution_count": 40,
      "outputs": [
        {
          "output_type": "stream",
          "text": [
            "82.0\n"
          ],
          "name": "stdout"
        },
        {
          "output_type": "execute_result",
          "data": {
            "text/plain": [
              "[[84, 0, 1, 0, 1, 1, 10, 0, 3, 0],\n",
              " [0, 75, 8, 4, 4, 0, 0, 0, 9, 0],\n",
              " [1, 0, 82, 5, 2, 1, 3, 2, 4, 0],\n",
              " [0, 0, 2, 87, 0, 7, 0, 2, 2, 0],\n",
              " [0, 7, 0, 0, 88, 0, 3, 0, 0, 2],\n",
              " [0, 1, 1, 13, 0, 78, 0, 1, 5, 1],\n",
              " [0, 5, 2, 0, 3, 1, 86, 0, 3, 0],\n",
              " [0, 10, 0, 0, 0, 0, 0, 85, 0, 5],\n",
              " [0, 0, 1, 5, 2, 4, 0, 1, 78, 9],\n",
              " [0, 6, 0, 1, 12, 0, 0, 3, 1, 77]]"
            ]
          },
          "metadata": {
            "tags": []
          },
          "execution_count": 40
        }
      ]
    },
    {
      "cell_type": "code",
      "metadata": {
        "id": "lceJLsu5GcGQ",
        "outputId": "9516ffee-3a2d-4c7e-bda7-6b2fb8326cd7",
        "colab": {
          "base_uri": "https://localhost:8080/",
          "height": 281
        }
      },
      "source": [
        "plt.plot(network.loss, label='loss')\n",
        "plt.legend()"
      ],
      "execution_count": 41,
      "outputs": [
        {
          "output_type": "execute_result",
          "data": {
            "text/plain": [
              "<matplotlib.legend.Legend at 0x7f23419fe4a8>"
            ]
          },
          "metadata": {
            "tags": []
          },
          "execution_count": 41
        },
        {
          "output_type": "display_data",
          "data": {
            "image/png": "[encoded data removed]",
            "text/plain": [
              "<Figure size 432x288 with 1 Axes>"
            ]
          },
          "metadata": {
            "tags": [],
            "needs_background": "light"
          }
        }
      ]
    },
    {
      "cell_type": "code",
      "metadata": {
        "id": "nkG86U8k2q9c"
      },
      "source": [
        ""
      ],
      "execution_count": null,
      "outputs": []
    }
  ]
}