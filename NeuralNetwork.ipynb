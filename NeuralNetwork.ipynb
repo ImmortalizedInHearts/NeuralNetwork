{
  "nbformat": 4,
  "nbformat_minor": 0,
  "metadata": {
    "colab": {
      "name": "Copy of Copy of Copy of Welcome To Colaboratory",
      "provenance": [],
      "collapsed_sections": [],
      "include_colab_link": true
    },
    "kernelspec": {
      "display_name": "Python 3",
      "name": "python3"
    }
  },
  "cells": [
    {
      "cell_type": "markdown",
      "metadata": {
        "id": "view-in-github",
        "colab_type": "text"
      },
      "source": [
        "<a href=\"https://colab.research.google.com/github/ImmortalizedInHearts/NeuralNetwork/blob/main/NeuralNetwork.ipynb\" target=\"_parent\"><img src=\"https://colab.research.google.com/assets/colab-badge.svg\" alt=\"Open In Colab\"/></a>"
      ]
    },
    {
      "cell_type": "code",
      "metadata": {
        "id": "cX3ofqbQeOh0"
      },
      "source": [
        "import numpy as np\n",
        "import scipy.io\n",
        "import matplotlib.pyplot as plt\n",
        "\n",
        "from tqdm import tqdm"
      ],
      "execution_count": 8,
      "outputs": []
    },
    {
      "cell_type": "code",
      "metadata": {
        "id": "HjRmsCHENqzT"
      },
      "source": [
        "mat = scipy.io.loadmat('data.mat')\n",
        "trainInputs = np.array(mat['data']['test'][0][0][0][0][0])\n",
        "trainTargets = np.array(mat['data']['test'][0][0][0][0][1])\n",
        "\n",
        "testInputs = np.array(mat['data']['training'][0][0][0][0][0])\n",
        "testTargets = np.array(mat['data']['training'][0][0][0][0][1])\n",
        "\n",
        "validationInputs = np.array(mat['data']['validation'][0][0][0][0][1])\n",
        "validationTargets = np.array(mat['data']['validation'][0][0][0][0][0])"
      ],
      "execution_count": 25,
      "outputs": []
    },
    {
      "cell_type": "code",
      "metadata": {
        "id": "9waoOzG9fKZp"
      },
      "source": [
        "def sigmoid(x):\n",
        "  return 1 / (1 + np.exp(-x))\n",
        "  \n",
        "def derivSigmoid(x):\n",
        "  return x * (1 - x)\n",
        "\n",
        "def crossEntropyLoss(y_true, y_pred, k):\n",
        "  loss = y_true[y_true == 1] @ np.log(y_pred[y_true == 1])\n",
        "  return -1 * loss / len(y_true.T) + network.l1 * (np.abs(k[1]).mean() + np.abs(k[0]).mean())\n",
        "\n",
        "def targetsSearch(data):\n",
        "  predict = network.feedforward(data)[1].T\n",
        "  return np.array([np.argmax(x) for x in predict])"
      ],
      "execution_count": 85,
      "outputs": []
    },
    {
      "cell_type": "code",
      "metadata": {
        "id": "Ggg5DU4Ofy-0"
      },
      "source": [
        "class NeuralNetwork:\n",
        "  def __init__(self, k):\n",
        "    # weights\n",
        "    self.k = k\n",
        "\n",
        "    # bias\n",
        "    self.b1 = 0\n",
        "    self.b2 = 0\n",
        "\n",
        "    # regularization parameter\n",
        "    self.l1 = 0.1\n",
        "\n",
        "    # loss\n",
        "    self.loss = list()\n",
        "    \n",
        "  def feedforward(self, data):\n",
        "    h1 = sigmoid(self.k[0] @ data)\n",
        "    h2 = sigmoid(self.k[1] @ h1)      #+bias\n",
        "    return (h1, h2)\n",
        "\n",
        "  def train(self, data, y_true):\n",
        "        learn_rate = 0.005\n",
        "        epochs = 100\n",
        " \n",
        "        for epoch in tqdm(range(epochs)):\n",
        "            \"\"\" backprop \"\"\"\n",
        "\n",
        "            forward = self.feedforward(data)\n",
        "\n",
        "            # Neuron h1\n",
        "            h1 = forward[0]\n",
        "            \n",
        "            # Neuron h2\n",
        "            h2 = y_pred = forward[1] \n",
        "\n",
        "            dL_dh2 = -1 * y_true * (1 - h2)\n",
        "            dh2_dk2 = h2 * (1 - h2)\n",
        "            dL_dk2 = (dL_dh2 * dh2_dk2) @ h1.T \n",
        "\n",
        "\n",
        "            dh2_dh1 = h2 * (1 - h2)\n",
        "            dh1_dk1 = h1 * (1 - h1)\n",
        "            dL_dh1 = self.k[1].T @ (dL_dh2 * dh2_dh1)\n",
        "            dL_dk1 = (dL_dh1 * dh1_dk1) @ data.T\n",
        "\n",
        "\n",
        "            \"\"\" Weights and bias updating \"\"\"\n",
        "            # Neuron h1\n",
        "            self.k[0] -= learn_rate * (dL_dk1 + self.l1 * np.sign(self.k[0])) / len(data)\n",
        "\n",
        "            # Neuron h2\n",
        "            self.k[1] -= learn_rate * (dL_dk2 + self.l1 * np.sign(self.k[1])) / len(data)\n",
        "\n",
        "            \"\"\" Loss calculation \"\"\"\n",
        "            self.loss.append(crossEntropyLoss(y_true, y_pred, self.k))"
      ],
      "execution_count": 111,
      "outputs": []
    },
    {
      "cell_type": "code",
      "metadata": {
        "id": "IwhxyDtqhNXy",
        "outputId": "f90c5d99-cd8d-44c0-ff48-91161893b5f8",
        "colab": {
          "base_uri": "https://localhost:8080/"
        }
      },
      "source": [
        "kParameters = [np.zeros((128,256)), np.zeros((10,128))]\n",
        "confMatrixTest = [[0 for x in range(10)] for i in range(10)]\n",
        "confMatrixValidation = [[0 for x in range(10)] for i in range(10)]\n",
        "confMatrixTrain = [[0 for x in range(10)] for i in range(10)]\n",
        "\n",
        "network = NeuralNetwork(kParameters)\n",
        "network.train(trainInputs, trainTargets)"
      ],
      "execution_count": 112,
      "outputs": [
        {
          "output_type": "stream",
          "text": [
            "100%|██████████| 100/100 [00:10<00:00,  9.52it/s]\n"
          ],
          "name": "stderr"
        }
      ]
    },
    {
      "cell_type": "code",
      "metadata": {
        "id": "4BRHHNms89Do"
      },
      "source": [
        "testPredictions = [np.argmax(x) for x in network.feedforward(testInputs)[1].T]\n",
        "validationPredictions = [np.argmax(x) for x in network.feedforward(validationInputs)[1].T]\n",
        "trainPredictions = [np.argmax(x) for x in network.feedforward(trainInputs)[1].T]\n",
        "\n",
        "\n",
        "for index in range(len(trainPredictions)):\n",
        "  if index < 1000:\n",
        "    confMatrixTest[np.argmax(testTargets.T[index])][testPredictions[index]] += 1\n",
        "    confMatrixValidation[np.argmax(validationTargets.T[index])][validationPredictions[index]] += 1\n",
        "  confMatrixTrain[np.argmax(trainTargets.T[index])][trainPredictions[index]] += 1"
      ],
      "execution_count": 113,
      "outputs": []
    },
    {
      "cell_type": "code",
      "metadata": {
        "id": "fN6FU0-SOzKv",
        "outputId": "4709bfaf-d88b-4df7-a26d-ad28b726c725",
        "colab": {
          "base_uri": "https://localhost:8080/"
        }
      },
      "source": [
        "testPredictions\n",
        "network.k[1]"
      ],
      "execution_count": 114,
      "outputs": [
        {
          "output_type": "execute_result",
          "data": {
            "text/plain": [
              "array([[0.0317192 , 0.0317192 , 0.0317192 , ..., 0.0317192 , 0.0317192 ,\n",
              "        0.0317192 ],\n",
              "       [0.03174239, 0.03174239, 0.03174239, ..., 0.03174239, 0.03174239,\n",
              "        0.03174239],\n",
              "       [0.0317492 , 0.0317492 , 0.0317492 , ..., 0.0317492 , 0.0317492 ,\n",
              "        0.0317492 ],\n",
              "       ...,\n",
              "       [0.03177597, 0.03177597, 0.03177597, ..., 0.03177597, 0.03177597,\n",
              "        0.03177597],\n",
              "       [0.03172942, 0.03172942, 0.03172942, ..., 0.03172942, 0.03172942,\n",
              "        0.03172942],\n",
              "       [0.03175029, 0.03175029, 0.03175029, ..., 0.03175029, 0.03175029,\n",
              "        0.03175029]])"
            ]
          },
          "metadata": {
            "tags": []
          },
          "execution_count": 114
        }
      ]
    },
    {
      "cell_type": "code",
      "metadata": {
        "id": "fsFaD0N9htuH",
        "outputId": "f931d02a-51c1-48d7-c830-95cc8904579c",
        "colab": {
          "base_uri": "https://localhost:8080/"
        }
      },
      "source": [
        "print(np.mean([confMatrixTest[i][i] for i in range(10)]))\n",
        "confMatrixTest"
      ],
      "execution_count": 115,
      "outputs": [
        {
          "output_type": "stream",
          "text": [
            "10.0\n"
          ],
          "name": "stdout"
        },
        {
          "output_type": "execute_result",
          "data": {
            "text/plain": [
              "[[0, 0, 0, 0, 100, 0, 0, 0, 0, 0],\n",
              " [0, 0, 0, 0, 100, 0, 0, 0, 0, 0],\n",
              " [0, 0, 0, 0, 100, 0, 0, 0, 0, 0],\n",
              " [0, 0, 0, 0, 100, 0, 0, 0, 0, 0],\n",
              " [0, 0, 0, 0, 100, 0, 0, 0, 0, 0],\n",
              " [0, 0, 0, 0, 100, 0, 0, 0, 0, 0],\n",
              " [0, 0, 0, 0, 100, 0, 0, 0, 0, 0],\n",
              " [0, 0, 0, 0, 100, 0, 0, 0, 0, 0],\n",
              " [0, 0, 0, 0, 100, 0, 0, 0, 0, 0],\n",
              " [0, 0, 0, 0, 100, 0, 0, 0, 0, 0]]"
            ]
          },
          "metadata": {
            "tags": []
          },
          "execution_count": 115
        }
      ]
    },
    {
      "cell_type": "code",
      "metadata": {
        "id": "2zpwu7vwEpOK",
        "outputId": "54715b7e-b671-414c-87f9-95bebe8fa650",
        "colab": {
          "base_uri": "https://localhost:8080/"
        }
      },
      "source": [
        "print(np.mean([confMatrixValidation[i][i] for i in range(10)]))\n",
        "confMatrixValidation"
      ],
      "execution_count": 108,
      "outputs": [
        {
          "output_type": "stream",
          "text": [
            "10.0\n"
          ],
          "name": "stdout"
        },
        {
          "output_type": "execute_result",
          "data": {
            "text/plain": [
              "[[100, 0, 0, 0, 0, 0, 0, 0, 0, 0],\n",
              " [100, 0, 0, 0, 0, 0, 0, 0, 0, 0],\n",
              " [100, 0, 0, 0, 0, 0, 0, 0, 0, 0],\n",
              " [100, 0, 0, 0, 0, 0, 0, 0, 0, 0],\n",
              " [100, 0, 0, 0, 0, 0, 0, 0, 0, 0],\n",
              " [100, 0, 0, 0, 0, 0, 0, 0, 0, 0],\n",
              " [100, 0, 0, 0, 0, 0, 0, 0, 0, 0],\n",
              " [100, 0, 0, 0, 0, 0, 0, 0, 0, 0],\n",
              " [100, 0, 0, 0, 0, 0, 0, 0, 0, 0],\n",
              " [100, 0, 0, 0, 0, 0, 0, 0, 0, 0]]"
            ]
          },
          "metadata": {
            "tags": []
          },
          "execution_count": 108
        }
      ]
    },
    {
      "cell_type": "code",
      "metadata": {
        "id": "f34beqUFoSfT",
        "outputId": "1ed4404d-4022-4c98-a612-78302f2b39c1",
        "colab": {
          "base_uri": "https://localhost:8080/"
        }
      },
      "source": [
        "print(np.mean([confMatrixTrain[i][i] for i in range(10)]))\n",
        "confMatrixTrain"
      ],
      "execution_count": 109,
      "outputs": [
        {
          "output_type": "stream",
          "text": [
            "90.0\n"
          ],
          "name": "stdout"
        },
        {
          "output_type": "execute_result",
          "data": {
            "text/plain": [
              "[[900, 0, 0, 0, 0, 0, 0, 0, 0, 0],\n",
              " [900, 0, 0, 0, 0, 0, 0, 0, 0, 0],\n",
              " [900, 0, 0, 0, 0, 0, 0, 0, 0, 0],\n",
              " [900, 0, 0, 0, 0, 0, 0, 0, 0, 0],\n",
              " [900, 0, 0, 0, 0, 0, 0, 0, 0, 0],\n",
              " [900, 0, 0, 0, 0, 0, 0, 0, 0, 0],\n",
              " [900, 0, 0, 0, 0, 0, 0, 0, 0, 0],\n",
              " [900, 0, 0, 0, 0, 0, 0, 0, 0, 0],\n",
              " [900, 0, 0, 0, 0, 0, 0, 0, 0, 0],\n",
              " [900, 0, 0, 0, 0, 0, 0, 0, 0, 0]]"
            ]
          },
          "metadata": {
            "tags": []
          },
          "execution_count": 109
        }
      ]
    },
    {
      "cell_type": "code",
      "metadata": {
        "id": "lceJLsu5GcGQ",
        "outputId": "3935a009-71ea-44dc-9e5f-b12237424a37",
        "colab": {
          "base_uri": "https://localhost:8080/",
          "height": 281
        }
      },
      "source": [
        "plt.plot(network.loss, label='loss')\n",
        "plt.legend()"
      ],
      "execution_count": 110,
      "outputs": [
        {
          "output_type": "execute_result",
          "data": {
            "text/plain": [
              "<matplotlib.legend.Legend at 0x7f65aa881cc0>"
            ]
          },
          "metadata": {
            "tags": []
          },
          "execution_count": 110
        },
        {
          "output_type": "display_data",
          "data": {
            "image/png": "[encoded data removed]",
            "text/plain": [
              "<Figure size 432x288 with 1 Axes>"
            ]
          },
          "metadata": {
            "tags": [],
            "needs_background": "light"
          }
        }
      ]
    },
    {
      "cell_type": "code",
      "metadata": {
        "id": "nkG86U8k2q9c",
        "outputId": "9c522336-9df5-4e02-8b52-b8db457022f8",
        "colab": {
          "base_uri": "https://localhost:8080/"
        }
      },
      "source": [
        "(np.array([[3,6,6,1,1],[2,1,7,8,3]]).T @ np.array([[1,3,1],[0,2,1]])).T"
      ],
      "execution_count": 7,
      "outputs": [
        {
          "output_type": "execute_result",
          "data": {
            "text/plain": [
              "array([[ 3,  6,  6,  1,  1],\n",
              "       [13, 20, 32, 19,  9],\n",
              "       [ 5,  7, 13,  9,  4]])"
            ]
          },
          "metadata": {
            "tags": []
          },
          "execution_count": 7
        }
      ]
    },
    {
      "cell_type": "code",
      "metadata": {
        "id": "esU_lacuEQs3"
      },
      "source": [
        ""
      ],
      "execution_count": null,
      "outputs": []
    }
  ]
}