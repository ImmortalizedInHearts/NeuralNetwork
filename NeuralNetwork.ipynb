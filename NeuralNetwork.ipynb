{
  "nbformat": 4,
  "nbformat_minor": 0,
  "metadata": {
    "colab": {
      "name": "Copy of Copy of Welcome To Colaboratory",
      "provenance": [],
      "collapsed_sections": [],
      "include_colab_link": true
    },
    "kernelspec": {
      "display_name": "Python 3",
      "name": "python3"
    }
  },
  "cells": [
    {
      "cell_type": "markdown",
      "metadata": {
        "id": "view-in-github",
        "colab_type": "text"
      },
      "source": [
        "<a href=\"https://colab.research.google.com/github/ImmortalizedInHearts/NeuralNetwork/blob/main/NeuralNetwork.ipynb\" target=\"_parent\"><img src=\"https://colab.research.google.com/assets/colab-badge.svg\" alt=\"Open In Colab\"/></a>"
      ]
    },
    {
      "cell_type": "code",
      "metadata": {
        "id": "cX3ofqbQeOh0"
      },
      "source": [
        "import numpy as np\n",
        "import scipy.io\n",
        "import matplotlib.pyplot as plt\n",
        "\n",
        "from tqdm import tqdm"
      ],
      "execution_count": null,
      "outputs": []
    },
    {
      "cell_type": "code",
      "metadata": {
        "id": "HjRmsCHENqzT"
      },
      "source": [
        "mat = scipy.io.loadmat('data.mat')\n",
        "trainInputs = np.array(mat['data']['test'][0][0][0][0][0])\n",
        "trainTargets = np.array(mat['data']['test'][0][0][0][0][1])\n",
        "\n",
        "testInputs = np.array(mat['data']['training'][0][0][0][0][0])\n",
        "testTargets = np.array(mat['data']['training'][0][0][0][0][1])\n",
        "\n",
        "validationInputs = np.array(mat['data']['validation'][0][0][0][0][1])\n",
        "validationTargets = np.array(mat['data']['validation'][0][0][0][0][0])"
      ],
      "execution_count": null,
      "outputs": []
    },
    {
      "cell_type": "code",
      "metadata": {
        "id": "9waoOzG9fKZp"
      },
      "source": [
        "def sigmoid(x):\n",
        "  return 1 / (1 + np.exp(-x))\n",
        "  \n",
        "def derivSigmoid(x):\n",
        "  return x * (1 - x)\n",
        "\n",
        "def crossEntropyLoss(y_true, y_pred):\n",
        "  loss = y_true[y_true == 1] @ np.log(y_pred[y_true == 1])\n",
        "  return -1 * loss / len(y_true.T)\n",
        "\n",
        "def targetsSearch(data):\n",
        "  predict = network.feedforward(data).T\n",
        "  return np.array([np.argmax(x) for x in predict])"
      ],
      "execution_count": null,
      "outputs": []
    },
    {
      "cell_type": "code",
      "metadata": {
        "id": "Ggg5DU4Ofy-0"
      },
      "source": [
        "class NeuralNetwork:\n",
        "  def __init__(self, k):\n",
        "    # weights\n",
        "    self.k = k\n",
        "\n",
        "    # bias\n",
        "    self.b1 = 0\n",
        "    self.b2 = 0\n",
        "\n",
        "    # loss\n",
        "    self.loss = list()\n",
        "\n",
        "    # prediction\n",
        "    self.ypreds = list()\n",
        "    \n",
        "  def feedforward(self, data):\n",
        "    h1 = sigmoid(self.k @ data) #+bias\n",
        "    return h1\n",
        "\n",
        "  def train(self, data, y_true):\n",
        "        learn_rate = 0.000005\n",
        "        epochs = 500 \n",
        " \n",
        "        for epoch in tqdm(range(epochs)):\n",
        "            # backprop\n",
        "            y_pred = self.feedforward(data)\n",
        "\n",
        "            dL_dk = (-1 * y_true) * (1 - y_pred) # NOT AT ALL (must be y_true/y_pred) \n",
        "\n",
        "            \"\"\" Weights and bias updating \"\"\"\n",
        "            # Neuron h1\n",
        "            self.k -= learn_rate * dL_dk @ data.T\n",
        "\n",
        "            \"\"\" Loss calculation \"\"\"\n",
        "            self.loss.append(crossEntropyLoss(y_true, y_pred))"
      ],
      "execution_count": null,
      "outputs": []
    },
    {
      "cell_type": "code",
      "metadata": {
        "id": "IwhxyDtqhNXy",
        "outputId": "b4677a8d-7733-4d67-bf28-319f0a5a564c",
        "colab": {
          "base_uri": "https://localhost:8080/"
        }
      },
      "source": [
        "kParameters = np.zeros((10,256))\n",
        "confMatrix = [[0 for x in range(10)] for i in range(10)]\n",
        "network = NeuralNetwork(kParameters)\n",
        "network.train(trainInputs, trainTargets)"
      ],
      "execution_count": null,
      "outputs": [
        {
          "output_type": "stream",
          "text": [
            "100%|██████████| 500/500 [00:07<00:00, 64.01it/s]\n"
          ],
          "name": "stderr"
        }
      ]
    },
    {
      "cell_type": "code",
      "metadata": {
        "id": "4BRHHNms89Do"
      },
      "source": [
        "targets = targetsSearch(testInputs)\n",
        "\n",
        "for index in range(len(targets)):\n",
        "  confMatrix[np.argmax(testTargets.T[index])][targets[index]] += 1"
      ],
      "execution_count": null,
      "outputs": []
    },
    {
      "cell_type": "code",
      "metadata": {
        "id": "fsFaD0N9htuH",
        "outputId": "82173e86-ab6a-43b3-fcf7-5383d393d987",
        "colab": {
          "base_uri": "https://localhost:8080/"
        }
      },
      "source": [
        "confMatrix"
      ],
      "execution_count": null,
      "outputs": [
        {
          "output_type": "execute_result",
          "data": {
            "text/plain": [
              "[[70, 1, 4, 0, 2, 12, 6, 1, 4, 0],\n",
              " [0, 79, 6, 1, 9, 2, 0, 1, 2, 0],\n",
              " [0, 0, 87, 2, 1, 2, 3, 3, 2, 0],\n",
              " [0, 1, 3, 81, 0, 9, 0, 2, 3, 1],\n",
              " [0, 4, 1, 0, 90, 0, 2, 1, 0, 2],\n",
              " [0, 1, 0, 8, 2, 88, 0, 0, 1, 0],\n",
              " [0, 3, 3, 0, 3, 3, 86, 0, 2, 0],\n",
              " [0, 10, 0, 0, 0, 0, 0, 89, 1, 0],\n",
              " [0, 5, 1, 5, 5, 9, 0, 4, 67, 4],\n",
              " [0, 9, 1, 0, 15, 0, 0, 12, 0, 63]]"
            ]
          },
          "metadata": {
            "tags": []
          },
          "execution_count": 43
        }
      ]
    },
    {
      "cell_type": "code",
      "metadata": {
        "id": "2zpwu7vwEpOK",
        "outputId": "0f1bde1c-fbe0-4421-d765-9afe87e737e4",
        "colab": {
          "base_uri": "https://localhost:8080/"
        }
      },
      "source": [
        "np.mean([confMatrix[i][i] for i in range(10)])"
      ],
      "execution_count": null,
      "outputs": [
        {
          "output_type": "execute_result",
          "data": {
            "text/plain": [
              "80.0"
            ]
          },
          "metadata": {
            "tags": []
          },
          "execution_count": 44
        }
      ]
    },
    {
      "cell_type": "code",
      "metadata": {
        "id": "lceJLsu5GcGQ",
        "outputId": "807891db-19ef-470e-8481-f2a90391cdc5",
        "colab": {
          "base_uri": "https://localhost:8080/",
          "height": 282
        }
      },
      "source": [
        "plt.plot(network.loss, label='loss')\n",
        "plt.legend()"
      ],
      "execution_count": null,
      "outputs": [
        {
          "output_type": "execute_result",
          "data": {
            "text/plain": [
              "<matplotlib.legend.Legend at 0x7faf79ab38d0>"
            ]
          },
          "metadata": {
            "tags": []
          },
          "execution_count": 45
        },
        {
          "output_type": "display_data",
          "data": {
            "image/png": "[encoded data removed]",
            "text/plain": [
              "<Figure size 432x288 with 1 Axes>"
            ]
          },
          "metadata": {
            "tags": [],
            "needs_background": "light"
          }
        }
      ]
    },
    {
      "cell_type": "code",
      "metadata": {
        "id": "XEjKT0RaXdse"
      },
      "source": [
        ""
      ],
      "execution_count": null,
      "outputs": []
    }
  ]
}