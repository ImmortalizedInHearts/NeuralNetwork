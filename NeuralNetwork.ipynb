{
  "nbformat": 4,
  "nbformat_minor": 0,
  "metadata": {
    "colab": {
      "name": "Copy of Copy of Welcome To Colaboratory",
      "provenance": [],
      "collapsed_sections": [],
      "toc_visible": true,
      "include_colab_link": true
    },
    "kernelspec": {
      "display_name": "Python 3",
      "name": "python3"
    }
  },
  "cells": [
    {
      "cell_type": "markdown",
      "metadata": {
        "id": "view-in-github",
        "colab_type": "text"
      },
      "source": [
        "<a href=\"https://colab.research.google.com/github/ImmortalizedInHearts/NeuralNetwork/blob/main/NeuralNetwork.ipynb\" target=\"_parent\"><img src=\"https://colab.research.google.com/assets/colab-badge.svg\" alt=\"Open In Colab\"/></a>"
      ]
    },
    {
      "cell_type": "code",
      "metadata": {
        "id": "cX3ofqbQeOh0"
      },
      "source": [
        "import numpy as np\n",
        "import scipy.io\n",
        "import matplotlib.pyplot as plt\n",
        "\n",
        "from tqdm import tqdm"
      ],
      "execution_count": 2,
      "outputs": []
    },
    {
      "cell_type": "code",
      "metadata": {
        "id": "HjRmsCHENqzT"
      },
      "source": [
        "mat = scipy.io.loadmat('data.mat')\n",
        "trainInputs = np.array(mat['data']['test'][0][0][0][0][0])\n",
        "trainTargets = np.array(mat['data']['test'][0][0][0][0][1])\n",
        "\n",
        "testInputs = np.array(mat['data']['training'][0][0][0][0][0])\n",
        "testTargets = np.array(mat['data']['training'][0][0][0][0][1])\n",
        "\n",
        "validationInputs = np.array(mat['data']['validation'][0][0][0][0][1])\n",
        "validationTargets = np.array(mat['data']['validation'][0][0][0][0][0])"
      ],
      "execution_count": 73,
      "outputs": []
    },
    {
      "cell_type": "code",
      "metadata": {
        "id": "9waoOzG9fKZp"
      },
      "source": [
        "def sigmoid(x):\n",
        "  return 1 / (1 + np.exp(-x))\n",
        "  \n",
        "def derivSigmoid(x):\n",
        "  return x * (1 - x)\n",
        "\n",
        "def crossEntropyLoss(y_true, y_pred, k):\n",
        "  loss = y_true[y_true == 1] @ np.log(y_pred[y_true == 1])\n",
        "  return -1 * loss / len(y_true.T) + network.l1 * np.abs(k).mean()\n",
        "\n",
        "def targetsSearch(data):\n",
        "  predict = network.feedforward(data).T\n",
        "  return np.array([np.argmax(x) for x in predict])"
      ],
      "execution_count": 101,
      "outputs": []
    },
    {
      "cell_type": "code",
      "metadata": {
        "id": "Ggg5DU4Ofy-0"
      },
      "source": [
        "class NeuralNetwork:\n",
        "  def __init__(self, k):\n",
        "    # weights\n",
        "    self.k = k\n",
        "\n",
        "    # bias\n",
        "    self.b1 = 0\n",
        "    self.b2 = 0\n",
        "\n",
        "    # regularization parameter\n",
        "    self.l1 = 0.1\n",
        "\n",
        "    # loss\n",
        "    self.loss = list()\n",
        "\n",
        "    # prediction\n",
        "    self.ypreds = list()\n",
        "    \n",
        "  def feedforward(self, data):\n",
        "    h1 = sigmoid(self.k @ data) #+bias\n",
        "    return h1\n",
        "\n",
        "  def train(self, data, y_true):\n",
        "        learn_rate = 0.0000005\n",
        "        epochs = 5000\n",
        " \n",
        "        for epoch in tqdm(range(epochs)):\n",
        "            # backprop\n",
        "            y_pred = self.feedforward(data)\n",
        "\n",
        "            dL_dk = (-1 * y_true) * (1 - y_pred) # NOT AT ALL (must be y_true/y_pred) \n",
        "\n",
        "            \"\"\" Weights and bias updating \"\"\"\n",
        "            # Neuron h1\n",
        "            self.k -= learn_rate * (dL_dk @ data.T + self.l1 * np.sign(self.k))\n",
        "\n",
        "            \"\"\" Loss calculation \"\"\"\n",
        "            self.loss.append(crossEntropyLoss(y_true, y_pred, self.k))"
      ],
      "execution_count": 126,
      "outputs": []
    },
    {
      "cell_type": "code",
      "metadata": {
        "id": "IwhxyDtqhNXy",
        "outputId": "92d0ac11-6949-461d-b386-b5fdf2afcc9b",
        "colab": {
          "base_uri": "https://localhost:8080/"
        }
      },
      "source": [
        "kParameters = np.zeros((10,256))\n",
        "confMatrixTest = [[0 for x in range(10)] for i in range(10)]\n",
        "confMatrixValidation = [[0 for x in range(10)] for i in range(10)]\n",
        "network = NeuralNetwork(kParameters)\n",
        "network.train(trainInputs, trainTargets)"
      ],
      "execution_count": 127,
      "outputs": [
        {
          "output_type": "stream",
          "text": [
            "100%|██████████| 5000/5000 [01:25<00:00, 58.47it/s]\n"
          ],
          "name": "stderr"
        }
      ]
    },
    {
      "cell_type": "code",
      "metadata": {
        "id": "4BRHHNms89Do"
      },
      "source": [
        "testPredictions = targetsSearch(testInputs)\n",
        "validationPredictions = targetsSearch(validationInputs)\n",
        "\n",
        "for index in range(len(validationPredictions)):\n",
        "  confMatrixTest[np.argmax(testTargets.T[index])][testPredictions[index]] += 1\n",
        "  confMatrixValidation[np.argmax(validationTargets.T[index])][validationPredictions[index]] += 1"
      ],
      "execution_count": 128,
      "outputs": []
    },
    {
      "cell_type": "code",
      "metadata": {
        "id": "fsFaD0N9htuH",
        "outputId": "6e3728ad-dae7-4c7e-fb95-afbe09b54f32",
        "colab": {
          "base_uri": "https://localhost:8080/"
        }
      },
      "source": [
        "print(np.mean([confMatrixTest[i][i] for i in range(10)]))\n",
        "confMatrixTest"
      ],
      "execution_count": 129,
      "outputs": [
        {
          "output_type": "stream",
          "text": [
            "80.0\n"
          ],
          "name": "stdout"
        },
        {
          "output_type": "execute_result",
          "data": {
            "text/plain": [
              "[[70, 1, 4, 0, 2, 12, 6, 1, 4, 0],\n",
              " [0, 79, 6, 1, 9, 2, 0, 1, 2, 0],\n",
              " [0, 0, 87, 2, 1, 2, 3, 3, 2, 0],\n",
              " [0, 1, 3, 81, 0, 9, 0, 2, 3, 1],\n",
              " [0, 4, 1, 0, 90, 0, 2, 1, 0, 2],\n",
              " [0, 1, 0, 8, 2, 88, 0, 0, 1, 0],\n",
              " [0, 3, 3, 0, 3, 3, 86, 0, 2, 0],\n",
              " [0, 10, 0, 0, 0, 0, 0, 89, 1, 0],\n",
              " [0, 5, 1, 5, 5, 9, 0, 4, 67, 4],\n",
              " [0, 9, 1, 0, 15, 0, 0, 12, 0, 63]]"
            ]
          },
          "metadata": {
            "tags": []
          },
          "execution_count": 129
        }
      ]
    },
    {
      "cell_type": "code",
      "metadata": {
        "id": "2zpwu7vwEpOK",
        "outputId": "0bbef3a3-80bc-4868-8e7c-b97ac306a44b",
        "colab": {
          "base_uri": "https://localhost:8080/"
        }
      },
      "source": [
        "print(np.mean([confMatrixValidation[i][i] for i in range(10)]))\n",
        "confMatrixValidation"
      ],
      "execution_count": 130,
      "outputs": [
        {
          "output_type": "stream",
          "text": [
            "79.6\n"
          ],
          "name": "stdout"
        },
        {
          "output_type": "execute_result",
          "data": {
            "text/plain": [
              "[[69, 0, 3, 0, 2, 16, 8, 0, 2, 0],\n",
              " [0, 74, 8, 2, 10, 3, 0, 0, 3, 0],\n",
              " [0, 0, 79, 5, 3, 2, 3, 5, 3, 0],\n",
              " [0, 0, 2, 82, 1, 11, 0, 2, 2, 0],\n",
              " [0, 6, 0, 0, 93, 0, 1, 0, 0, 0],\n",
              " [0, 1, 1, 9, 0, 85, 0, 2, 1, 1],\n",
              " [0, 3, 4, 0, 4, 2, 84, 0, 3, 0],\n",
              " [0, 5, 0, 0, 1, 0, 0, 93, 0, 1],\n",
              " [0, 0, 2, 5, 9, 4, 0, 2, 74, 4],\n",
              " [0, 4, 0, 1, 18, 0, 0, 13, 1, 63]]"
            ]
          },
          "metadata": {
            "tags": []
          },
          "execution_count": 130
        }
      ]
    },
    {
      "cell_type": "code",
      "metadata": {
        "id": "lceJLsu5GcGQ",
        "outputId": "570c5198-402a-42db-8446-39fa08548504",
        "colab": {
          "base_uri": "https://localhost:8080/",
          "height": 281
        }
      },
      "source": [
        "plt.plot(network.loss, label='loss')\n",
        "plt.legend()"
      ],
      "execution_count": 131,
      "outputs": [
        {
          "output_type": "execute_result",
          "data": {
            "text/plain": [
              "<matplotlib.legend.Legend at 0x7f07d24c1f98>"
            ]
          },
          "metadata": {
            "tags": []
          },
          "execution_count": 131
        },
        {
          "output_type": "display_data",
          "data": {
            "image/png": "[encoded data removed]",
            "text/plain": [
              "<Figure size 432x288 with 1 Axes>"
            ]
          },
          "metadata": {
            "tags": [],
            "needs_background": "light"
          }
        }
      ]
    },
    {
      "cell_type": "code",
      "metadata": {
        "id": "nkG86U8k2q9c"
      },
      "source": [
        ""
      ],
      "execution_count": null,
      "outputs": []
    }
  ]
}