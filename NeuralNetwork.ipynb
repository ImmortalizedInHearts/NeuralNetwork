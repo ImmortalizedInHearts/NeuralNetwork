{
  "nbformat": 4,
  "nbformat_minor": 0,
  "metadata": {
    "colab": {
      "name": "Welcome To Colaboratory",
      "provenance": [],
      "collapsed_sections": [],
      "include_colab_link": true
    },
    "kernelspec": {
      "display_name": "Python 3",
      "name": "python3"
    }
  },
  "cells": [
    {
      "cell_type": "markdown",
      "metadata": {
        "id": "view-in-github",
        "colab_type": "text"
      },
      "source": [
        "<a href=\"https://colab.research.google.com/github/ImmortalizedInHearts/NeuralNetwork/blob/main/NeuralNetwork.ipynb\" target=\"_parent\"><img src=\"https://colab.research.google.com/assets/colab-badge.svg\" alt=\"Open In Colab\"/></a>"
      ]
    },
    {
      "cell_type": "code",
      "metadata": {
        "id": "cX3ofqbQeOh0"
      },
      "source": [
        "import numpy as np\n",
        "import matplotlib.pyplot as plt\n",
        "\n",
        "from tqdm import tqdm"
      ],
      "execution_count": 40,
      "outputs": []
    },
    {
      "cell_type": "code",
      "metadata": {
        "id": "9waoOzG9fKZp"
      },
      "source": [
        "def sigmoid(x):\n",
        "  return 1 / (1 + np.exp(-x))\n",
        "  \n",
        "def derivSigmoid(x):\n",
        "  return sigmoid(x) * (1 - sigmoid(x))  \n",
        "\n",
        "def mseLoss(y_true, y_pred):\n",
        "  return ((y_true - y_pred) ** 2).mean()"
      ],
      "execution_count": 31,
      "outputs": []
    },
    {
      "cell_type": "code",
      "metadata": {
        "id": "Ggg5DU4Ofy-0"
      },
      "source": [
        "class NeuralNetwork:\n",
        "  def __init__(self):\n",
        "    # weights\n",
        "    self.w1 = np.random.normal()\n",
        "    self.w2 = np.random.normal()\n",
        "    self.w3 = np.random.normal()\n",
        "    self.w4 = np.random.normal()\n",
        "    self.w5 = np.random.normal()\n",
        "    self.w6 = np.random.normal()\n",
        "    \n",
        "    # bias\n",
        "    self.b1 = np.random.normal()\n",
        "    self.b2 = np.random.normal()\n",
        "    self.b3 = np.random.normal()\n",
        "\n",
        "    # loss\n",
        "    self.loss = list()\n",
        "\n",
        "    # prediction\n",
        "    self.ypreds = list() \n",
        "\n",
        "    # confMatrix\n",
        "    self.confMatrix = [[0 for x in range(2)] for i in range(2)]\n",
        "    \n",
        "  def feedforward(self, x):\n",
        "    h1 = sigmoid(self.w1 * x[0] + self.w2 * x[1] + self.b1)\n",
        "    h2 = sigmoid(self.w3 * x[0] + self.w4 * x[1] + self.b2)\n",
        "\n",
        "    o1 = sigmoid(self.w5 * h1 + self.w6 * h2 + self.b3)\n",
        "    return o1\n",
        "\n",
        "  def train(self, data, all_y_trues):\n",
        "        learn_rate = 0.1\n",
        "        epochs = 1000 \n",
        " \n",
        "        for epoch in tqdm(range(epochs)):\n",
        "            for x, y_true in zip(data, all_y_trues):\n",
        "                # backprop\n",
        "                sum_h1 = self.w1 * x[0] + self.w2 * x[1] + self.b1\n",
        "                h1 = sigmoid(sum_h1)\n",
        " \n",
        "                sum_h2 = self.w3 * x[0] + self.w4 * x[1] + self.b2\n",
        "                h2 = sigmoid(sum_h2)\n",
        " \n",
        "                sum_o1 = self.w5 * h1 + self.w6 * h2 + self.b3\n",
        "                o1 = sigmoid(sum_o1)\n",
        "                y_pred = o1\n",
        " \n",
        "                dL_dypred = -2 * (y_true - y_pred)\n",
        " \n",
        "                # Neuron o1\n",
        "                dypred_dw5 = h1 * derivSigmoid(sum_o1)\n",
        "                dypred_dw6 = h2 * derivSigmoid(sum_o1)\n",
        "                dypred_db3 = derivSigmoid(sum_o1)\n",
        " \n",
        "                dypred_dh1 = self.w5 * derivSigmoid(sum_o1)\n",
        "                dypred_dh2 = self.w6 * derivSigmoid(sum_o1)\n",
        " \n",
        "                # Neuron h1\n",
        "                dh1_dw1 = x[0] * derivSigmoid(sum_h1)\n",
        "                dh1_dw2 = x[1] * derivSigmoid(sum_h1)\n",
        "                dh1_db1 = derivSigmoid(sum_h1)\n",
        " \n",
        "                # Neuron h2\n",
        "                dh2_dw3 = x[0] * derivSigmoid(sum_h2)\n",
        "                dh2_dw4 = x[1] * derivSigmoid(sum_h2)\n",
        "                dh2_db2 = derivSigmoid(sum_h2)\n",
        " \n",
        "                \"\"\" Weights and bias updating \"\"\"\n",
        "                # Neuron h1\n",
        "                self.w1 -= learn_rate * dL_dypred * dypred_dh1 * dh1_dw1\n",
        "                self.w2 -= learn_rate * dL_dypred * dypred_dh1 * dh1_dw2\n",
        "                self.b1 -= learn_rate * dL_dypred * dypred_dh1 * dh1_db1\n",
        " \n",
        "                # Neuron h2\n",
        "                self.w3 -= learn_rate * dL_dypred * dypred_dh2 * dh2_dw3\n",
        "                self.w4 -= learn_rate * dL_dypred * dypred_dh2 * dh2_dw4\n",
        "                self.b2 -= learn_rate * dL_dypred * dypred_dh2 * dh2_db2\n",
        " \n",
        "                # Neuron o1\n",
        "                self.w5 -= learn_rate * dL_dypred * dypred_dw5\n",
        "                self.w6 -= learn_rate * dL_dypred * dypred_dw6\n",
        "                self.b3 -= learn_rate * dL_dypred * dypred_db3\n",
        " \n",
        "            \"\"\" Loss calculation \"\"\"\n",
        "            self.ypreds = np.apply_along_axis(self.feedforward, 1, data) \n",
        "            self.loss.append(mseLoss(all_y_trues, self.ypreds))"
      ],
      "execution_count": 36,
      "outputs": []
    },
    {
      "cell_type": "code",
      "metadata": {
        "id": "IwhxyDtqhNXy",
        "outputId": "4184f302-b254-4707-c0eb-5377f68c7235",
        "colab": {
          "base_uri": "https://localhost:8080/"
        }
      },
      "source": [
        "data = np.array([\n",
        "    [-2, -1],    # Alice\n",
        "    [25, 6],     # Bob\n",
        "    [17, 4],     # Charlie\n",
        "    [-15, -6], # Diana\n",
        "])\n",
        " \n",
        "all_y_trues = np.array([\n",
        "    1, # Alice\n",
        "    0, # Bob\n",
        "    0, # Charlie\n",
        "    1, # Diana\n",
        "])\n",
        " \n",
        "network = NeuralNetwork()\n",
        "network.train(data, all_y_trues)"
      ],
      "execution_count": 37,
      "outputs": [
        {
          "output_type": "stream",
          "text": [
            "100%|██████████| 1000/1000 [00:00<00:00, 1943.95it/s]\n"
          ],
          "name": "stderr"
        }
      ]
    },
    {
      "cell_type": "code",
      "metadata": {
        "id": "4BRHHNms89Do"
      },
      "source": [
        "for index in range(len(network.ypreds)):\n",
        "  network.confMatrix[all_y_trues[index]][int(np.around(network.ypreds[index]))] += 1"
      ],
      "execution_count": 38,
      "outputs": []
    },
    {
      "cell_type": "code",
      "metadata": {
        "id": "fsFaD0N9htuH",
        "outputId": "c4b7bf8c-1cb4-4640-cb41-27c8a389f594",
        "colab": {
          "base_uri": "https://localhost:8080/"
        }
      },
      "source": [
        "network.confMatrix"
      ],
      "execution_count": 39,
      "outputs": [
        {
          "output_type": "execute_result",
          "data": {
            "text/plain": [
              "[[2, 0], [0, 2]]"
            ]
          },
          "metadata": {
            "tags": []
          },
          "execution_count": 39
        }
      ]
    },
    {
      "cell_type": "code",
      "metadata": {
        "id": "2zpwu7vwEpOK",
        "outputId": "f223d9aa-4fdb-45d6-c339-2bd60e93ab08",
        "colab": {
          "base_uri": "https://localhost:8080/"
        }
      },
      "source": [
        "np.mean([network.confMatrix[i][i] for i in range(2)])"
      ],
      "execution_count": 42,
      "outputs": [
        {
          "output_type": "execute_result",
          "data": {
            "text/plain": [
              "2.0"
            ]
          },
          "metadata": {
            "tags": []
          },
          "execution_count": 42
        }
      ]
    },
    {
      "cell_type": "code",
      "metadata": {
        "id": "lceJLsu5GcGQ",
        "outputId": "329fe154-b05e-415a-aeba-3af9415f1f03",
        "colab": {
          "base_uri": "https://localhost:8080/",
          "height": 282
        }
      },
      "source": [
        "plt.plot(network.loss, label='loss')\n",
        "plt.legend()"
      ],
      "execution_count": 43,
      "outputs": [
        {
          "output_type": "execute_result",
          "data": {
            "text/plain": [
              "<matplotlib.legend.Legend at 0x7f6696867c50>"
            ]
          },
          "metadata": {
            "tags": []
          },
          "execution_count": 43
        },
        {
          "output_type": "display_data",
          "data": {
            "image/png": "[encoded data removed]",
            "text/plain": [
              "<Figure size 432x288 with 1 Axes>"
            ]
          },
          "metadata": {
            "tags": [],
            "needs_background": "light"
          }
        }
      ]
    },
    {
      "cell_type": "code",
      "metadata": {
        "id": "KOYTROUKG3rr"
      },
      "source": [
        ""
      ],
      "execution_count": null,
      "outputs": []
    }
  ]
}