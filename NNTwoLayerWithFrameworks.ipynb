{
  "nbformat": 4,
  "nbformat_minor": 0,
  "metadata": {
    "colab": {
      "name": "Untitled1.ipynb",
      "provenance": [],
      "authorship_tag": "ABX9TyPmUVrB+TXKI6ikEz8mZ/L6",
      "include_colab_link": true
    },
    "kernelspec": {
      "name": "python3",
      "display_name": "Python 3"
    }
  },
  "cells": [
    {
      "cell_type": "markdown",
      "metadata": {
        "id": "view-in-github",
        "colab_type": "text"
      },
      "source": [
        "<a href=\"https://colab.research.google.com/github/ImmortalizedInHearts/NeuralNetwork/blob/main/NNTwoLayerWithFrameworks.ipynb\" target=\"_parent\"><img src=\"https://colab.research.google.com/assets/colab-badge.svg\" alt=\"Open In Colab\"/></a>"
      ]
    },
    {
      "cell_type": "code",
      "metadata": {
        "id": "HeWLQmwv8ILP"
      },
      "source": [
        "import numpy as np\n",
        "import scipy.io\n",
        "import matplotlib.pyplot as plt\n",
        "import sklearn\n",
        "\n",
        "from tqdm import tqdm\n",
        "from tensorflow import keras\n",
        "from keras.models import Sequential, Model\n",
        "from keras.layers import Dense, Input\n",
        "from keras.optimizers import Adam, RMSprop"
      ],
      "execution_count": 67,
      "outputs": []
    },
    {
      "cell_type": "code",
      "metadata": {
        "id": "Dw5ZpyFJ8MXQ"
      },
      "source": [
        "mat = scipy.io.loadmat('data.mat')\n",
        "xTrain = np.array(mat['data']['test'][0][0][0][0][0])\n",
        "yTrain = np.array(mat['data']['test'][0][0][0][0][1])\n",
        "\n",
        "xTest = np.array(mat['data']['training'][0][0][0][0][0])\n",
        "yTest = np.array(mat['data']['training'][0][0][0][0][1])\n",
        "\n",
        "xValidation = np.array(mat['data']['validation'][0][0][0][0][1])\n",
        "yValidation = np.array(mat['data']['validation'][0][0][0][0][0])"
      ],
      "execution_count": 68,
      "outputs": []
    },
    {
      "cell_type": "code",
      "metadata": {
        "id": "jMNv7bGO_qqx",
        "colab": {
          "base_uri": "https://localhost:8080/"
        },
        "outputId": "e5b519ae-bae0-40c5-fc4f-2037973bbec2"
      },
      "source": [
        "input = Input(shape=(256,))\n",
        "H = Dense(128, activation='sigmoid')(input)\n",
        "H = Dense(10, activation='softmax')(H)\n",
        "model = Model(input, H)\n",
        "model.compile(\n",
        "    optimizer='Adam',\n",
        "    loss='categorical_crossentropy',\n",
        "    metrics='accuracy'\n",
        ")\n",
        "model.summary()"
      ],
      "execution_count": 69,
      "outputs": [
        {
          "output_type": "stream",
          "text": [
            "Model: \"functional_3\"\n",
            "_________________________________________________________________\n",
            "Layer (type)                 Output Shape              Param #   \n",
            "=================================================================\n",
            "input_3 (InputLayer)         [(None, 256)]             0         \n",
            "_________________________________________________________________\n",
            "dense_6 (Dense)              (None, 128)               32896     \n",
            "_________________________________________________________________\n",
            "dense_7 (Dense)              (None, 10)                1290      \n",
            "=================================================================\n",
            "Total params: 34,186\n",
            "Trainable params: 34,186\n",
            "Non-trainable params: 0\n",
            "_________________________________________________________________\n"
          ],
          "name": "stdout"
        }
      ]
    },
    {
      "cell_type": "code",
      "metadata": {
        "id": "iJXt6e1g9O5P",
        "outputId": "6b195e97-83b5-41ce-98e7-c49d89f746e6",
        "colab": {
          "base_uri": "https://localhost:8080/"
        }
      },
      "source": [
        "myModel = model.fit(\n",
        "    xTrain.T, yTrain.T, \n",
        "    batch_size=100,\n",
        "    epochs=20\n",
        "    )"
      ],
      "execution_count": 70,
      "outputs": [
        {
          "output_type": "stream",
          "text": [
            "Epoch 1/20\n",
            "90/90 [==============================] - 0s 2ms/step - loss: 1.5651 - accuracy: 0.6450\n",
            "Epoch 2/20\n",
            "90/90 [==============================] - 0s 2ms/step - loss: 0.7505 - accuracy: 0.8679\n",
            "Epoch 3/20\n",
            "90/90 [==============================] - 0s 2ms/step - loss: 0.4754 - accuracy: 0.9072\n",
            "Epoch 4/20\n",
            "90/90 [==============================] - 0s 2ms/step - loss: 0.3566 - accuracy: 0.9242\n",
            "Epoch 5/20\n",
            "90/90 [==============================] - 0s 2ms/step - loss: 0.2944 - accuracy: 0.9339\n",
            "Epoch 6/20\n",
            "90/90 [==============================] - 0s 2ms/step - loss: 0.2529 - accuracy: 0.9410\n",
            "Epoch 7/20\n",
            "90/90 [==============================] - 0s 2ms/step - loss: 0.2259 - accuracy: 0.9437\n",
            "Epoch 8/20\n",
            "90/90 [==============================] - 0s 2ms/step - loss: 0.2051 - accuracy: 0.9502\n",
            "Epoch 9/20\n",
            "90/90 [==============================] - 0s 2ms/step - loss: 0.1887 - accuracy: 0.9546\n",
            "Epoch 10/20\n",
            "90/90 [==============================] - 0s 2ms/step - loss: 0.1751 - accuracy: 0.9568\n",
            "Epoch 11/20\n",
            "90/90 [==============================] - 0s 2ms/step - loss: 0.1640 - accuracy: 0.9590\n",
            "Epoch 12/20\n",
            "90/90 [==============================] - 0s 2ms/step - loss: 0.1547 - accuracy: 0.9609\n",
            "Epoch 13/20\n",
            "90/90 [==============================] - 0s 2ms/step - loss: 0.1454 - accuracy: 0.9631\n",
            "Epoch 14/20\n",
            "90/90 [==============================] - 0s 2ms/step - loss: 0.1386 - accuracy: 0.9647\n",
            "Epoch 15/20\n",
            "90/90 [==============================] - 0s 2ms/step - loss: 0.1307 - accuracy: 0.9676\n",
            "Epoch 16/20\n",
            "90/90 [==============================] - 0s 2ms/step - loss: 0.1248 - accuracy: 0.9693\n",
            "Epoch 17/20\n",
            "90/90 [==============================] - 0s 2ms/step - loss: 0.1190 - accuracy: 0.9709\n",
            "Epoch 18/20\n",
            "90/90 [==============================] - 0s 2ms/step - loss: 0.1132 - accuracy: 0.9721\n",
            "Epoch 19/20\n",
            "90/90 [==============================] - 0s 2ms/step - loss: 0.1084 - accuracy: 0.9733\n",
            "Epoch 20/20\n",
            "90/90 [==============================] - 0s 2ms/step - loss: 0.1032 - accuracy: 0.9743\n"
          ],
          "name": "stdout"
        }
      ]
    },
    {
      "cell_type": "code",
      "metadata": {
        "id": "LT828hW59odY",
        "outputId": "32d04c57-eeb6-4286-a398-563b1d610b99",
        "colab": {
          "base_uri": "https://localhost:8080/",
          "height": 301
        }
      },
      "source": [
        "plt.plot(myModel.history['loss'])\n",
        "plt.show()\n",
        "res = model.evaluate(xTest.T, yTest.T, batch_size = 100)"
      ],
      "execution_count": 71,
      "outputs": [
        {
          "output_type": "display_data",
          "data": {
            "image/png": "[encoded data removed]",
            "text/plain": [
              "<Figure size 432x288 with 1 Axes>"
            ]
          },
          "metadata": {
            "tags": [],
            "needs_background": "light"
          }
        },
        {
          "output_type": "stream",
          "text": [
            "10/10 [==============================] - 0s 2ms/step - loss: 0.1738 - accuracy: 0.9480\n"
          ],
          "name": "stdout"
        }
      ]
    }
  ]
}