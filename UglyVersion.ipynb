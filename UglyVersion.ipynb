{
  "nbformat": 4,
  "nbformat_minor": 0,
  "metadata": {
    "colab": {
      "name": "Copy of Copy of Welcome To Colaboratory",
      "provenance": [],
      "collapsed_sections": [],
      "include_colab_link": true
    },
    "kernelspec": {
      "display_name": "Python 3",
      "name": "python3"
    }
  },
  "cells": [
    {
      "cell_type": "markdown",
      "metadata": {
        "id": "view-in-github",
        "colab_type": "text"
      },
      "source": [
        "<a href=\"https://colab.research.google.com/github/ImmortalizedInHearts/NeuralNetwork/blob/main/UglyVersion.ipynb\" target=\"_parent\"><img src=\"https://colab.research.google.com/assets/colab-badge.svg\" alt=\"Open In Colab\"/></a>"
      ]
    },
    {
      "cell_type": "code",
      "metadata": {
        "id": "Au9ShFVgZmA0"
      },
      "source": [
        "import scipy.io\n",
        "import matplotlib.pyplot as plt\n",
        "import numpy as np\n",
        "import matplotlib.cm as cm\n",
        "from tqdm import tqdm"
      ],
      "execution_count": 1,
      "outputs": []
    },
    {
      "cell_type": "code",
      "metadata": {
        "id": "46wLGARnZuQx"
      },
      "source": [
        "mat = scipy.io.loadmat('data.mat')\n",
        "trainInputs = np.array(mat['data']['training'][0][0][0][0][0])\n",
        "trainTargets = np.array(mat['data']['training'][0][0][0][0][1])\n",
        "testInputs = np.array(mat['data']['test'][0][0][0][0][0])\n",
        "testTargets = np.array(mat['data']['test'][0][0][0][0][1])\n",
        "validationInputs = np.array(mat['data']['validation'][0][0][0][0][1])\n",
        "validationTargets = np.array(mat['data']['validation'][0][0][0][0][0])\n",
        "\n",
        "train = [trainInputs, trainTargets]\n",
        "test = [testInputs, testTargets]\n",
        "validation = [validationInputs, validationTargets]\n",
        "        \n",
        "kParameters = np.zeros((256, 10))\n",
        "confMatrix = [[0 for x in range(10)] for i in range(10)]\n",
        "L1 = 0.1"
      ],
      "execution_count": 2,
      "outputs": []
    },
    {
      "cell_type": "code",
      "metadata": {
        "id": "hvVFT75ZZvxH"
      },
      "source": [
        "def linearRegressionClassifier(testData, k, l):\n",
        "  deltK = np.array([(sigmoid(k.T @ testData[0]) - testData[1]) @ testData[0].T])  \n",
        "  return k - 0.01 * (deltK.reshape(10, 256).T + l * np.sign(k))/ len(testData[0])"
      ],
      "execution_count": 3,
      "outputs": []
    },
    {
      "cell_type": "code",
      "metadata": {
        "id": "0lgrl4Z-aG6u"
      },
      "source": [
        "def lossFunction(data, k, l):\n",
        "  predict = sigmoid(data[0].T @ k)\n",
        "  cost = data[1].T[data[1].T == 1].T @ np.log(predict[data[1].T == 1]) \n",
        "  return -1 * cost /len(data[0]) + l * np.abs(k).mean() \n"
      ],
      "execution_count": 4,
      "outputs": []
    },
    {
      "cell_type": "code",
      "metadata": {
        "id": "UshNqwHWaYyP"
      },
      "source": [
        "def targetsSearch(k, trainData):\n",
        "  return np.array([np.argmax(x) for x in trainData[0].T @ k])"
      ],
      "execution_count": 5,
      "outputs": []
    },
    {
      "cell_type": "code",
      "metadata": {
        "id": "WkLwg8XAsuq_"
      },
      "source": [
        "def sigmoid(mtx):\n",
        "  return 1/(1 + np.exp(-mtx))"
      ],
      "execution_count": 6,
      "outputs": []
    },
    {
      "cell_type": "code",
      "metadata": {
        "id": "GEo3Xbd2aO8Z"
      },
      "source": [
        "costListTrain = list()\n",
        "costListTest = list()\n",
        "costListValidation = list()\n",
        "\n",
        "for i in tqdm(range(6000)):\n",
        "  kParameters = linearRegressionClassifier(test, kParameters, L1)\n",
        "  costListTrain.append(lossFunction(train, kParameters, L1))\n",
        "  costListTest.append(lossFunction(test, kParameters, L1))\n",
        "  costListValidation.append(lossFunction(validation, kParameters, L1))"
      ],
      "execution_count": null,
      "outputs": []
    },
    {
      "cell_type": "code",
      "metadata": {
        "id": "qYaYto6GaVYN"
      },
      "source": [
        "targets = targetsSearch(kParameters, train) \n",
        "\n",
        "for index in range(len(targets)):\n",
        "  confMatrix[list(train[1].T[index]).index(1)][targets[index]] += 1"
      ],
      "execution_count": null,
      "outputs": []
    },
    {
      "cell_type": "code",
      "metadata": {
        "id": "-6Iq9ssFmoU0",
        "outputId": "dd4554d6-8948-470e-eaf6-b25dcedfc586",
        "colab": {
          "base_uri": "https://localhost:8080/",
          "height": 182
        }
      },
      "source": [
        "confMatrix"
      ],
      "execution_count": null,
      "outputs": [
        {
          "output_type": "execute_result",
          "data": {
            "text/plain": [
              "[[94, 1, 0, 0, 1, 0, 1, 1, 2, 0],\n",
              " [1, 96, 0, 0, 0, 0, 0, 0, 3, 0],\n",
              " [1, 1, 90, 1, 0, 0, 2, 0, 5, 0],\n",
              " [2, 0, 0, 92, 0, 5, 0, 0, 0, 1],\n",
              " [0, 1, 1, 0, 91, 0, 1, 1, 0, 5],\n",
              " [1, 1, 1, 5, 0, 90, 0, 0, 1, 1],\n",
              " [1, 0, 0, 0, 1, 0, 98, 0, 0, 0],\n",
              " [0, 1, 0, 0, 0, 0, 0, 96, 0, 3],\n",
              " [0, 1, 2, 2, 0, 1, 0, 1, 92, 1],\n",
              " [0, 1, 1, 0, 3, 0, 0, 2, 4, 89]]"
            ]
          },
          "metadata": {
            "tags": []
          },
          "execution_count": 62
        }
      ]
    },
    {
      "cell_type": "code",
      "metadata": {
        "id": "TpELdkgobMfu",
        "outputId": "8e57abfc-83cb-475d-ecc3-e14119e6bfab",
        "colab": {
          "base_uri": "https://localhost:8080/",
          "height": 33
        }
      },
      "source": [
        "np.mean([confMatrix[i][i] for i in range(10)])"
      ],
      "execution_count": null,
      "outputs": [
        {
          "output_type": "execute_result",
          "data": {
            "text/plain": [
              "92.8"
            ]
          },
          "metadata": {
            "tags": []
          },
          "execution_count": 39
        }
      ]
    },
    {
      "cell_type": "code",
      "metadata": {
        "id": "w9XqaDa8ajAy",
        "outputId": "9a6621ac-9bf3-4258-a260-395717d0a97a",
        "colab": {
          "base_uri": "https://localhost:8080/",
          "height": 282
        }
      },
      "source": [
        "plt.plot(costListTest, label='test')\n",
        "plt.legend()"
      ],
      "execution_count": null,
      "outputs": [
        {
          "output_type": "execute_result",
          "data": {
            "text/plain": [
              "<matplotlib.legend.Legend at 0x7f9a64531c88>"
            ]
          },
          "metadata": {
            "tags": []
          },
          "execution_count": 40
        },
        {
          "output_type": "display_data",
          "data": {
            "image/png": "[encoded data removed]",
            "text/plain": [
              "<Figure size 432x288 with 1 Axes>"
            ]
          },
          "metadata": {
            "tags": [],
            "needs_background": "light"
          }
        }
      ]
    },
    {
      "cell_type": "code",
      "metadata": {
        "id": "KSdhZrsJi0TK",
        "outputId": "d8adb9c4-7124-4d2f-9863-c6e21814587d",
        "colab": {
          "base_uri": "https://localhost:8080/",
          "height": 282
        }
      },
      "source": [
        "plt.plot(costListTrain, label='train')\n",
        "plt.plot(costListValidation, label='validation')\n",
        "plt.legend()"
      ],
      "execution_count": null,
      "outputs": [
        {
          "output_type": "execute_result",
          "data": {
            "text/plain": [
              "<matplotlib.legend.Legend at 0x7f9a644ed630>"
            ]
          },
          "metadata": {
            "tags": []
          },
          "execution_count": 41
        },
        {
          "output_type": "display_data",
          "data": {
            "image/png": "[encoded data removed]",
            "text/plain": [
              "<Figure size 432x288 with 1 Axes>"
            ]
          },
          "metadata": {
            "tags": [],
            "needs_background": "light"
          }
        }
      ]
    },
    {
      "cell_type": "code",
      "metadata": {
        "id": "AmZKljZWbnm3"
      },
      "source": [
        ""
      ],
      "execution_count": null,
      "outputs": []
    }
  ]
}