{
  "nbformat": 4,
  "nbformat_minor": 0,
  "metadata": {
    "colab": {
      "name": "Untitled1.ipynb",
      "provenance": [],
      "authorship_tag": "ABX9TyPnlZekHiaVK0IeQZjIOhjn",
      "include_colab_link": true
    },
    "kernelspec": {
      "name": "python3",
      "display_name": "Python 3"
    }
  },
  "cells": [
    {
      "cell_type": "markdown",
      "metadata": {
        "id": "view-in-github",
        "colab_type": "text"
      },
      "source": [
        "<a href=\"https://colab.research.google.com/github/ImmortalizedInHearts/NeuralNetwork/blob/main/lab5.ipynb\" target=\"_parent\"><img src=\"https://colab.research.google.com/assets/colab-badge.svg\" alt=\"Open In Colab\"/></a>"
      ]
    },
    {
      "cell_type": "code",
      "metadata": {
        "id": "HeWLQmwv8ILP"
      },
      "source": [
        "import numpy as np\n",
        "import scipy.io\n",
        "import matplotlib.pyplot as plt\n",
        "\n",
        "from tqdm import tqdm"
      ],
      "execution_count": 1,
      "outputs": []
    },
    {
      "cell_type": "code",
      "metadata": {
        "id": "Dw5ZpyFJ8MXQ"
      },
      "source": [
        "mat = scipy.io.loadmat('data.mat')\n",
        "trainInputs = np.array(mat['data']['test'][0][0][0][0][0])\n",
        "trainTargets = np.array(mat['data']['test'][0][0][0][0][1])\n",
        "\n",
        "testInputs = np.array(mat['data']['training'][0][0][0][0][0])\n",
        "testTargets = np.array(mat['data']['training'][0][0][0][0][1])\n",
        "\n",
        "validationInputs = np.array(mat['data']['validation'][0][0][0][0][1])\n",
        "validationTargets = np.array(mat['data']['validation'][0][0][0][0][0])"
      ],
      "execution_count": 2,
      "outputs": []
    },
    {
      "cell_type": "code",
      "metadata": {
        "id": "NPRKNRcj8YH-"
      },
      "source": [
        "def sigmoid(x):\n",
        "  return 1 / (1 + np.exp(-x))\n",
        "\n",
        "def softmax(x):\n",
        "  return np.exp(x) / np.exp(x).sum(axis=0)\n",
        "\n",
        "def crossEntropyLoss(y_true, y_pred):\n",
        "  loss = -y_true[y_true == 1] @ np.log(y_pred[y_true == 1] + 1e-15)\n",
        "  return loss / len(y_true)\n",
        "\n",
        "def targetsSearch(data):\n",
        "  predict = NN.feedforward(data)[1]\n",
        "  return [np.argmax(item) for item in predict.T]\n"
      ],
      "execution_count": 30,
      "outputs": []
    },
    {
      "cell_type": "code",
      "metadata": {
        "id": "4JGm3ig68qdy"
      },
      "source": [
        "class NeuralNetwork:\n",
        "\n",
        "  def __init__(self, k):\n",
        "\n",
        "    self.k = k\n",
        "\n",
        "    self.loss = list()\n",
        "  \n",
        "  def feedforward(self, data):\n",
        "    h = sigmoid(self.k[0] @ data)\n",
        "    y = softmax(self.k[1] @ h)\n",
        "    return [h,y]\n",
        "  \n",
        "  def train(self, data, y_true):\n",
        "    alpha = 0.01\n",
        "    epochs = 1000\n",
        "\n",
        "    for epoch in tqdm(range(epochs)):\n",
        "\n",
        "      forward = self.feedforward(data) \n",
        "      hidden = forward[0]\n",
        "      predict = forward[1]\n",
        "\n",
        "      \"\"\"backprop\"\"\"\n",
        "      derivLoss = -y_true / predict\n",
        "      derivSoftmax = predict * (derivLoss - (derivLoss * predict).sum(axis=0))\n",
        "      dL_dk2 = derivSoftmax @ hidden.T\n",
        "      \n",
        "\n",
        "      derivHidden = self.k[1].T @ derivSoftmax\n",
        "      derivSigmoid = hidden * (1 - hidden) * derivHidden\n",
        "      dL_dk1 = derivSigmoid @ data.T \n",
        "      \n",
        "\n",
        "      self.k[0] -= alpha * dL_dk1 / len(data)\n",
        "      self.k[1] -= alpha * dL_dk2 / len(data)\n",
        "\n",
        "      self.loss.append(crossEntropyLoss(y_true.T, predict.T))"
      ],
      "execution_count": 76,
      "outputs": []
    },
    {
      "cell_type": "code",
      "metadata": {
        "id": "jMNv7bGO_qqx",
        "outputId": "8b87c7d1-72dc-4066-95cc-245a26cba04a",
        "colab": {
          "base_uri": "https://localhost:8080/"
        }
      },
      "source": [
        "kParameters = [np.random.randn(128, 256) * np.sqrt(2/256), np.random.randn(10, 128) * np.sqrt(2/128)]\n",
        "NN = NeuralNetwork(kParameters)\n",
        "NN.train(trainInputs, trainTargets)"
      ],
      "execution_count": 77,
      "outputs": [
        {
          "output_type": "stream",
          "text": [
            "100%|██████████| 1000/1000 [01:53<00:00,  8.82it/s]\n"
          ],
          "name": "stderr"
        }
      ]
    },
    {
      "cell_type": "code",
      "metadata": {
        "id": "Aw3K7dRd_0_2"
      },
      "source": [
        "confMatrixTest = [[0 for i in range(10)] for j in range(10)]\n",
        "confMatrixTrain = [[0 for i in range(10)] for j in range(10)]\n",
        "confMatrixValidation = [[0 for i in range(10)] for j in range(10)]\n",
        "\n",
        "testPredictions = targetsSearch(testInputs)\n",
        "validationPredictions = targetsSearch(validationInputs)\n",
        "trainPredictions = targetsSearch(trainInputs)\n",
        "\n",
        "\n",
        "for index in range(len(trainPredictions)):\n",
        "  if index < 1000:\n",
        "    confMatrixTest[np.argmax(testTargets.T[index])][testPredictions[index]] += 1\n",
        "    confMatrixValidation[np.argmax(validationTargets.T[index])][validationPredictions[index]] += 1\n",
        "  confMatrixTrain[np.argmax(trainTargets.T[index])][trainPredictions[index]] += 1"
      ],
      "execution_count": 78,
      "outputs": []
    },
    {
      "cell_type": "code",
      "metadata": {
        "id": "YfN4EqXE_7gb",
        "outputId": "fd84b265-4e48-4c33-fb4b-59fa2d912649",
        "colab": {
          "base_uri": "https://localhost:8080/"
        }
      },
      "source": [
        "print(np.mean([confMatrixTest[i][i] for i in range(10)]))\n",
        "confMatrixTest"
      ],
      "execution_count": 79,
      "outputs": [
        {
          "output_type": "stream",
          "text": [
            "93.9\n"
          ],
          "name": "stdout"
        },
        {
          "output_type": "execute_result",
          "data": {
            "text/plain": [
              "[[92, 1, 0, 0, 1, 1, 1, 1, 3, 0],\n",
              " [1, 97, 0, 0, 0, 0, 0, 0, 2, 0],\n",
              " [1, 1, 92, 0, 0, 0, 4, 0, 2, 0],\n",
              " [1, 0, 1, 90, 0, 3, 1, 0, 3, 1],\n",
              " [0, 1, 1, 0, 93, 0, 1, 0, 0, 4],\n",
              " [1, 1, 0, 2, 0, 93, 0, 0, 3, 0],\n",
              " [1, 0, 1, 0, 2, 0, 96, 0, 0, 0],\n",
              " [0, 0, 0, 0, 0, 0, 0, 98, 0, 2],\n",
              " [0, 1, 0, 0, 0, 1, 0, 1, 97, 0],\n",
              " [0, 1, 1, 0, 4, 0, 0, 2, 1, 91]]"
            ]
          },
          "metadata": {
            "tags": []
          },
          "execution_count": 79
        }
      ]
    },
    {
      "cell_type": "code",
      "metadata": {
        "id": "IR50xpXI_9Oi",
        "outputId": "23afe011-e295-411e-c7a2-75a587dfa021",
        "colab": {
          "base_uri": "https://localhost:8080/"
        }
      },
      "source": [
        "print(np.mean([confMatrixValidation[i][i] for i in range(10)]))\n",
        "confMatrixValidation"
      ],
      "execution_count": 80,
      "outputs": [
        {
          "output_type": "stream",
          "text": [
            "94.1\n"
          ],
          "name": "stdout"
        },
        {
          "output_type": "execute_result",
          "data": {
            "text/plain": [
              "[[95, 0, 0, 0, 2, 0, 1, 0, 2, 0],\n",
              " [0, 97, 0, 1, 0, 0, 0, 0, 2, 0],\n",
              " [0, 0, 93, 1, 1, 0, 1, 0, 4, 0],\n",
              " [0, 0, 1, 93, 0, 5, 0, 0, 1, 0],\n",
              " [0, 1, 0, 0, 93, 0, 6, 0, 0, 0],\n",
              " [1, 1, 2, 3, 0, 87, 1, 2, 3, 0],\n",
              " [0, 1, 1, 0, 2, 0, 96, 0, 0, 0],\n",
              " [0, 0, 0, 1, 0, 0, 0, 95, 0, 4],\n",
              " [0, 2, 0, 0, 1, 2, 0, 0, 95, 0],\n",
              " [0, 0, 0, 1, 2, 0, 0, 0, 0, 97]]"
            ]
          },
          "metadata": {
            "tags": []
          },
          "execution_count": 80
        }
      ]
    },
    {
      "cell_type": "code",
      "metadata": {
        "id": "428QtRal_-59",
        "outputId": "eb7be37e-8dc1-4d15-e9d9-5d24b736f188",
        "colab": {
          "base_uri": "https://localhost:8080/"
        }
      },
      "source": [
        "print(np.mean([confMatrixTrain[i][i] for i in range(10)]))\n",
        "confMatrixTrain"
      ],
      "execution_count": 81,
      "outputs": [
        {
          "output_type": "stream",
          "text": [
            "861.2\n"
          ],
          "name": "stdout"
        },
        {
          "output_type": "execute_result",
          "data": {
            "text/plain": [
              "[[878, 4, 2, 0, 4, 5, 4, 0, 3, 0],\n",
              " [1, 870, 1, 8, 5, 1, 2, 2, 10, 0],\n",
              " [4, 7, 839, 7, 3, 8, 16, 4, 10, 2],\n",
              " [3, 0, 13, 845, 0, 20, 3, 8, 5, 3],\n",
              " [0, 5, 2, 0, 869, 0, 10, 1, 0, 13],\n",
              " [6, 2, 2, 18, 3, 854, 4, 2, 9, 0],\n",
              " [5, 7, 5, 0, 7, 3, 873, 0, 0, 0],\n",
              " [0, 1, 0, 1, 1, 0, 0, 879, 0, 18],\n",
              " [3, 15, 5, 7, 2, 21, 2, 2, 839, 4],\n",
              " [1, 2, 0, 0, 9, 0, 0, 17, 5, 866]]"
            ]
          },
          "metadata": {
            "tags": []
          },
          "execution_count": 81
        }
      ]
    },
    {
      "cell_type": "code",
      "metadata": {
        "id": "u5Mt-FUYAB2_",
        "outputId": "2df0a195-1fb4-49c6-f52d-4f369b14b99a",
        "colab": {
          "base_uri": "https://localhost:8080/",
          "height": 281
        }
      },
      "source": [
        "plt.plot(NN.loss, label='loss')\n",
        "plt.legend()"
      ],
      "execution_count": 82,
      "outputs": [
        {
          "output_type": "execute_result",
          "data": {
            "text/plain": [
              "<matplotlib.legend.Legend at 0x7f276ba8a748>"
            ]
          },
          "metadata": {
            "tags": []
          },
          "execution_count": 82
        },
        {
          "output_type": "display_data",
          "data": {
            "image/png": "[encoded data removed]",
            "text/plain": [
              "<Figure size 432x288 with 1 Axes>"
            ]
          },
          "metadata": {
            "tags": [],
            "needs_background": "light"
          }
        }
      ]
    },
    {
      "cell_type": "code",
      "metadata": {
        "id": "9rbCYmjbB0qV"
      },
      "source": [
        ""
      ],
      "execution_count": null,
      "outputs": []
    }
  ]
}