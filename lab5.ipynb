{
  "nbformat": 4,
  "nbformat_minor": 0,
  "metadata": {
    "colab": {
      "name": "Untitled1.ipynb",
      "provenance": [],
      "authorship_tag": "ABX9TyOQKMz3dr1v4w4yahRGDsqI",
      "include_colab_link": true
    },
    "kernelspec": {
      "name": "python3",
      "display_name": "Python 3"
    }
  },
  "cells": [
    {
      "cell_type": "markdown",
      "metadata": {
        "id": "view-in-github",
        "colab_type": "text"
      },
      "source": [
        "<a href=\"https://colab.research.google.com/github/ImmortalizedInHearts/NeuralNetwork/blob/main/lab5.ipynb\" target=\"_parent\"><img src=\"https://colab.research.google.com/assets/colab-badge.svg\" alt=\"Open In Colab\"/></a>"
      ]
    },
    {
      "cell_type": "code",
      "metadata": {
        "id": "HeWLQmwv8ILP"
      },
      "source": [
        "import numpy as np\n",
        "import scipy.io\n",
        "import matplotlib.pyplot as plt\n",
        "\n",
        "from tqdm import tqdm"
      ],
      "execution_count": 1,
      "outputs": []
    },
    {
      "cell_type": "code",
      "metadata": {
        "id": "Dw5ZpyFJ8MXQ"
      },
      "source": [
        "mat = scipy.io.loadmat('data.mat')\n",
        "trainInputs = np.array(mat['data']['test'][0][0][0][0][0])\n",
        "trainTargets = np.array(mat['data']['test'][0][0][0][0][1])\n",
        "\n",
        "testInputs = np.array(mat['data']['training'][0][0][0][0][0])\n",
        "testTargets = np.array(mat['data']['training'][0][0][0][0][1])\n",
        "\n",
        "validationInputs = np.array(mat['data']['validation'][0][0][0][0][1])\n",
        "validationTargets = np.array(mat['data']['validation'][0][0][0][0][0])"
      ],
      "execution_count": 2,
      "outputs": []
    },
    {
      "cell_type": "code",
      "metadata": {
        "id": "NPRKNRcj8YH-"
      },
      "source": [
        "def sigmoid(x):\n",
        "  return 1 / (1 + np.exp(-x))\n",
        "\n",
        "def softmax(x):\n",
        "  return np.exp(x) / np.exp(x).sum(axis=0)\n",
        "\n",
        "def crossEntropyLoss(y_true, y_pred):\n",
        "  #loss = -y_true * np.log(y_pred + 1e-15)\n",
        "  #return np.sum(loss) / len(y_true)\n",
        "  loss = -y_true[y_true == 1] @ np.log(y_pred[y_true == 1] + 1e-15)\n",
        "  return loss / len(y_true)\n",
        "\n",
        "def targetsSearch(data):\n",
        "  predict = NN.feedforward(data)[1]\n",
        "  return [np.argmax(item) for item in predict.T]"
      ],
      "execution_count": 30,
      "outputs": []
    },
    {
      "cell_type": "code",
      "metadata": {
        "id": "4JGm3ig68qdy"
      },
      "source": [
        "class NeuralNetwork:\n",
        "\n",
        "  def __init__(self, k):\n",
        "\n",
        "    self.k = k\n",
        "\n",
        "    self.loss = list()\n",
        "  \n",
        "  def feedforward(self, data):\n",
        "    h = sigmoid(self.k[0] @ data)\n",
        "    y = softmax(self.k[1] @ h)\n",
        "    return [h,y]\n",
        "  \n",
        "  def train(self, data, y_true):\n",
        "    alpha = 0.75\n",
        "    epochs = 2000\n",
        "\n",
        "    for epoch in tqdm(range(epochs)):\n",
        "\n",
        "      forward = self.feedforward(data) \n",
        "      hidden = forward[0]\n",
        "      predict = forward[1]\n",
        "\n",
        "      \"\"\"backprop\"\"\"\n",
        "      derivLoss = -y_true / predict\n",
        "      derivSoftmax = predict * (derivLoss - (derivLoss * predict).sum(axis=0))\n",
        "      dL_dk2 = derivSoftmax @ hidden.T\n",
        "      \n",
        "\n",
        "      derivHidden = self.k[1].T @ derivSoftmax\n",
        "      derivSigmoid = hidden * (1 - hidden) * derivHidden\n",
        "      dL_dk1 = derivSigmoid @ data.T \n",
        "      \n",
        "\n",
        "      self.k[0] -= alpha * dL_dk1 / len(data)\n",
        "      self.k[1] -= alpha * dL_dk2 / len(data)\n",
        "\n",
        "      self.loss.append(crossEntropyLoss(y_true.T, predict.T))"
      ],
      "execution_count": 44,
      "outputs": []
    },
    {
      "cell_type": "code",
      "metadata": {
        "id": "jMNv7bGO_qqx",
        "outputId": "fc4a412e-f1d5-43e6-b854-7c8691b44e98",
        "colab": {
          "base_uri": "https://localhost:8080/"
        }
      },
      "source": [
        "kParameters = [np.random.randn(128, 256) * np.sqrt(2/256), np.random.randn(10, 128) * np.sqrt(2/128)]\n",
        "NN = NeuralNetwork(kParameters)\n",
        "NN.train(trainInputs, trainTargets)"
      ],
      "execution_count": 45,
      "outputs": [
        {
          "output_type": "stream",
          "text": [
            "100%|██████████| 2000/2000 [03:41<00:00,  9.03it/s]\n"
          ],
          "name": "stderr"
        }
      ]
    },
    {
      "cell_type": "code",
      "metadata": {
        "id": "Aw3K7dRd_0_2"
      },
      "source": [
        "confMatrixTest = [[0 for i in range(10)] for j in range(10)]\n",
        "confMatrixTrain = [[0 for i in range(10)] for j in range(10)]\n",
        "confMatrixValidation = [[0 for i in range(10)] for j in range(10)]\n",
        "\n",
        "testPredictions = targetsSearch(testInputs)\n",
        "validationPredictions = targetsSearch(validationInputs)\n",
        "trainPredictions = targetsSearch(trainInputs)\n",
        "\n",
        "\n",
        "for index in range(len(trainPredictions)):\n",
        "  if index < 1000:\n",
        "    confMatrixTest[np.argmax(testTargets.T[index])][testPredictions[index]] += 1\n",
        "    confMatrixValidation[np.argmax(validationTargets.T[index])][validationPredictions[index]] += 1\n",
        "  confMatrixTrain[np.argmax(trainTargets.T[index])][trainPredictions[index]] += 1"
      ],
      "execution_count": 46,
      "outputs": []
    },
    {
      "cell_type": "code",
      "metadata": {
        "id": "YfN4EqXE_7gb",
        "outputId": "c79b3542-3daa-4591-dcd1-0ec00f2cef29",
        "colab": {
          "base_uri": "https://localhost:8080/"
        }
      },
      "source": [
        "print(np.mean([confMatrixTest[i][i] for i in range(10)]))\n",
        "confMatrixTest"
      ],
      "execution_count": 47,
      "outputs": [
        {
          "output_type": "stream",
          "text": [
            "91.7\n"
          ],
          "name": "stdout"
        },
        {
          "output_type": "execute_result",
          "data": {
            "text/plain": [
              "[[92, 0, 2, 1, 1, 0, 2, 0, 2, 0],\n",
              " [0, 96, 1, 0, 1, 0, 1, 0, 1, 0],\n",
              " [0, 1, 89, 2, 0, 3, 2, 1, 2, 0],\n",
              " [1, 0, 4, 88, 0, 3, 1, 0, 1, 2],\n",
              " [0, 1, 1, 0, 89, 0, 2, 1, 0, 6],\n",
              " [0, 2, 2, 3, 0, 89, 1, 0, 3, 0],\n",
              " [2, 0, 1, 0, 1, 2, 94, 0, 0, 0],\n",
              " [0, 0, 3, 0, 0, 0, 0, 95, 0, 2],\n",
              " [0, 1, 2, 2, 0, 1, 0, 0, 93, 1],\n",
              " [0, 0, 1, 0, 5, 0, 0, 1, 1, 92]]"
            ]
          },
          "metadata": {
            "tags": []
          },
          "execution_count": 47
        }
      ]
    },
    {
      "cell_type": "code",
      "metadata": {
        "id": "IR50xpXI_9Oi",
        "outputId": "dde58351-3a75-464c-e462-17f9f4902ddf",
        "colab": {
          "base_uri": "https://localhost:8080/"
        }
      },
      "source": [
        "print(np.mean([confMatrixValidation[i][i] for i in range(10)]))\n",
        "confMatrixValidation"
      ],
      "execution_count": 48,
      "outputs": [
        {
          "output_type": "stream",
          "text": [
            "90.8\n"
          ],
          "name": "stdout"
        },
        {
          "output_type": "execute_result",
          "data": {
            "text/plain": [
              "[[91, 1, 3, 0, 1, 0, 4, 0, 0, 0],\n",
              " [0, 96, 0, 2, 0, 0, 0, 0, 1, 1],\n",
              " [0, 2, 88, 6, 0, 1, 0, 1, 2, 0],\n",
              " [2, 0, 4, 88, 0, 3, 0, 0, 3, 0],\n",
              " [0, 2, 0, 0, 89, 0, 7, 0, 0, 2],\n",
              " [2, 0, 0, 3, 0, 88, 0, 3, 4, 0],\n",
              " [1, 3, 2, 0, 2, 3, 89, 0, 0, 0],\n",
              " [0, 0, 0, 0, 0, 0, 0, 99, 0, 1],\n",
              " [0, 3, 2, 1, 0, 3, 1, 0, 88, 2],\n",
              " [0, 0, 1, 1, 2, 0, 0, 4, 0, 92]]"
            ]
          },
          "metadata": {
            "tags": []
          },
          "execution_count": 48
        }
      ]
    },
    {
      "cell_type": "code",
      "metadata": {
        "id": "428QtRal_-59",
        "outputId": "a0906a60-7fcc-4aea-89ba-75d08ada12b7",
        "colab": {
          "base_uri": "https://localhost:8080/"
        }
      },
      "source": [
        "print(np.mean([confMatrixTrain[i][i] for i in range(10)]))\n",
        "confMatrixTrain"
      ],
      "execution_count": 49,
      "outputs": [
        {
          "output_type": "stream",
          "text": [
            "882.5\n"
          ],
          "name": "stdout"
        },
        {
          "output_type": "execute_result",
          "data": {
            "text/plain": [
              "[[883, 4, 4, 0, 0, 1, 6, 1, 1, 0],\n",
              " [0, 882, 0, 2, 6, 1, 0, 0, 9, 0],\n",
              " [2, 2, 877, 4, 2, 2, 5, 1, 5, 0],\n",
              " [1, 0, 10, 873, 0, 4, 0, 5, 7, 0],\n",
              " [0, 1, 0, 0, 889, 0, 1, 0, 1, 8],\n",
              " [1, 0, 1, 0, 1, 896, 0, 0, 0, 1],\n",
              " [1, 5, 7, 0, 2, 0, 884, 0, 0, 1],\n",
              " [0, 0, 4, 0, 0, 0, 0, 895, 0, 1],\n",
              " [1, 5, 2, 15, 1, 3, 0, 4, 862, 7],\n",
              " [0, 1, 2, 0, 5, 0, 0, 3, 5, 884]]"
            ]
          },
          "metadata": {
            "tags": []
          },
          "execution_count": 49
        }
      ]
    },
    {
      "cell_type": "code",
      "metadata": {
        "id": "u5Mt-FUYAB2_",
        "outputId": "a1f7c2f5-085b-41aa-c27b-e640670ac5dc",
        "colab": {
          "base_uri": "https://localhost:8080/",
          "height": 281
        }
      },
      "source": [
        "plt.plot(NN.loss, label='loss')\n",
        "plt.legend()"
      ],
      "execution_count": 50,
      "outputs": [
        {
          "output_type": "execute_result",
          "data": {
            "text/plain": [
              "<matplotlib.legend.Legend at 0x7f276be522e8>"
            ]
          },
          "metadata": {
            "tags": []
          },
          "execution_count": 50
        },
        {
          "output_type": "display_data",
          "data": {
            "image/png": "[encoded data removed]",
            "text/plain": [
              "<Figure size 432x288 with 1 Axes>"
            ]
          },
          "metadata": {
            "tags": [],
            "needs_background": "light"
          }
        }
      ]
    },
    {
      "cell_type": "code",
      "metadata": {
        "id": "9rbCYmjbB0qV"
      },
      "source": [
        ""
      ],
      "execution_count": null,
      "outputs": []
    }
  ]
}